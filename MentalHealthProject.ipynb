{
 "cells": [
  {
   "cell_type": "code",
   "execution_count": 5,
   "metadata": {},
   "outputs": [],
   "source": [
    "import pandas as pd\n",
    "import numpy as np\n",
    "import matplotlib.pyplot as plt \n",
    "import  seaborn as sns\n"
   ]
  },
  {
   "cell_type": "code",
   "execution_count": 6,
   "metadata": {},
   "outputs": [],
   "source": [
    "import pymysql\n",
    "con = pymysql.connect(host = 'localhost', user = 'root', passwd = 'HajiasiFbabA1*', db ='mental_health')"
   ]
  },
  {
   "cell_type": "code",
   "execution_count": 7,
   "metadata": {},
   "outputs": [
    {
     "name": "stderr",
     "output_type": "stream",
     "text": [
      "C:\\Users\\hajia\\AppData\\Local\\Temp\\ipykernel_15192\\1791517792.py:1: UserWarning: pandas only supports SQLAlchemy connectable (engine/connection) or database string URI or sqlite3 DBAPI2 connection. Other DBAPI2 objects are not tested. Please consider using SQLAlchemy.\n",
      "  mh1 = pd.read_sql_query('select * from students', con)\n"
     ]
    }
   ],
   "source": [
    "mh1 = pd.read_sql_query('select * from students', con)"
   ]
  },
  {
   "cell_type": "code",
   "execution_count": 11,
   "metadata": {},
   "outputs": [
    {
     "data": {
      "text/html": [
       "<div>\n",
       "<style scoped>\n",
       "    .dataframe tbody tr th:only-of-type {\n",
       "        vertical-align: middle;\n",
       "    }\n",
       "\n",
       "    .dataframe tbody tr th {\n",
       "        vertical-align: top;\n",
       "    }\n",
       "\n",
       "    .dataframe thead th {\n",
       "        text-align: right;\n",
       "    }\n",
       "</style>\n",
       "<table border=\"1\" class=\"dataframe\">\n",
       "  <thead>\n",
       "    <tr style=\"text-align: right;\">\n",
       "      <th></th>\n",
       "      <th>inter_dom</th>\n",
       "      <th>region</th>\n",
       "      <th>gender</th>\n",
       "      <th>academic</th>\n",
       "      <th>age</th>\n",
       "      <th>age_cate</th>\n",
       "      <th>stay</th>\n",
       "      <th>stay_cate</th>\n",
       "      <th>japanese</th>\n",
       "      <th>japanese_cate</th>\n",
       "      <th>english</th>\n",
       "      <th>english_cate</th>\n",
       "      <th>intimate</th>\n",
       "      <th>religion</th>\n",
       "      <th>suicide</th>\n",
       "      <th>dep</th>\n",
       "      <th>deptype</th>\n",
       "      <th>todep</th>\n",
       "      <th>depsev</th>\n",
       "      <th>tosc</th>\n",
       "      <th>apd</th>\n",
       "      <th>ahome</th>\n",
       "      <th>aph</th>\n",
       "      <th>afear</th>\n",
       "      <th>acs</th>\n",
       "      <th>aguilt</th>\n",
       "      <th>amiscell</th>\n",
       "      <th>toas</th>\n",
       "      <th>partner</th>\n",
       "      <th>friends</th>\n",
       "      <th>parents</th>\n",
       "      <th>relative</th>\n",
       "      <th>profess</th>\n",
       "      <th>phone</th>\n",
       "      <th>doctor</th>\n",
       "      <th>reli</th>\n",
       "      <th>alone</th>\n",
       "      <th>others</th>\n",
       "      <th>internet</th>\n",
       "      <th>partner_bi</th>\n",
       "      <th>friends_bi</th>\n",
       "      <th>parents_bi</th>\n",
       "      <th>relative_bi</th>\n",
       "      <th>professional_bi</th>\n",
       "      <th>phone_bi</th>\n",
       "      <th>doctor_bi</th>\n",
       "      <th>religion_bi</th>\n",
       "      <th>alone_bi</th>\n",
       "      <th>others_bi</th>\n",
       "      <th>internet_bi</th>\n",
       "    </tr>\n",
       "  </thead>\n",
       "  <tbody>\n",
       "    <tr>\n",
       "      <th>0</th>\n",
       "      <td>0</td>\n",
       "      <td>0</td>\n",
       "      <td>0</td>\n",
       "      <td>0</td>\n",
       "      <td>0</td>\n",
       "      <td>0</td>\n",
       "      <td>0</td>\n",
       "      <td>0</td>\n",
       "      <td>0</td>\n",
       "      <td>0</td>\n",
       "      <td>0</td>\n",
       "      <td>0</td>\n",
       "      <td>0</td>\n",
       "      <td>0</td>\n",
       "      <td>0</td>\n",
       "      <td>0</td>\n",
       "      <td>0</td>\n",
       "      <td>0</td>\n",
       "      <td>0</td>\n",
       "      <td>0</td>\n",
       "      <td>0</td>\n",
       "      <td>0</td>\n",
       "      <td>0</td>\n",
       "      <td>0</td>\n",
       "      <td>0</td>\n",
       "      <td>0</td>\n",
       "      <td>0</td>\n",
       "      <td>0</td>\n",
       "      <td>0</td>\n",
       "      <td>0</td>\n",
       "      <td>0</td>\n",
       "      <td>0</td>\n",
       "      <td>0</td>\n",
       "      <td>0</td>\n",
       "      <td>0</td>\n",
       "      <td>0</td>\n",
       "      <td>0</td>\n",
       "      <td>0</td>\n",
       "      <td>0</td>\n",
       "      <td>0</td>\n",
       "      <td>0</td>\n",
       "      <td>0</td>\n",
       "      <td>0</td>\n",
       "      <td>0</td>\n",
       "      <td>0</td>\n",
       "      <td>0</td>\n",
       "      <td>0</td>\n",
       "      <td>0</td>\n",
       "      <td>0</td>\n",
       "      <td>0</td>\n",
       "    </tr>\n",
       "  </tbody>\n",
       "</table>\n",
       "</div>"
      ],
      "text/plain": [
       "   inter_dom  region  gender  academic  age  age_cate  stay  stay_cate  \\\n",
       "0          0       0       0         0    0         0     0          0   \n",
       "\n",
       "   japanese  japanese_cate  english  english_cate  intimate  religion  \\\n",
       "0         0              0        0             0         0         0   \n",
       "\n",
       "   suicide  dep  deptype  todep  depsev  tosc  apd  ahome  aph  afear  acs  \\\n",
       "0        0    0        0      0       0     0    0      0    0      0    0   \n",
       "\n",
       "   aguilt  amiscell  toas  partner  friends  parents  relative  profess  \\\n",
       "0       0         0     0        0        0        0         0        0   \n",
       "\n",
       "   phone  doctor  reli  alone  others  internet  partner_bi  friends_bi  \\\n",
       "0      0       0     0      0       0         0           0           0   \n",
       "\n",
       "   parents_bi  relative_bi  professional_bi  phone_bi  doctor_bi  religion_bi  \\\n",
       "0           0            0                0         0          0            0   \n",
       "\n",
       "   alone_bi  others_bi  internet_bi  \n",
       "0         0          0            0  "
      ]
     },
     "execution_count": 11,
     "metadata": {},
     "output_type": "execute_result"
    }
   ],
   "source": [
    "pd.set_option('display.max_columns',None)\n",
    "mh1.isnull().sum().to_frame().T"
   ]
  },
  {
   "cell_type": "code",
   "execution_count": 2,
   "metadata": {},
   "outputs": [],
   "source": [
    "import pandas as pd"
   ]
  },
  {
   "cell_type": "code",
   "execution_count": 15,
   "metadata": {},
   "outputs": [
    {
     "name": "stderr",
     "output_type": "stream",
     "text": [
      "C:\\Users\\hajia\\AppData\\Local\\Temp\\ipykernel_15192\\236051413.py:1: UserWarning: pandas only supports SQLAlchemy connectable (engine/connection) or database string URI or sqlite3 DBAPI2 connection. Other DBAPI2 objects are not tested. Please consider using SQLAlchemy.\n",
      "  students_by_region = pd.read_sql_query(\"\"\"select if(inter_dom = 'inter', region, 'Local hai bhai') as student_type, count(if(inter_dom = 'inter', region, 'Local hai bhai')) as num_of_students from students group by if(inter_dom = 'inter', region, 'Local hai bhai')\"\"\", con)\n"
     ]
    }
   ],
   "source": [
    "students_by_region = pd.read_sql_query(\"\"\"select if(inter_dom = 'inter', region, 'Local hai bhai') as student_type, count(if(inter_dom = 'inter', region, 'Local hai bhai')) as num_of_students from students group by if(inter_dom = 'inter', region, 'Local hai bhai')\"\"\", con)"
   ]
  },
  {
   "cell_type": "code",
   "execution_count": 8,
   "metadata": {},
   "outputs": [],
   "source": [
    "mh1.replace({'':np.nan}, inplace = True)"
   ]
  },
  {
   "cell_type": "code",
   "execution_count": 16,
   "metadata": {},
   "outputs": [
    {
     "data": {
      "text/html": [
       "<div>\n",
       "<style scoped>\n",
       "    .dataframe tbody tr th:only-of-type {\n",
       "        vertical-align: middle;\n",
       "    }\n",
       "\n",
       "    .dataframe tbody tr th {\n",
       "        vertical-align: top;\n",
       "    }\n",
       "\n",
       "    .dataframe thead th {\n",
       "        text-align: right;\n",
       "    }\n",
       "</style>\n",
       "<table border=\"1\" class=\"dataframe\">\n",
       "  <thead>\n",
       "    <tr style=\"text-align: right;\">\n",
       "      <th></th>\n",
       "      <th>inter_dom</th>\n",
       "      <th>region</th>\n",
       "      <th>gender</th>\n",
       "      <th>academic</th>\n",
       "      <th>age</th>\n",
       "      <th>age_cate</th>\n",
       "      <th>stay</th>\n",
       "      <th>stay_cate</th>\n",
       "      <th>japanese</th>\n",
       "      <th>japanese_cate</th>\n",
       "      <th>english</th>\n",
       "      <th>english_cate</th>\n",
       "      <th>intimate</th>\n",
       "      <th>religion</th>\n",
       "      <th>suicide</th>\n",
       "      <th>dep</th>\n",
       "      <th>deptype</th>\n",
       "      <th>todep</th>\n",
       "      <th>depsev</th>\n",
       "      <th>tosc</th>\n",
       "      <th>apd</th>\n",
       "      <th>ahome</th>\n",
       "      <th>aph</th>\n",
       "      <th>afear</th>\n",
       "      <th>acs</th>\n",
       "      <th>aguilt</th>\n",
       "      <th>amiscell</th>\n",
       "      <th>toas</th>\n",
       "      <th>partner</th>\n",
       "      <th>friends</th>\n",
       "      <th>parents</th>\n",
       "      <th>relative</th>\n",
       "      <th>profess</th>\n",
       "      <th>phone</th>\n",
       "      <th>doctor</th>\n",
       "      <th>reli</th>\n",
       "      <th>alone</th>\n",
       "      <th>others</th>\n",
       "      <th>internet</th>\n",
       "      <th>partner_bi</th>\n",
       "      <th>friends_bi</th>\n",
       "      <th>parents_bi</th>\n",
       "      <th>relative_bi</th>\n",
       "      <th>professional_bi</th>\n",
       "      <th>phone_bi</th>\n",
       "      <th>doctor_bi</th>\n",
       "      <th>religion_bi</th>\n",
       "      <th>alone_bi</th>\n",
       "      <th>others_bi</th>\n",
       "      <th>internet_bi</th>\n",
       "    </tr>\n",
       "  </thead>\n",
       "  <tbody>\n",
       "    <tr>\n",
       "      <th>0</th>\n",
       "      <td>0</td>\n",
       "      <td>0</td>\n",
       "      <td>0</td>\n",
       "      <td>0</td>\n",
       "      <td>0</td>\n",
       "      <td>0</td>\n",
       "      <td>0</td>\n",
       "      <td>0</td>\n",
       "      <td>0</td>\n",
       "      <td>0</td>\n",
       "      <td>0</td>\n",
       "      <td>0</td>\n",
       "      <td>8</td>\n",
       "      <td>0</td>\n",
       "      <td>0</td>\n",
       "      <td>0</td>\n",
       "      <td>0</td>\n",
       "      <td>0</td>\n",
       "      <td>0</td>\n",
       "      <td>0</td>\n",
       "      <td>0</td>\n",
       "      <td>0</td>\n",
       "      <td>0</td>\n",
       "      <td>0</td>\n",
       "      <td>0</td>\n",
       "      <td>0</td>\n",
       "      <td>0</td>\n",
       "      <td>0</td>\n",
       "      <td>0</td>\n",
       "      <td>0</td>\n",
       "      <td>0</td>\n",
       "      <td>0</td>\n",
       "      <td>0</td>\n",
       "      <td>0</td>\n",
       "      <td>0</td>\n",
       "      <td>0</td>\n",
       "      <td>0</td>\n",
       "      <td>0</td>\n",
       "      <td>26</td>\n",
       "      <td>0</td>\n",
       "      <td>0</td>\n",
       "      <td>0</td>\n",
       "      <td>0</td>\n",
       "      <td>0</td>\n",
       "      <td>0</td>\n",
       "      <td>0</td>\n",
       "      <td>0</td>\n",
       "      <td>0</td>\n",
       "      <td>0</td>\n",
       "      <td>0</td>\n",
       "    </tr>\n",
       "  </tbody>\n",
       "</table>\n",
       "</div>"
      ],
      "text/plain": [
       "   inter_dom  region  gender  academic  age  age_cate  stay  stay_cate  \\\n",
       "0          0       0       0         0    0         0     0          0   \n",
       "\n",
       "   japanese  japanese_cate  english  english_cate  intimate  religion  \\\n",
       "0         0              0        0             0         8         0   \n",
       "\n",
       "   suicide  dep  deptype  todep  depsev  tosc  apd  ahome  aph  afear  acs  \\\n",
       "0        0    0        0      0       0     0    0      0    0      0    0   \n",
       "\n",
       "   aguilt  amiscell  toas  partner  friends  parents  relative  profess  \\\n",
       "0       0         0     0        0        0        0         0        0   \n",
       "\n",
       "   phone  doctor  reli  alone  others  internet  partner_bi  friends_bi  \\\n",
       "0      0       0     0      0       0        26           0           0   \n",
       "\n",
       "   parents_bi  relative_bi  professional_bi  phone_bi  doctor_bi  religion_bi  \\\n",
       "0           0            0                0         0          0            0   \n",
       "\n",
       "   alone_bi  others_bi  internet_bi  \n",
       "0         0          0            0  "
      ]
     },
     "execution_count": 16,
     "metadata": {},
     "output_type": "execute_result"
    }
   ],
   "source": [
    "mh1.isnull().sum().to_frame().T"
   ]
  },
  {
   "cell_type": "code",
   "execution_count": 19,
   "metadata": {},
   "outputs": [
    {
     "data": {
      "text/plain": [
       "Inter    201\n",
       "Dom       67\n",
       "Name: inter_dom, dtype: int64"
      ]
     },
     "execution_count": 19,
     "metadata": {},
     "output_type": "execute_result"
    }
   ],
   "source": [
    "mh1['inter_dom'].value_counts()"
   ]
  },
  {
   "cell_type": "code",
   "execution_count": 21,
   "metadata": {},
   "outputs": [
    {
     "data": {
      "text/html": [
       "<div>\n",
       "<style scoped>\n",
       "    .dataframe tbody tr th:only-of-type {\n",
       "        vertical-align: middle;\n",
       "    }\n",
       "\n",
       "    .dataframe tbody tr th {\n",
       "        vertical-align: top;\n",
       "    }\n",
       "\n",
       "    .dataframe thead th {\n",
       "        text-align: right;\n",
       "    }\n",
       "</style>\n",
       "<table border=\"1\" class=\"dataframe\">\n",
       "  <thead>\n",
       "    <tr style=\"text-align: right;\">\n",
       "      <th></th>\n",
       "      <th>inter_dom</th>\n",
       "      <th>region</th>\n",
       "      <th>gender</th>\n",
       "      <th>academic</th>\n",
       "      <th>age</th>\n",
       "      <th>age_cate</th>\n",
       "      <th>stay</th>\n",
       "      <th>stay_cate</th>\n",
       "      <th>japanese</th>\n",
       "      <th>japanese_cate</th>\n",
       "      <th>english</th>\n",
       "      <th>english_cate</th>\n",
       "      <th>intimate</th>\n",
       "      <th>religion</th>\n",
       "      <th>suicide</th>\n",
       "      <th>dep</th>\n",
       "      <th>deptype</th>\n",
       "      <th>todep</th>\n",
       "      <th>depsev</th>\n",
       "      <th>tosc</th>\n",
       "      <th>apd</th>\n",
       "      <th>ahome</th>\n",
       "      <th>aph</th>\n",
       "      <th>afear</th>\n",
       "      <th>acs</th>\n",
       "      <th>aguilt</th>\n",
       "      <th>amiscell</th>\n",
       "      <th>toas</th>\n",
       "      <th>partner</th>\n",
       "      <th>friends</th>\n",
       "      <th>parents</th>\n",
       "      <th>relative</th>\n",
       "      <th>profess</th>\n",
       "      <th>phone</th>\n",
       "      <th>doctor</th>\n",
       "      <th>reli</th>\n",
       "      <th>alone</th>\n",
       "      <th>others</th>\n",
       "      <th>internet</th>\n",
       "      <th>partner_bi</th>\n",
       "      <th>friends_bi</th>\n",
       "      <th>parents_bi</th>\n",
       "      <th>relative_bi</th>\n",
       "      <th>professional_bi</th>\n",
       "      <th>phone_bi</th>\n",
       "      <th>doctor_bi</th>\n",
       "      <th>religion_bi</th>\n",
       "      <th>alone_bi</th>\n",
       "      <th>others_bi</th>\n",
       "      <th>internet_bi</th>\n",
       "    </tr>\n",
       "  </thead>\n",
       "  <tbody>\n",
       "    <tr>\n",
       "      <th>0</th>\n",
       "      <td>Inter</td>\n",
       "      <td>SEA</td>\n",
       "      <td>Male</td>\n",
       "      <td>Grad</td>\n",
       "      <td>24</td>\n",
       "      <td>4</td>\n",
       "      <td>5</td>\n",
       "      <td>Long</td>\n",
       "      <td>3</td>\n",
       "      <td>Average</td>\n",
       "      <td>5</td>\n",
       "      <td>High</td>\n",
       "      <td>NaN</td>\n",
       "      <td>Yes</td>\n",
       "      <td>No</td>\n",
       "      <td>No</td>\n",
       "      <td>No</td>\n",
       "      <td>0</td>\n",
       "      <td>Min</td>\n",
       "      <td>34</td>\n",
       "      <td>23</td>\n",
       "      <td>9</td>\n",
       "      <td>11</td>\n",
       "      <td>8</td>\n",
       "      <td>11</td>\n",
       "      <td>2</td>\n",
       "      <td>27</td>\n",
       "      <td>91</td>\n",
       "      <td>5</td>\n",
       "      <td>5</td>\n",
       "      <td>6</td>\n",
       "      <td>3</td>\n",
       "      <td>2</td>\n",
       "      <td>1</td>\n",
       "      <td>4</td>\n",
       "      <td>1</td>\n",
       "      <td>3</td>\n",
       "      <td>4</td>\n",
       "      <td>NaN</td>\n",
       "      <td>Yes</td>\n",
       "      <td>Yes</td>\n",
       "      <td>Yes</td>\n",
       "      <td>No</td>\n",
       "      <td>No</td>\n",
       "      <td>No</td>\n",
       "      <td>No</td>\n",
       "      <td>No</td>\n",
       "      <td>No</td>\n",
       "      <td>No</td>\n",
       "      <td>No</td>\n",
       "    </tr>\n",
       "    <tr>\n",
       "      <th>1</th>\n",
       "      <td>Inter</td>\n",
       "      <td>SEA</td>\n",
       "      <td>Male</td>\n",
       "      <td>Grad</td>\n",
       "      <td>28</td>\n",
       "      <td>5</td>\n",
       "      <td>1</td>\n",
       "      <td>Short</td>\n",
       "      <td>4</td>\n",
       "      <td>High</td>\n",
       "      <td>4</td>\n",
       "      <td>High</td>\n",
       "      <td>NaN</td>\n",
       "      <td>No</td>\n",
       "      <td>No</td>\n",
       "      <td>No</td>\n",
       "      <td>No</td>\n",
       "      <td>2</td>\n",
       "      <td>Min</td>\n",
       "      <td>48</td>\n",
       "      <td>8</td>\n",
       "      <td>7</td>\n",
       "      <td>5</td>\n",
       "      <td>4</td>\n",
       "      <td>3</td>\n",
       "      <td>2</td>\n",
       "      <td>10</td>\n",
       "      <td>39</td>\n",
       "      <td>7</td>\n",
       "      <td>7</td>\n",
       "      <td>7</td>\n",
       "      <td>4</td>\n",
       "      <td>4</td>\n",
       "      <td>4</td>\n",
       "      <td>4</td>\n",
       "      <td>1</td>\n",
       "      <td>1</td>\n",
       "      <td>1</td>\n",
       "      <td>NaN</td>\n",
       "      <td>Yes</td>\n",
       "      <td>Yes</td>\n",
       "      <td>Yes</td>\n",
       "      <td>No</td>\n",
       "      <td>No</td>\n",
       "      <td>No</td>\n",
       "      <td>No</td>\n",
       "      <td>No</td>\n",
       "      <td>No</td>\n",
       "      <td>No</td>\n",
       "      <td>No</td>\n",
       "    </tr>\n",
       "    <tr>\n",
       "      <th>2</th>\n",
       "      <td>Inter</td>\n",
       "      <td>SEA</td>\n",
       "      <td>Male</td>\n",
       "      <td>Grad</td>\n",
       "      <td>25</td>\n",
       "      <td>4</td>\n",
       "      <td>6</td>\n",
       "      <td>Long</td>\n",
       "      <td>4</td>\n",
       "      <td>High</td>\n",
       "      <td>4</td>\n",
       "      <td>High</td>\n",
       "      <td>Yes</td>\n",
       "      <td>Yes</td>\n",
       "      <td>No</td>\n",
       "      <td>No</td>\n",
       "      <td>No</td>\n",
       "      <td>2</td>\n",
       "      <td>Min</td>\n",
       "      <td>41</td>\n",
       "      <td>13</td>\n",
       "      <td>4</td>\n",
       "      <td>7</td>\n",
       "      <td>6</td>\n",
       "      <td>4</td>\n",
       "      <td>3</td>\n",
       "      <td>14</td>\n",
       "      <td>51</td>\n",
       "      <td>3</td>\n",
       "      <td>3</td>\n",
       "      <td>3</td>\n",
       "      <td>1</td>\n",
       "      <td>1</td>\n",
       "      <td>2</td>\n",
       "      <td>1</td>\n",
       "      <td>1</td>\n",
       "      <td>1</td>\n",
       "      <td>1</td>\n",
       "      <td>NaN</td>\n",
       "      <td>No</td>\n",
       "      <td>No</td>\n",
       "      <td>No</td>\n",
       "      <td>No</td>\n",
       "      <td>No</td>\n",
       "      <td>No</td>\n",
       "      <td>No</td>\n",
       "      <td>No</td>\n",
       "      <td>No</td>\n",
       "      <td>No</td>\n",
       "      <td>No</td>\n",
       "    </tr>\n",
       "    <tr>\n",
       "      <th>3</th>\n",
       "      <td>Inter</td>\n",
       "      <td>EA</td>\n",
       "      <td>Female</td>\n",
       "      <td>Grad</td>\n",
       "      <td>29</td>\n",
       "      <td>5</td>\n",
       "      <td>1</td>\n",
       "      <td>Short</td>\n",
       "      <td>2</td>\n",
       "      <td>Low</td>\n",
       "      <td>3</td>\n",
       "      <td>Average</td>\n",
       "      <td>No</td>\n",
       "      <td>No</td>\n",
       "      <td>No</td>\n",
       "      <td>No</td>\n",
       "      <td>No</td>\n",
       "      <td>3</td>\n",
       "      <td>Min</td>\n",
       "      <td>37</td>\n",
       "      <td>16</td>\n",
       "      <td>10</td>\n",
       "      <td>10</td>\n",
       "      <td>8</td>\n",
       "      <td>6</td>\n",
       "      <td>4</td>\n",
       "      <td>21</td>\n",
       "      <td>75</td>\n",
       "      <td>5</td>\n",
       "      <td>5</td>\n",
       "      <td>5</td>\n",
       "      <td>5</td>\n",
       "      <td>5</td>\n",
       "      <td>2</td>\n",
       "      <td>2</td>\n",
       "      <td>2</td>\n",
       "      <td>4</td>\n",
       "      <td>4</td>\n",
       "      <td>NaN</td>\n",
       "      <td>Yes</td>\n",
       "      <td>Yes</td>\n",
       "      <td>Yes</td>\n",
       "      <td>Yes</td>\n",
       "      <td>Yes</td>\n",
       "      <td>No</td>\n",
       "      <td>No</td>\n",
       "      <td>No</td>\n",
       "      <td>No</td>\n",
       "      <td>No</td>\n",
       "      <td>No</td>\n",
       "    </tr>\n",
       "    <tr>\n",
       "      <th>4</th>\n",
       "      <td>Inter</td>\n",
       "      <td>EA</td>\n",
       "      <td>Female</td>\n",
       "      <td>Grad</td>\n",
       "      <td>28</td>\n",
       "      <td>5</td>\n",
       "      <td>1</td>\n",
       "      <td>Short</td>\n",
       "      <td>1</td>\n",
       "      <td>Low</td>\n",
       "      <td>3</td>\n",
       "      <td>Average</td>\n",
       "      <td>Yes</td>\n",
       "      <td>No</td>\n",
       "      <td>No</td>\n",
       "      <td>No</td>\n",
       "      <td>No</td>\n",
       "      <td>3</td>\n",
       "      <td>Min</td>\n",
       "      <td>37</td>\n",
       "      <td>15</td>\n",
       "      <td>12</td>\n",
       "      <td>5</td>\n",
       "      <td>8</td>\n",
       "      <td>7</td>\n",
       "      <td>4</td>\n",
       "      <td>31</td>\n",
       "      <td>82</td>\n",
       "      <td>5</td>\n",
       "      <td>5</td>\n",
       "      <td>5</td>\n",
       "      <td>2</td>\n",
       "      <td>5</td>\n",
       "      <td>2</td>\n",
       "      <td>5</td>\n",
       "      <td>5</td>\n",
       "      <td>4</td>\n",
       "      <td>4</td>\n",
       "      <td>NaN</td>\n",
       "      <td>Yes</td>\n",
       "      <td>Yes</td>\n",
       "      <td>Yes</td>\n",
       "      <td>No</td>\n",
       "      <td>Yes</td>\n",
       "      <td>No</td>\n",
       "      <td>Yes</td>\n",
       "      <td>Yes</td>\n",
       "      <td>No</td>\n",
       "      <td>No</td>\n",
       "      <td>No</td>\n",
       "    </tr>\n",
       "    <tr>\n",
       "      <th>...</th>\n",
       "      <td>...</td>\n",
       "      <td>...</td>\n",
       "      <td>...</td>\n",
       "      <td>...</td>\n",
       "      <td>...</td>\n",
       "      <td>...</td>\n",
       "      <td>...</td>\n",
       "      <td>...</td>\n",
       "      <td>...</td>\n",
       "      <td>...</td>\n",
       "      <td>...</td>\n",
       "      <td>...</td>\n",
       "      <td>...</td>\n",
       "      <td>...</td>\n",
       "      <td>...</td>\n",
       "      <td>...</td>\n",
       "      <td>...</td>\n",
       "      <td>...</td>\n",
       "      <td>...</td>\n",
       "      <td>...</td>\n",
       "      <td>...</td>\n",
       "      <td>...</td>\n",
       "      <td>...</td>\n",
       "      <td>...</td>\n",
       "      <td>...</td>\n",
       "      <td>...</td>\n",
       "      <td>...</td>\n",
       "      <td>...</td>\n",
       "      <td>...</td>\n",
       "      <td>...</td>\n",
       "      <td>...</td>\n",
       "      <td>...</td>\n",
       "      <td>...</td>\n",
       "      <td>...</td>\n",
       "      <td>...</td>\n",
       "      <td>...</td>\n",
       "      <td>...</td>\n",
       "      <td>...</td>\n",
       "      <td>...</td>\n",
       "      <td>...</td>\n",
       "      <td>...</td>\n",
       "      <td>...</td>\n",
       "      <td>...</td>\n",
       "      <td>...</td>\n",
       "      <td>...</td>\n",
       "      <td>...</td>\n",
       "      <td>...</td>\n",
       "      <td>...</td>\n",
       "      <td>...</td>\n",
       "      <td>...</td>\n",
       "    </tr>\n",
       "    <tr>\n",
       "      <th>196</th>\n",
       "      <td>Inter</td>\n",
       "      <td>SEA</td>\n",
       "      <td>Male</td>\n",
       "      <td>Under</td>\n",
       "      <td>21</td>\n",
       "      <td>3</td>\n",
       "      <td>3</td>\n",
       "      <td>Medium</td>\n",
       "      <td>4</td>\n",
       "      <td>High</td>\n",
       "      <td>4</td>\n",
       "      <td>High</td>\n",
       "      <td>Yes</td>\n",
       "      <td>Yes</td>\n",
       "      <td>No</td>\n",
       "      <td>No</td>\n",
       "      <td>No</td>\n",
       "      <td>6</td>\n",
       "      <td>Mild</td>\n",
       "      <td>37</td>\n",
       "      <td>23</td>\n",
       "      <td>8</td>\n",
       "      <td>11</td>\n",
       "      <td>8</td>\n",
       "      <td>6</td>\n",
       "      <td>4</td>\n",
       "      <td>22</td>\n",
       "      <td>82</td>\n",
       "      <td>3</td>\n",
       "      <td>2</td>\n",
       "      <td>2</td>\n",
       "      <td>2</td>\n",
       "      <td>4</td>\n",
       "      <td>2</td>\n",
       "      <td>4</td>\n",
       "      <td>2</td>\n",
       "      <td>6</td>\n",
       "      <td>4</td>\n",
       "      <td>4</td>\n",
       "      <td>No</td>\n",
       "      <td>No</td>\n",
       "      <td>No</td>\n",
       "      <td>No</td>\n",
       "      <td>No</td>\n",
       "      <td>No</td>\n",
       "      <td>No</td>\n",
       "      <td>No</td>\n",
       "      <td>Yes</td>\n",
       "      <td>No</td>\n",
       "      <td>No</td>\n",
       "    </tr>\n",
       "    <tr>\n",
       "      <th>197</th>\n",
       "      <td>Inter</td>\n",
       "      <td>SEA</td>\n",
       "      <td>Female</td>\n",
       "      <td>Under</td>\n",
       "      <td>20</td>\n",
       "      <td>2</td>\n",
       "      <td>1</td>\n",
       "      <td>Short</td>\n",
       "      <td>2</td>\n",
       "      <td>Low</td>\n",
       "      <td>4</td>\n",
       "      <td>High</td>\n",
       "      <td>Yes</td>\n",
       "      <td>No</td>\n",
       "      <td>No</td>\n",
       "      <td>No</td>\n",
       "      <td>No</td>\n",
       "      <td>7</td>\n",
       "      <td>Mild</td>\n",
       "      <td>16</td>\n",
       "      <td>29</td>\n",
       "      <td>18</td>\n",
       "      <td>17</td>\n",
       "      <td>17</td>\n",
       "      <td>12</td>\n",
       "      <td>8</td>\n",
       "      <td>44</td>\n",
       "      <td>145</td>\n",
       "      <td>7</td>\n",
       "      <td>1</td>\n",
       "      <td>3</td>\n",
       "      <td>3</td>\n",
       "      <td>4</td>\n",
       "      <td>4</td>\n",
       "      <td>4</td>\n",
       "      <td>4</td>\n",
       "      <td>7</td>\n",
       "      <td>1</td>\n",
       "      <td>4</td>\n",
       "      <td>Yes</td>\n",
       "      <td>No</td>\n",
       "      <td>No</td>\n",
       "      <td>No</td>\n",
       "      <td>No</td>\n",
       "      <td>No</td>\n",
       "      <td>No</td>\n",
       "      <td>No</td>\n",
       "      <td>Yes</td>\n",
       "      <td>No</td>\n",
       "      <td>No</td>\n",
       "    </tr>\n",
       "    <tr>\n",
       "      <th>198</th>\n",
       "      <td>Inter</td>\n",
       "      <td>SEA</td>\n",
       "      <td>Female</td>\n",
       "      <td>Under</td>\n",
       "      <td>21</td>\n",
       "      <td>3</td>\n",
       "      <td>3</td>\n",
       "      <td>Medium</td>\n",
       "      <td>2</td>\n",
       "      <td>Low</td>\n",
       "      <td>5</td>\n",
       "      <td>High</td>\n",
       "      <td>Yes</td>\n",
       "      <td>No</td>\n",
       "      <td>No</td>\n",
       "      <td>Yes</td>\n",
       "      <td>Major</td>\n",
       "      <td>16</td>\n",
       "      <td>ModSev</td>\n",
       "      <td>25</td>\n",
       "      <td>24</td>\n",
       "      <td>11</td>\n",
       "      <td>17</td>\n",
       "      <td>4</td>\n",
       "      <td>11</td>\n",
       "      <td>6</td>\n",
       "      <td>37</td>\n",
       "      <td>110</td>\n",
       "      <td>5</td>\n",
       "      <td>7</td>\n",
       "      <td>3</td>\n",
       "      <td>1</td>\n",
       "      <td>6</td>\n",
       "      <td>1</td>\n",
       "      <td>6</td>\n",
       "      <td>1</td>\n",
       "      <td>4</td>\n",
       "      <td>1</td>\n",
       "      <td>3</td>\n",
       "      <td>Yes</td>\n",
       "      <td>Yes</td>\n",
       "      <td>No</td>\n",
       "      <td>No</td>\n",
       "      <td>Yes</td>\n",
       "      <td>No</td>\n",
       "      <td>Yes</td>\n",
       "      <td>No</td>\n",
       "      <td>No</td>\n",
       "      <td>No</td>\n",
       "      <td>No</td>\n",
       "    </tr>\n",
       "    <tr>\n",
       "      <th>199</th>\n",
       "      <td>Inter</td>\n",
       "      <td>SEA</td>\n",
       "      <td>Female</td>\n",
       "      <td>Under</td>\n",
       "      <td>18</td>\n",
       "      <td>1</td>\n",
       "      <td>1</td>\n",
       "      <td>Short</td>\n",
       "      <td>1</td>\n",
       "      <td>Low</td>\n",
       "      <td>4</td>\n",
       "      <td>High</td>\n",
       "      <td>No</td>\n",
       "      <td>No</td>\n",
       "      <td>No</td>\n",
       "      <td>No</td>\n",
       "      <td>No</td>\n",
       "      <td>8</td>\n",
       "      <td>Mild</td>\n",
       "      <td>38</td>\n",
       "      <td>11</td>\n",
       "      <td>12</td>\n",
       "      <td>10</td>\n",
       "      <td>4</td>\n",
       "      <td>7</td>\n",
       "      <td>4</td>\n",
       "      <td>20</td>\n",
       "      <td>68</td>\n",
       "      <td>5</td>\n",
       "      <td>5</td>\n",
       "      <td>4</td>\n",
       "      <td>3</td>\n",
       "      <td>3</td>\n",
       "      <td>3</td>\n",
       "      <td>3</td>\n",
       "      <td>3</td>\n",
       "      <td>5</td>\n",
       "      <td>5</td>\n",
       "      <td>5</td>\n",
       "      <td>Yes</td>\n",
       "      <td>Yes</td>\n",
       "      <td>No</td>\n",
       "      <td>No</td>\n",
       "      <td>No</td>\n",
       "      <td>No</td>\n",
       "      <td>No</td>\n",
       "      <td>No</td>\n",
       "      <td>Yes</td>\n",
       "      <td>Yes</td>\n",
       "      <td>Yes</td>\n",
       "    </tr>\n",
       "    <tr>\n",
       "      <th>200</th>\n",
       "      <td>Inter</td>\n",
       "      <td>EA</td>\n",
       "      <td>Female</td>\n",
       "      <td>Under</td>\n",
       "      <td>20</td>\n",
       "      <td>2</td>\n",
       "      <td>2</td>\n",
       "      <td>Medium</td>\n",
       "      <td>3</td>\n",
       "      <td>Average</td>\n",
       "      <td>4</td>\n",
       "      <td>High</td>\n",
       "      <td>No</td>\n",
       "      <td>Yes</td>\n",
       "      <td>No</td>\n",
       "      <td>No</td>\n",
       "      <td>No</td>\n",
       "      <td>2</td>\n",
       "      <td>Min</td>\n",
       "      <td>47</td>\n",
       "      <td>9</td>\n",
       "      <td>8</td>\n",
       "      <td>5</td>\n",
       "      <td>5</td>\n",
       "      <td>8</td>\n",
       "      <td>3</td>\n",
       "      <td>19</td>\n",
       "      <td>57</td>\n",
       "      <td>7</td>\n",
       "      <td>7</td>\n",
       "      <td>6</td>\n",
       "      <td>7</td>\n",
       "      <td>1</td>\n",
       "      <td>1</td>\n",
       "      <td>1</td>\n",
       "      <td>1</td>\n",
       "      <td>1</td>\n",
       "      <td>1</td>\n",
       "      <td>1</td>\n",
       "      <td>Yes</td>\n",
       "      <td>Yes</td>\n",
       "      <td>Yes</td>\n",
       "      <td>Yes</td>\n",
       "      <td>No</td>\n",
       "      <td>No</td>\n",
       "      <td>No</td>\n",
       "      <td>No</td>\n",
       "      <td>No</td>\n",
       "      <td>No</td>\n",
       "      <td>No</td>\n",
       "    </tr>\n",
       "  </tbody>\n",
       "</table>\n",
       "<p>201 rows × 50 columns</p>\n",
       "</div>"
      ],
      "text/plain": [
       "    inter_dom region  gender academic  age  age_cate  stay stay_cate  \\\n",
       "0       Inter    SEA    Male     Grad   24         4     5      Long   \n",
       "1       Inter    SEA    Male     Grad   28         5     1     Short   \n",
       "2       Inter    SEA    Male     Grad   25         4     6      Long   \n",
       "3       Inter     EA  Female     Grad   29         5     1     Short   \n",
       "4       Inter     EA  Female     Grad   28         5     1     Short   \n",
       "..        ...    ...     ...      ...  ...       ...   ...       ...   \n",
       "196     Inter    SEA    Male    Under   21         3     3    Medium   \n",
       "197     Inter    SEA  Female    Under   20         2     1     Short   \n",
       "198     Inter    SEA  Female    Under   21         3     3    Medium   \n",
       "199     Inter    SEA  Female    Under   18         1     1     Short   \n",
       "200     Inter     EA  Female    Under   20         2     2    Medium   \n",
       "\n",
       "     japanese japanese_cate  english english_cate intimate religion suicide  \\\n",
       "0           3       Average        5         High      NaN      Yes      No   \n",
       "1           4          High        4         High      NaN       No      No   \n",
       "2           4          High        4         High      Yes      Yes      No   \n",
       "3           2           Low        3      Average       No       No      No   \n",
       "4           1           Low        3      Average      Yes       No      No   \n",
       "..        ...           ...      ...          ...      ...      ...     ...   \n",
       "196         4          High        4         High      Yes      Yes      No   \n",
       "197         2           Low        4         High      Yes       No      No   \n",
       "198         2           Low        5         High      Yes       No      No   \n",
       "199         1           Low        4         High       No       No      No   \n",
       "200         3       Average        4         High       No      Yes      No   \n",
       "\n",
       "     dep deptype  todep  depsev  tosc  apd  ahome  aph  afear  acs  aguilt  \\\n",
       "0     No      No      0     Min    34   23      9   11      8   11       2   \n",
       "1     No      No      2     Min    48    8      7    5      4    3       2   \n",
       "2     No      No      2     Min    41   13      4    7      6    4       3   \n",
       "3     No      No      3     Min    37   16     10   10      8    6       4   \n",
       "4     No      No      3     Min    37   15     12    5      8    7       4   \n",
       "..   ...     ...    ...     ...   ...  ...    ...  ...    ...  ...     ...   \n",
       "196   No      No      6    Mild    37   23      8   11      8    6       4   \n",
       "197   No      No      7    Mild    16   29     18   17     17   12       8   \n",
       "198  Yes   Major     16  ModSev    25   24     11   17      4   11       6   \n",
       "199   No      No      8    Mild    38   11     12   10      4    7       4   \n",
       "200   No      No      2     Min    47    9      8    5      5    8       3   \n",
       "\n",
       "     amiscell  toas  partner  friends  parents  relative  profess  phone  \\\n",
       "0          27    91        5        5        6         3        2      1   \n",
       "1          10    39        7        7        7         4        4      4   \n",
       "2          14    51        3        3        3         1        1      2   \n",
       "3          21    75        5        5        5         5        5      2   \n",
       "4          31    82        5        5        5         2        5      2   \n",
       "..        ...   ...      ...      ...      ...       ...      ...    ...   \n",
       "196        22    82        3        2        2         2        4      2   \n",
       "197        44   145        7        1        3         3        4      4   \n",
       "198        37   110        5        7        3         1        6      1   \n",
       "199        20    68        5        5        4         3        3      3   \n",
       "200        19    57        7        7        6         7        1      1   \n",
       "\n",
       "     doctor  reli  alone  others internet partner_bi friends_bi parents_bi  \\\n",
       "0         4     1      3       4      NaN        Yes        Yes        Yes   \n",
       "1         4     1      1       1      NaN        Yes        Yes        Yes   \n",
       "2         1     1      1       1      NaN         No         No         No   \n",
       "3         2     2      4       4      NaN        Yes        Yes        Yes   \n",
       "4         5     5      4       4      NaN        Yes        Yes        Yes   \n",
       "..      ...   ...    ...     ...      ...        ...        ...        ...   \n",
       "196       4     2      6       4        4         No         No         No   \n",
       "197       4     4      7       1        4        Yes         No         No   \n",
       "198       6     1      4       1        3        Yes        Yes         No   \n",
       "199       3     3      5       5        5        Yes        Yes         No   \n",
       "200       1     1      1       1        1        Yes        Yes        Yes   \n",
       "\n",
       "    relative_bi professional_bi phone_bi doctor_bi religion_bi alone_bi  \\\n",
       "0            No              No       No        No          No       No   \n",
       "1            No              No       No        No          No       No   \n",
       "2            No              No       No        No          No       No   \n",
       "3           Yes             Yes       No        No          No       No   \n",
       "4            No             Yes       No       Yes         Yes       No   \n",
       "..          ...             ...      ...       ...         ...      ...   \n",
       "196          No              No       No        No          No      Yes   \n",
       "197          No              No       No        No          No      Yes   \n",
       "198          No             Yes       No       Yes          No       No   \n",
       "199          No              No       No        No          No      Yes   \n",
       "200         Yes              No       No        No          No       No   \n",
       "\n",
       "    others_bi internet_bi  \n",
       "0          No          No  \n",
       "1          No          No  \n",
       "2          No          No  \n",
       "3          No          No  \n",
       "4          No          No  \n",
       "..        ...         ...  \n",
       "196        No          No  \n",
       "197        No          No  \n",
       "198        No          No  \n",
       "199       Yes         Yes  \n",
       "200        No          No  \n",
       "\n",
       "[201 rows x 50 columns]"
      ]
     },
     "execution_count": 21,
     "metadata": {},
     "output_type": "execute_result"
    }
   ],
   "source": [
    "mh1[mh1['inter_dom']== 'Inter']"
   ]
  },
  {
   "cell_type": "code",
   "execution_count": 22,
   "metadata": {},
   "outputs": [
    {
     "data": {
      "text/html": [
       "<div>\n",
       "<style scoped>\n",
       "    .dataframe tbody tr th:only-of-type {\n",
       "        vertical-align: middle;\n",
       "    }\n",
       "\n",
       "    .dataframe tbody tr th {\n",
       "        vertical-align: top;\n",
       "    }\n",
       "\n",
       "    .dataframe thead th {\n",
       "        text-align: right;\n",
       "    }\n",
       "</style>\n",
       "<table border=\"1\" class=\"dataframe\">\n",
       "  <thead>\n",
       "    <tr style=\"text-align: right;\">\n",
       "      <th></th>\n",
       "      <th>inter_dom</th>\n",
       "      <th>region</th>\n",
       "      <th>gender</th>\n",
       "      <th>academic</th>\n",
       "      <th>age</th>\n",
       "      <th>age_cate</th>\n",
       "      <th>stay</th>\n",
       "      <th>stay_cate</th>\n",
       "      <th>japanese</th>\n",
       "      <th>japanese_cate</th>\n",
       "      <th>english</th>\n",
       "      <th>english_cate</th>\n",
       "      <th>intimate</th>\n",
       "      <th>religion</th>\n",
       "      <th>suicide</th>\n",
       "      <th>dep</th>\n",
       "      <th>deptype</th>\n",
       "      <th>todep</th>\n",
       "      <th>depsev</th>\n",
       "      <th>tosc</th>\n",
       "      <th>apd</th>\n",
       "      <th>ahome</th>\n",
       "      <th>aph</th>\n",
       "      <th>afear</th>\n",
       "      <th>acs</th>\n",
       "      <th>aguilt</th>\n",
       "      <th>amiscell</th>\n",
       "      <th>toas</th>\n",
       "      <th>partner</th>\n",
       "      <th>friends</th>\n",
       "      <th>parents</th>\n",
       "      <th>relative</th>\n",
       "      <th>profess</th>\n",
       "      <th>phone</th>\n",
       "      <th>doctor</th>\n",
       "      <th>reli</th>\n",
       "      <th>alone</th>\n",
       "      <th>others</th>\n",
       "      <th>internet</th>\n",
       "      <th>partner_bi</th>\n",
       "      <th>friends_bi</th>\n",
       "      <th>parents_bi</th>\n",
       "      <th>relative_bi</th>\n",
       "      <th>professional_bi</th>\n",
       "      <th>phone_bi</th>\n",
       "      <th>doctor_bi</th>\n",
       "      <th>religion_bi</th>\n",
       "      <th>alone_bi</th>\n",
       "      <th>others_bi</th>\n",
       "      <th>internet_bi</th>\n",
       "    </tr>\n",
       "  </thead>\n",
       "  <tbody>\n",
       "    <tr>\n",
       "      <th>201</th>\n",
       "      <td>Dom</td>\n",
       "      <td>JAP</td>\n",
       "      <td>Female</td>\n",
       "      <td>Grad</td>\n",
       "      <td>27</td>\n",
       "      <td>5</td>\n",
       "      <td>2</td>\n",
       "      <td>Medium</td>\n",
       "      <td>3</td>\n",
       "      <td>Average</td>\n",
       "      <td>3</td>\n",
       "      <td>Average</td>\n",
       "      <td>Yes</td>\n",
       "      <td>Yes</td>\n",
       "      <td>No</td>\n",
       "      <td>Yes</td>\n",
       "      <td>Major</td>\n",
       "      <td>12</td>\n",
       "      <td>Mod</td>\n",
       "      <td>47</td>\n",
       "      <td>16</td>\n",
       "      <td>11</td>\n",
       "      <td>5</td>\n",
       "      <td>8</td>\n",
       "      <td>7</td>\n",
       "      <td>3</td>\n",
       "      <td>31</td>\n",
       "      <td>81</td>\n",
       "      <td>7</td>\n",
       "      <td>3</td>\n",
       "      <td>7</td>\n",
       "      <td>1</td>\n",
       "      <td>6</td>\n",
       "      <td>6</td>\n",
       "      <td>1</td>\n",
       "      <td>5</td>\n",
       "      <td>4</td>\n",
       "      <td>1</td>\n",
       "      <td>NaN</td>\n",
       "      <td>Yes</td>\n",
       "      <td>No</td>\n",
       "      <td>Yes</td>\n",
       "      <td>No</td>\n",
       "      <td>Yes</td>\n",
       "      <td>Yes</td>\n",
       "      <td>No</td>\n",
       "      <td>Yes</td>\n",
       "      <td>No</td>\n",
       "      <td>No</td>\n",
       "      <td>No</td>\n",
       "    </tr>\n",
       "    <tr>\n",
       "      <th>202</th>\n",
       "      <td>Dom</td>\n",
       "      <td>JAP</td>\n",
       "      <td>Female</td>\n",
       "      <td>Under</td>\n",
       "      <td>18</td>\n",
       "      <td>1</td>\n",
       "      <td>1</td>\n",
       "      <td>Short</td>\n",
       "      <td>5</td>\n",
       "      <td>High</td>\n",
       "      <td>3</td>\n",
       "      <td>Average</td>\n",
       "      <td>No</td>\n",
       "      <td>No</td>\n",
       "      <td>No</td>\n",
       "      <td>No</td>\n",
       "      <td>No</td>\n",
       "      <td>9</td>\n",
       "      <td>Mild</td>\n",
       "      <td>48</td>\n",
       "      <td>9</td>\n",
       "      <td>4</td>\n",
       "      <td>5</td>\n",
       "      <td>4</td>\n",
       "      <td>3</td>\n",
       "      <td>2</td>\n",
       "      <td>10</td>\n",
       "      <td>37</td>\n",
       "      <td>4</td>\n",
       "      <td>4</td>\n",
       "      <td>4</td>\n",
       "      <td>4</td>\n",
       "      <td>1</td>\n",
       "      <td>1</td>\n",
       "      <td>1</td>\n",
       "      <td>1</td>\n",
       "      <td>1</td>\n",
       "      <td>1</td>\n",
       "      <td>4</td>\n",
       "      <td>No</td>\n",
       "      <td>No</td>\n",
       "      <td>No</td>\n",
       "      <td>No</td>\n",
       "      <td>No</td>\n",
       "      <td>No</td>\n",
       "      <td>No</td>\n",
       "      <td>No</td>\n",
       "      <td>No</td>\n",
       "      <td>No</td>\n",
       "      <td>No</td>\n",
       "    </tr>\n",
       "    <tr>\n",
       "      <th>203</th>\n",
       "      <td>Dom</td>\n",
       "      <td>JAP</td>\n",
       "      <td>Female</td>\n",
       "      <td>Under</td>\n",
       "      <td>21</td>\n",
       "      <td>3</td>\n",
       "      <td>3</td>\n",
       "      <td>Medium</td>\n",
       "      <td>5</td>\n",
       "      <td>High</td>\n",
       "      <td>3</td>\n",
       "      <td>Average</td>\n",
       "      <td>Yes</td>\n",
       "      <td>No</td>\n",
       "      <td>No</td>\n",
       "      <td>No</td>\n",
       "      <td>No</td>\n",
       "      <td>7</td>\n",
       "      <td>Mild</td>\n",
       "      <td>40</td>\n",
       "      <td>16</td>\n",
       "      <td>8</td>\n",
       "      <td>10</td>\n",
       "      <td>8</td>\n",
       "      <td>6</td>\n",
       "      <td>4</td>\n",
       "      <td>20</td>\n",
       "      <td>72</td>\n",
       "      <td>6</td>\n",
       "      <td>6</td>\n",
       "      <td>7</td>\n",
       "      <td>1</td>\n",
       "      <td>1</td>\n",
       "      <td>1</td>\n",
       "      <td>5</td>\n",
       "      <td>1</td>\n",
       "      <td>1</td>\n",
       "      <td>1</td>\n",
       "      <td>4</td>\n",
       "      <td>Yes</td>\n",
       "      <td>Yes</td>\n",
       "      <td>Yes</td>\n",
       "      <td>No</td>\n",
       "      <td>No</td>\n",
       "      <td>No</td>\n",
       "      <td>Yes</td>\n",
       "      <td>No</td>\n",
       "      <td>No</td>\n",
       "      <td>No</td>\n",
       "      <td>No</td>\n",
       "    </tr>\n",
       "    <tr>\n",
       "      <th>204</th>\n",
       "      <td>Dom</td>\n",
       "      <td>JAP</td>\n",
       "      <td>Male</td>\n",
       "      <td>Under</td>\n",
       "      <td>20</td>\n",
       "      <td>2</td>\n",
       "      <td>3</td>\n",
       "      <td>Medium</td>\n",
       "      <td>5</td>\n",
       "      <td>High</td>\n",
       "      <td>1</td>\n",
       "      <td>Low</td>\n",
       "      <td>No</td>\n",
       "      <td>No</td>\n",
       "      <td>No</td>\n",
       "      <td>No</td>\n",
       "      <td>No</td>\n",
       "      <td>3</td>\n",
       "      <td>Min</td>\n",
       "      <td>47</td>\n",
       "      <td>11</td>\n",
       "      <td>4</td>\n",
       "      <td>5</td>\n",
       "      <td>4</td>\n",
       "      <td>5</td>\n",
       "      <td>2</td>\n",
       "      <td>12</td>\n",
       "      <td>43</td>\n",
       "      <td>1</td>\n",
       "      <td>5</td>\n",
       "      <td>5</td>\n",
       "      <td>3</td>\n",
       "      <td>1</td>\n",
       "      <td>1</td>\n",
       "      <td>3</td>\n",
       "      <td>1</td>\n",
       "      <td>1</td>\n",
       "      <td>1</td>\n",
       "      <td>3</td>\n",
       "      <td>No</td>\n",
       "      <td>Yes</td>\n",
       "      <td>Yes</td>\n",
       "      <td>No</td>\n",
       "      <td>No</td>\n",
       "      <td>No</td>\n",
       "      <td>No</td>\n",
       "      <td>No</td>\n",
       "      <td>No</td>\n",
       "      <td>No</td>\n",
       "      <td>No</td>\n",
       "    </tr>\n",
       "    <tr>\n",
       "      <th>205</th>\n",
       "      <td>Dom</td>\n",
       "      <td>JAP</td>\n",
       "      <td>Female</td>\n",
       "      <td>Under</td>\n",
       "      <td>21</td>\n",
       "      <td>3</td>\n",
       "      <td>3</td>\n",
       "      <td>Medium</td>\n",
       "      <td>5</td>\n",
       "      <td>High</td>\n",
       "      <td>1</td>\n",
       "      <td>Low</td>\n",
       "      <td>No</td>\n",
       "      <td>No</td>\n",
       "      <td>Yes</td>\n",
       "      <td>Yes</td>\n",
       "      <td>Other</td>\n",
       "      <td>10</td>\n",
       "      <td>Mod</td>\n",
       "      <td>48</td>\n",
       "      <td>8</td>\n",
       "      <td>4</td>\n",
       "      <td>5</td>\n",
       "      <td>4</td>\n",
       "      <td>3</td>\n",
       "      <td>2</td>\n",
       "      <td>10</td>\n",
       "      <td>36</td>\n",
       "      <td>7</td>\n",
       "      <td>5</td>\n",
       "      <td>7</td>\n",
       "      <td>1</td>\n",
       "      <td>1</td>\n",
       "      <td>1</td>\n",
       "      <td>1</td>\n",
       "      <td>1</td>\n",
       "      <td>1</td>\n",
       "      <td>1</td>\n",
       "      <td>1</td>\n",
       "      <td>Yes</td>\n",
       "      <td>Yes</td>\n",
       "      <td>Yes</td>\n",
       "      <td>No</td>\n",
       "      <td>No</td>\n",
       "      <td>No</td>\n",
       "      <td>No</td>\n",
       "      <td>No</td>\n",
       "      <td>No</td>\n",
       "      <td>No</td>\n",
       "      <td>No</td>\n",
       "    </tr>\n",
       "    <tr>\n",
       "      <th>...</th>\n",
       "      <td>...</td>\n",
       "      <td>...</td>\n",
       "      <td>...</td>\n",
       "      <td>...</td>\n",
       "      <td>...</td>\n",
       "      <td>...</td>\n",
       "      <td>...</td>\n",
       "      <td>...</td>\n",
       "      <td>...</td>\n",
       "      <td>...</td>\n",
       "      <td>...</td>\n",
       "      <td>...</td>\n",
       "      <td>...</td>\n",
       "      <td>...</td>\n",
       "      <td>...</td>\n",
       "      <td>...</td>\n",
       "      <td>...</td>\n",
       "      <td>...</td>\n",
       "      <td>...</td>\n",
       "      <td>...</td>\n",
       "      <td>...</td>\n",
       "      <td>...</td>\n",
       "      <td>...</td>\n",
       "      <td>...</td>\n",
       "      <td>...</td>\n",
       "      <td>...</td>\n",
       "      <td>...</td>\n",
       "      <td>...</td>\n",
       "      <td>...</td>\n",
       "      <td>...</td>\n",
       "      <td>...</td>\n",
       "      <td>...</td>\n",
       "      <td>...</td>\n",
       "      <td>...</td>\n",
       "      <td>...</td>\n",
       "      <td>...</td>\n",
       "      <td>...</td>\n",
       "      <td>...</td>\n",
       "      <td>...</td>\n",
       "      <td>...</td>\n",
       "      <td>...</td>\n",
       "      <td>...</td>\n",
       "      <td>...</td>\n",
       "      <td>...</td>\n",
       "      <td>...</td>\n",
       "      <td>...</td>\n",
       "      <td>...</td>\n",
       "      <td>...</td>\n",
       "      <td>...</td>\n",
       "      <td>...</td>\n",
       "    </tr>\n",
       "    <tr>\n",
       "      <th>263</th>\n",
       "      <td>Dom</td>\n",
       "      <td>JAP</td>\n",
       "      <td>Female</td>\n",
       "      <td>Under</td>\n",
       "      <td>21</td>\n",
       "      <td>3</td>\n",
       "      <td>4</td>\n",
       "      <td>Long</td>\n",
       "      <td>5</td>\n",
       "      <td>High</td>\n",
       "      <td>4</td>\n",
       "      <td>High</td>\n",
       "      <td>No</td>\n",
       "      <td>Yes</td>\n",
       "      <td>No</td>\n",
       "      <td>No</td>\n",
       "      <td>No</td>\n",
       "      <td>8</td>\n",
       "      <td>Mild</td>\n",
       "      <td>27</td>\n",
       "      <td>16</td>\n",
       "      <td>9</td>\n",
       "      <td>10</td>\n",
       "      <td>8</td>\n",
       "      <td>7</td>\n",
       "      <td>4</td>\n",
       "      <td>20</td>\n",
       "      <td>74</td>\n",
       "      <td>1</td>\n",
       "      <td>7</td>\n",
       "      <td>5</td>\n",
       "      <td>1</td>\n",
       "      <td>3</td>\n",
       "      <td>3</td>\n",
       "      <td>3</td>\n",
       "      <td>1</td>\n",
       "      <td>1</td>\n",
       "      <td>1</td>\n",
       "      <td>6</td>\n",
       "      <td>No</td>\n",
       "      <td>Yes</td>\n",
       "      <td>Yes</td>\n",
       "      <td>No</td>\n",
       "      <td>No</td>\n",
       "      <td>No</td>\n",
       "      <td>No</td>\n",
       "      <td>No</td>\n",
       "      <td>No</td>\n",
       "      <td>No</td>\n",
       "      <td>Yes</td>\n",
       "    </tr>\n",
       "    <tr>\n",
       "      <th>264</th>\n",
       "      <td>Dom</td>\n",
       "      <td>JAP</td>\n",
       "      <td>Female</td>\n",
       "      <td>Under</td>\n",
       "      <td>22</td>\n",
       "      <td>3</td>\n",
       "      <td>3</td>\n",
       "      <td>Medium</td>\n",
       "      <td>3</td>\n",
       "      <td>Average</td>\n",
       "      <td>4</td>\n",
       "      <td>High</td>\n",
       "      <td>Yes</td>\n",
       "      <td>Yes</td>\n",
       "      <td>No</td>\n",
       "      <td>No</td>\n",
       "      <td>No</td>\n",
       "      <td>2</td>\n",
       "      <td>Min</td>\n",
       "      <td>48</td>\n",
       "      <td>8</td>\n",
       "      <td>10</td>\n",
       "      <td>5</td>\n",
       "      <td>4</td>\n",
       "      <td>3</td>\n",
       "      <td>4</td>\n",
       "      <td>16</td>\n",
       "      <td>50</td>\n",
       "      <td>7</td>\n",
       "      <td>7</td>\n",
       "      <td>7</td>\n",
       "      <td>7</td>\n",
       "      <td>2</td>\n",
       "      <td>2</td>\n",
       "      <td>2</td>\n",
       "      <td>2</td>\n",
       "      <td>2</td>\n",
       "      <td>1</td>\n",
       "      <td>3</td>\n",
       "      <td>Yes</td>\n",
       "      <td>Yes</td>\n",
       "      <td>Yes</td>\n",
       "      <td>Yes</td>\n",
       "      <td>No</td>\n",
       "      <td>No</td>\n",
       "      <td>No</td>\n",
       "      <td>No</td>\n",
       "      <td>No</td>\n",
       "      <td>No</td>\n",
       "      <td>No</td>\n",
       "    </tr>\n",
       "    <tr>\n",
       "      <th>265</th>\n",
       "      <td>Dom</td>\n",
       "      <td>JAP</td>\n",
       "      <td>Female</td>\n",
       "      <td>Under</td>\n",
       "      <td>19</td>\n",
       "      <td>2</td>\n",
       "      <td>1</td>\n",
       "      <td>Short</td>\n",
       "      <td>5</td>\n",
       "      <td>High</td>\n",
       "      <td>3</td>\n",
       "      <td>Average</td>\n",
       "      <td>No</td>\n",
       "      <td>No</td>\n",
       "      <td>No</td>\n",
       "      <td>No</td>\n",
       "      <td>No</td>\n",
       "      <td>9</td>\n",
       "      <td>Mild</td>\n",
       "      <td>47</td>\n",
       "      <td>8</td>\n",
       "      <td>7</td>\n",
       "      <td>5</td>\n",
       "      <td>5</td>\n",
       "      <td>3</td>\n",
       "      <td>2</td>\n",
       "      <td>13</td>\n",
       "      <td>43</td>\n",
       "      <td>5</td>\n",
       "      <td>7</td>\n",
       "      <td>7</td>\n",
       "      <td>6</td>\n",
       "      <td>7</td>\n",
       "      <td>7</td>\n",
       "      <td>7</td>\n",
       "      <td>1</td>\n",
       "      <td>1</td>\n",
       "      <td>1</td>\n",
       "      <td>2</td>\n",
       "      <td>Yes</td>\n",
       "      <td>Yes</td>\n",
       "      <td>Yes</td>\n",
       "      <td>Yes</td>\n",
       "      <td>Yes</td>\n",
       "      <td>Yes</td>\n",
       "      <td>Yes</td>\n",
       "      <td>No</td>\n",
       "      <td>No</td>\n",
       "      <td>No</td>\n",
       "      <td>No</td>\n",
       "    </tr>\n",
       "    <tr>\n",
       "      <th>266</th>\n",
       "      <td>Dom</td>\n",
       "      <td>JAP</td>\n",
       "      <td>Male</td>\n",
       "      <td>Under</td>\n",
       "      <td>19</td>\n",
       "      <td>2</td>\n",
       "      <td>1</td>\n",
       "      <td>Short</td>\n",
       "      <td>5</td>\n",
       "      <td>High</td>\n",
       "      <td>3</td>\n",
       "      <td>Average</td>\n",
       "      <td>No</td>\n",
       "      <td>No</td>\n",
       "      <td>No</td>\n",
       "      <td>No</td>\n",
       "      <td>No</td>\n",
       "      <td>1</td>\n",
       "      <td>Min</td>\n",
       "      <td>43</td>\n",
       "      <td>8</td>\n",
       "      <td>12</td>\n",
       "      <td>5</td>\n",
       "      <td>4</td>\n",
       "      <td>3</td>\n",
       "      <td>2</td>\n",
       "      <td>10</td>\n",
       "      <td>44</td>\n",
       "      <td>7</td>\n",
       "      <td>5</td>\n",
       "      <td>7</td>\n",
       "      <td>5</td>\n",
       "      <td>5</td>\n",
       "      <td>5</td>\n",
       "      <td>5</td>\n",
       "      <td>4</td>\n",
       "      <td>4</td>\n",
       "      <td>4</td>\n",
       "      <td>2</td>\n",
       "      <td>Yes</td>\n",
       "      <td>Yes</td>\n",
       "      <td>Yes</td>\n",
       "      <td>Yes</td>\n",
       "      <td>Yes</td>\n",
       "      <td>Yes</td>\n",
       "      <td>Yes</td>\n",
       "      <td>No</td>\n",
       "      <td>No</td>\n",
       "      <td>No</td>\n",
       "      <td>No</td>\n",
       "    </tr>\n",
       "    <tr>\n",
       "      <th>267</th>\n",
       "      <td>Dom</td>\n",
       "      <td>JAP</td>\n",
       "      <td>Male</td>\n",
       "      <td>Under</td>\n",
       "      <td>20</td>\n",
       "      <td>2</td>\n",
       "      <td>2</td>\n",
       "      <td>Medium</td>\n",
       "      <td>5</td>\n",
       "      <td>High</td>\n",
       "      <td>3</td>\n",
       "      <td>Average</td>\n",
       "      <td>No</td>\n",
       "      <td>No</td>\n",
       "      <td>Yes</td>\n",
       "      <td>No</td>\n",
       "      <td>No</td>\n",
       "      <td>7</td>\n",
       "      <td>Mild</td>\n",
       "      <td>41</td>\n",
       "      <td>14</td>\n",
       "      <td>4</td>\n",
       "      <td>10</td>\n",
       "      <td>7</td>\n",
       "      <td>3</td>\n",
       "      <td>4</td>\n",
       "      <td>19</td>\n",
       "      <td>61</td>\n",
       "      <td>5</td>\n",
       "      <td>6</td>\n",
       "      <td>4</td>\n",
       "      <td>4</td>\n",
       "      <td>4</td>\n",
       "      <td>4</td>\n",
       "      <td>4</td>\n",
       "      <td>4</td>\n",
       "      <td>6</td>\n",
       "      <td>1</td>\n",
       "      <td>3</td>\n",
       "      <td>Yes</td>\n",
       "      <td>Yes</td>\n",
       "      <td>No</td>\n",
       "      <td>No</td>\n",
       "      <td>No</td>\n",
       "      <td>No</td>\n",
       "      <td>No</td>\n",
       "      <td>No</td>\n",
       "      <td>Yes</td>\n",
       "      <td>No</td>\n",
       "      <td>No</td>\n",
       "    </tr>\n",
       "  </tbody>\n",
       "</table>\n",
       "<p>67 rows × 50 columns</p>\n",
       "</div>"
      ],
      "text/plain": [
       "    inter_dom region  gender academic  age  age_cate  stay stay_cate  \\\n",
       "201       Dom    JAP  Female     Grad   27         5     2    Medium   \n",
       "202       Dom    JAP  Female    Under   18         1     1     Short   \n",
       "203       Dom    JAP  Female    Under   21         3     3    Medium   \n",
       "204       Dom    JAP    Male    Under   20         2     3    Medium   \n",
       "205       Dom    JAP  Female    Under   21         3     3    Medium   \n",
       "..        ...    ...     ...      ...  ...       ...   ...       ...   \n",
       "263       Dom    JAP  Female    Under   21         3     4      Long   \n",
       "264       Dom    JAP  Female    Under   22         3     3    Medium   \n",
       "265       Dom    JAP  Female    Under   19         2     1     Short   \n",
       "266       Dom    JAP    Male    Under   19         2     1     Short   \n",
       "267       Dom    JAP    Male    Under   20         2     2    Medium   \n",
       "\n",
       "     japanese japanese_cate  english english_cate intimate religion suicide  \\\n",
       "201         3       Average        3      Average      Yes      Yes      No   \n",
       "202         5          High        3      Average       No       No      No   \n",
       "203         5          High        3      Average      Yes       No      No   \n",
       "204         5          High        1          Low       No       No      No   \n",
       "205         5          High        1          Low       No       No     Yes   \n",
       "..        ...           ...      ...          ...      ...      ...     ...   \n",
       "263         5          High        4         High       No      Yes      No   \n",
       "264         3       Average        4         High      Yes      Yes      No   \n",
       "265         5          High        3      Average       No       No      No   \n",
       "266         5          High        3      Average       No       No      No   \n",
       "267         5          High        3      Average       No       No     Yes   \n",
       "\n",
       "     dep deptype  todep depsev  tosc  apd  ahome  aph  afear  acs  aguilt  \\\n",
       "201  Yes   Major     12    Mod    47   16     11    5      8    7       3   \n",
       "202   No      No      9   Mild    48    9      4    5      4    3       2   \n",
       "203   No      No      7   Mild    40   16      8   10      8    6       4   \n",
       "204   No      No      3    Min    47   11      4    5      4    5       2   \n",
       "205  Yes   Other     10    Mod    48    8      4    5      4    3       2   \n",
       "..   ...     ...    ...    ...   ...  ...    ...  ...    ...  ...     ...   \n",
       "263   No      No      8   Mild    27   16      9   10      8    7       4   \n",
       "264   No      No      2    Min    48    8     10    5      4    3       4   \n",
       "265   No      No      9   Mild    47    8      7    5      5    3       2   \n",
       "266   No      No      1    Min    43    8     12    5      4    3       2   \n",
       "267   No      No      7   Mild    41   14      4   10      7    3       4   \n",
       "\n",
       "     amiscell  toas  partner  friends  parents  relative  profess  phone  \\\n",
       "201        31    81        7        3        7         1        6      6   \n",
       "202        10    37        4        4        4         4        1      1   \n",
       "203        20    72        6        6        7         1        1      1   \n",
       "204        12    43        1        5        5         3        1      1   \n",
       "205        10    36        7        5        7         1        1      1   \n",
       "..        ...   ...      ...      ...      ...       ...      ...    ...   \n",
       "263        20    74        1        7        5         1        3      3   \n",
       "264        16    50        7        7        7         7        2      2   \n",
       "265        13    43        5        7        7         6        7      7   \n",
       "266        10    44        7        5        7         5        5      5   \n",
       "267        19    61        5        6        4         4        4      4   \n",
       "\n",
       "     doctor  reli  alone  others internet partner_bi friends_bi parents_bi  \\\n",
       "201       1     5      4       1      NaN        Yes         No        Yes   \n",
       "202       1     1      1       1        4         No         No         No   \n",
       "203       5     1      1       1        4        Yes        Yes        Yes   \n",
       "204       3     1      1       1        3         No        Yes        Yes   \n",
       "205       1     1      1       1        1        Yes        Yes        Yes   \n",
       "..      ...   ...    ...     ...      ...        ...        ...        ...   \n",
       "263       3     1      1       1        6         No        Yes        Yes   \n",
       "264       2     2      2       1        3        Yes        Yes        Yes   \n",
       "265       7     1      1       1        2        Yes        Yes        Yes   \n",
       "266       5     4      4       4        2        Yes        Yes        Yes   \n",
       "267       4     4      6       1        3        Yes        Yes         No   \n",
       "\n",
       "    relative_bi professional_bi phone_bi doctor_bi religion_bi alone_bi  \\\n",
       "201          No             Yes      Yes        No         Yes       No   \n",
       "202          No              No       No        No          No       No   \n",
       "203          No              No       No       Yes          No       No   \n",
       "204          No              No       No        No          No       No   \n",
       "205          No              No       No        No          No       No   \n",
       "..          ...             ...      ...       ...         ...      ...   \n",
       "263          No              No       No        No          No       No   \n",
       "264         Yes              No       No        No          No       No   \n",
       "265         Yes             Yes      Yes       Yes          No       No   \n",
       "266         Yes             Yes      Yes       Yes          No       No   \n",
       "267          No              No       No        No          No      Yes   \n",
       "\n",
       "    others_bi internet_bi  \n",
       "201        No          No  \n",
       "202        No          No  \n",
       "203        No          No  \n",
       "204        No          No  \n",
       "205        No          No  \n",
       "..        ...         ...  \n",
       "263        No         Yes  \n",
       "264        No          No  \n",
       "265        No          No  \n",
       "266        No          No  \n",
       "267        No          No  \n",
       "\n",
       "[67 rows x 50 columns]"
      ]
     },
     "execution_count": 22,
     "metadata": {},
     "output_type": "execute_result"
    }
   ],
   "source": [
    "mh1[mh1['inter_dom']=='Dom']"
   ]
  },
  {
   "cell_type": "code",
   "execution_count": 23,
   "metadata": {},
   "outputs": [
    {
     "data": {
      "text/html": [
       "<div>\n",
       "<style scoped>\n",
       "    .dataframe tbody tr th:only-of-type {\n",
       "        vertical-align: middle;\n",
       "    }\n",
       "\n",
       "    .dataframe tbody tr th {\n",
       "        vertical-align: top;\n",
       "    }\n",
       "\n",
       "    .dataframe thead th {\n",
       "        text-align: right;\n",
       "    }\n",
       "</style>\n",
       "<table border=\"1\" class=\"dataframe\">\n",
       "  <thead>\n",
       "    <tr style=\"text-align: right;\">\n",
       "      <th></th>\n",
       "      <th>inter_dom</th>\n",
       "      <th>region</th>\n",
       "      <th>gender</th>\n",
       "      <th>academic</th>\n",
       "      <th>age</th>\n",
       "      <th>age_cate</th>\n",
       "      <th>stay</th>\n",
       "      <th>stay_cate</th>\n",
       "      <th>japanese</th>\n",
       "      <th>japanese_cate</th>\n",
       "      <th>english</th>\n",
       "      <th>english_cate</th>\n",
       "      <th>intimate</th>\n",
       "      <th>religion</th>\n",
       "      <th>suicide</th>\n",
       "      <th>dep</th>\n",
       "      <th>deptype</th>\n",
       "      <th>todep</th>\n",
       "      <th>depsev</th>\n",
       "      <th>tosc</th>\n",
       "      <th>apd</th>\n",
       "      <th>ahome</th>\n",
       "      <th>aph</th>\n",
       "      <th>afear</th>\n",
       "      <th>acs</th>\n",
       "      <th>aguilt</th>\n",
       "      <th>amiscell</th>\n",
       "      <th>toas</th>\n",
       "      <th>partner</th>\n",
       "      <th>friends</th>\n",
       "      <th>parents</th>\n",
       "      <th>relative</th>\n",
       "      <th>profess</th>\n",
       "      <th>phone</th>\n",
       "      <th>doctor</th>\n",
       "      <th>reli</th>\n",
       "      <th>alone</th>\n",
       "      <th>others</th>\n",
       "      <th>internet</th>\n",
       "      <th>partner_bi</th>\n",
       "      <th>friends_bi</th>\n",
       "      <th>parents_bi</th>\n",
       "      <th>relative_bi</th>\n",
       "      <th>professional_bi</th>\n",
       "      <th>phone_bi</th>\n",
       "      <th>doctor_bi</th>\n",
       "      <th>religion_bi</th>\n",
       "      <th>alone_bi</th>\n",
       "      <th>others_bi</th>\n",
       "      <th>internet_bi</th>\n",
       "    </tr>\n",
       "  </thead>\n",
       "  <tbody>\n",
       "  </tbody>\n",
       "</table>\n",
       "</div>"
      ],
      "text/plain": [
       "Empty DataFrame\n",
       "Columns: [inter_dom, region, gender, academic, age, age_cate, stay, stay_cate, japanese, japanese_cate, english, english_cate, intimate, religion, suicide, dep, deptype, todep, depsev, tosc, apd, ahome, aph, afear, acs, aguilt, amiscell, toas, partner, friends, parents, relative, profess, phone, doctor, reli, alone, others, internet, partner_bi, friends_bi, parents_bi, relative_bi, professional_bi, phone_bi, doctor_bi, religion_bi, alone_bi, others_bi, internet_bi]\n",
       "Index: []"
      ]
     },
     "execution_count": 23,
     "metadata": {},
     "output_type": "execute_result"
    }
   ],
   "source": [
    "mh1[mh1['inter_dom'].isnull()]"
   ]
  },
  {
   "cell_type": "code",
   "execution_count": 20,
   "metadata": {},
   "outputs": [
    {
     "data": {
      "text/plain": [
       "<Axes: xlabel='student_type'>"
      ]
     },
     "execution_count": 20,
     "metadata": {},
     "output_type": "execute_result"
    },
    {
     "data": {
      "image/png": "[encoded data removed]",
      "text/plain": [
       "<Figure size 640x480 with 1 Axes>"
      ]
     },
     "metadata": {},
     "output_type": "display_data"
    }
   ],
   "source": [
    "students_by_region.plot(kind = 'bar',x ='student_type', y = 'num_of_students')"
   ]
  },
  {
   "cell_type": "code",
   "execution_count": 21,
   "metadata": {},
   "outputs": [
    {
     "name": "stderr",
     "output_type": "stream",
     "text": [
      "C:\\Users\\hajia\\AppData\\Local\\Temp\\ipykernel_15192\\4282640126.py:1: UserWarning: pandas only supports SQLAlchemy connectable (engine/connection) or database string URI or sqlite3 DBAPI2 connection. Other DBAPI2 objects are not tested. Please consider using SQLAlchemy.\n",
      "  students_mental_health_by_region = pd.read_sql_query(\"\"\"select inter_dom, round(avg(todep),2) as avg_todep, min(todep) as min_todep, max(todep)as max_todep,\n"
     ]
    }
   ],
   "source": [
    "students_mental_health_by_region = pd.read_sql_query(\"\"\"select inter_dom, round(avg(todep),2) as avg_todep, min(todep) as min_todep, max(todep)as max_todep,\n",
    "round(avg(toas),2) as avg_toas, min(toas) as min_toas, max(toas) as max_toas,\n",
    "round(avg(tosc),2) as avg_tosc, min(tosc) as min_tosc, max(tosc) as max_tosc from students\n",
    "group by inter_dom ;\n",
    "\"\"\", con)"
   ]
  },
  {
   "cell_type": "code",
   "execution_count": 23,
   "metadata": {},
   "outputs": [
    {
     "data": {
      "text/html": [
       "<div>\n",
       "<style scoped>\n",
       "    .dataframe tbody tr th:only-of-type {\n",
       "        vertical-align: middle;\n",
       "    }\n",
       "\n",
       "    .dataframe tbody tr th {\n",
       "        vertical-align: top;\n",
       "    }\n",
       "\n",
       "    .dataframe thead th {\n",
       "        text-align: right;\n",
       "    }\n",
       "</style>\n",
       "<table border=\"1\" class=\"dataframe\">\n",
       "  <thead>\n",
       "    <tr style=\"text-align: right;\">\n",
       "      <th></th>\n",
       "      <th>inter_dom</th>\n",
       "      <th>avg_todep</th>\n",
       "      <th>min_todep</th>\n",
       "      <th>max_todep</th>\n",
       "      <th>avg_toas</th>\n",
       "      <th>min_toas</th>\n",
       "      <th>max_toas</th>\n",
       "      <th>avg_tosc</th>\n",
       "      <th>min_tosc</th>\n",
       "      <th>max_tosc</th>\n",
       "    </tr>\n",
       "  </thead>\n",
       "  <tbody>\n",
       "    <tr>\n",
       "      <th>0</th>\n",
       "      <td>Inter</td>\n",
       "      <td>8.04</td>\n",
       "      <td>0</td>\n",
       "      <td>25</td>\n",
       "      <td>75.56</td>\n",
       "      <td>36</td>\n",
       "      <td>145</td>\n",
       "      <td>37.42</td>\n",
       "      <td>11</td>\n",
       "      <td>48</td>\n",
       "    </tr>\n",
       "    <tr>\n",
       "      <th>1</th>\n",
       "      <td>Dom</td>\n",
       "      <td>8.61</td>\n",
       "      <td>0</td>\n",
       "      <td>23</td>\n",
       "      <td>62.84</td>\n",
       "      <td>36</td>\n",
       "      <td>112</td>\n",
       "      <td>37.64</td>\n",
       "      <td>8</td>\n",
       "      <td>48</td>\n",
       "    </tr>\n",
       "  </tbody>\n",
       "</table>\n",
       "</div>"
      ],
      "text/plain": [
       "  inter_dom  avg_todep  min_todep  max_todep  avg_toas  min_toas  max_toas  \\\n",
       "0     Inter       8.04          0         25     75.56        36       145   \n",
       "1       Dom       8.61          0         23     62.84        36       112   \n",
       "\n",
       "   avg_tosc  min_tosc  max_tosc  \n",
       "0     37.42        11        48  \n",
       "1     37.64         8        48  "
      ]
     },
     "execution_count": 23,
     "metadata": {},
     "output_type": "execute_result"
    }
   ],
   "source": [
    "students_mental_health_by_region"
   ]
  },
  {
   "cell_type": "code",
   "execution_count": 28,
   "metadata": {},
   "outputs": [
    {
     "data": {
      "text/plain": [
       "<Axes: >"
      ]
     },
     "execution_count": 28,
     "metadata": {},
     "output_type": "execute_result"
    },
    {
     "data": {
      "image/png": "[encoded data removed]",
      "text/plain": [
       "<Figure size 640x480 with 1 Axes>"
      ]
     },
     "metadata": {},
     "output_type": "display_data"
    }
   ],
   "source": [
    "sns.scatterplot(students_mental_health_by_region)"
   ]
  },
  {
   "cell_type": "code",
   "execution_count": 37,
   "metadata": {},
   "outputs": [
    {
     "data": {
      "text/plain": [
       "<matplotlib.legend.Legend at 0x1394b0ecd90>"
      ]
     },
     "execution_count": 37,
     "metadata": {},
     "output_type": "execute_result"
    },
    {
     "data": {
      "image/png": "[encoded data removed]",
      "text/plain": [
       "<Figure size 640x480 with 1 Axes>"
      ]
     },
     "metadata": {},
     "output_type": "display_data"
    }
   ],
   "source": [
    "plt.plot(students_mental_health_by_region['inter_dom'], students_mental_health_by_region['avg_todep'], label = 'PHQ')\n",
    "plt.plot(students_mental_health_by_region['inter_dom'], students_mental_health_by_region['avg_toas'], label = 'AS')\n",
    "plt.plot(students_mental_health_by_region['inter_dom'], students_mental_health_by_region['avg_tosc'], label = 'SCS')\n",
    "plt.legend()"
   ]
  },
  {
   "cell_type": "code",
   "execution_count": 46,
   "metadata": {},
   "outputs": [],
   "source": [
    "mh_by_age = mh1[['age_cate', 'todep', 'toas', 'tosc']].groupby('age_cate').mean()"
   ]
  },
  {
   "cell_type": "code",
   "execution_count": 44,
   "metadata": {},
   "outputs": [
    {
     "data": {
      "text/html": [
       "<div>\n",
       "<style scoped>\n",
       "    .dataframe tbody tr th:only-of-type {\n",
       "        vertical-align: middle;\n",
       "    }\n",
       "\n",
       "    .dataframe tbody tr th {\n",
       "        vertical-align: top;\n",
       "    }\n",
       "\n",
       "    .dataframe thead th {\n",
       "        text-align: right;\n",
       "    }\n",
       "</style>\n",
       "<table border=\"1\" class=\"dataframe\">\n",
       "  <thead>\n",
       "    <tr style=\"text-align: right;\">\n",
       "      <th></th>\n",
       "      <th>inter_dom</th>\n",
       "      <th>region</th>\n",
       "      <th>gender</th>\n",
       "      <th>academic</th>\n",
       "      <th>age</th>\n",
       "      <th>age_cate</th>\n",
       "      <th>stay</th>\n",
       "      <th>stay_cate</th>\n",
       "      <th>japanese</th>\n",
       "      <th>japanese_cate</th>\n",
       "      <th>...</th>\n",
       "      <th>friends_bi</th>\n",
       "      <th>parents_bi</th>\n",
       "      <th>relative_bi</th>\n",
       "      <th>professional_bi</th>\n",
       "      <th>phone_bi</th>\n",
       "      <th>doctor_bi</th>\n",
       "      <th>religion_bi</th>\n",
       "      <th>alone_bi</th>\n",
       "      <th>others_bi</th>\n",
       "      <th>internet_bi</th>\n",
       "    </tr>\n",
       "  </thead>\n",
       "  <tbody>\n",
       "    <tr>\n",
       "      <th>0</th>\n",
       "      <td>Inter</td>\n",
       "      <td>SEA</td>\n",
       "      <td>Male</td>\n",
       "      <td>Grad</td>\n",
       "      <td>24</td>\n",
       "      <td>4</td>\n",
       "      <td>5</td>\n",
       "      <td>Long</td>\n",
       "      <td>3</td>\n",
       "      <td>Average</td>\n",
       "      <td>...</td>\n",
       "      <td>Yes</td>\n",
       "      <td>Yes</td>\n",
       "      <td>No</td>\n",
       "      <td>No</td>\n",
       "      <td>No</td>\n",
       "      <td>No</td>\n",
       "      <td>No</td>\n",
       "      <td>No</td>\n",
       "      <td>No</td>\n",
       "      <td>No</td>\n",
       "    </tr>\n",
       "    <tr>\n",
       "      <th>1</th>\n",
       "      <td>Inter</td>\n",
       "      <td>SEA</td>\n",
       "      <td>Male</td>\n",
       "      <td>Grad</td>\n",
       "      <td>28</td>\n",
       "      <td>5</td>\n",
       "      <td>1</td>\n",
       "      <td>Short</td>\n",
       "      <td>4</td>\n",
       "      <td>High</td>\n",
       "      <td>...</td>\n",
       "      <td>Yes</td>\n",
       "      <td>Yes</td>\n",
       "      <td>No</td>\n",
       "      <td>No</td>\n",
       "      <td>No</td>\n",
       "      <td>No</td>\n",
       "      <td>No</td>\n",
       "      <td>No</td>\n",
       "      <td>No</td>\n",
       "      <td>No</td>\n",
       "    </tr>\n",
       "    <tr>\n",
       "      <th>2</th>\n",
       "      <td>Inter</td>\n",
       "      <td>SEA</td>\n",
       "      <td>Male</td>\n",
       "      <td>Grad</td>\n",
       "      <td>25</td>\n",
       "      <td>4</td>\n",
       "      <td>6</td>\n",
       "      <td>Long</td>\n",
       "      <td>4</td>\n",
       "      <td>High</td>\n",
       "      <td>...</td>\n",
       "      <td>No</td>\n",
       "      <td>No</td>\n",
       "      <td>No</td>\n",
       "      <td>No</td>\n",
       "      <td>No</td>\n",
       "      <td>No</td>\n",
       "      <td>No</td>\n",
       "      <td>No</td>\n",
       "      <td>No</td>\n",
       "      <td>No</td>\n",
       "    </tr>\n",
       "    <tr>\n",
       "      <th>3</th>\n",
       "      <td>Inter</td>\n",
       "      <td>EA</td>\n",
       "      <td>Female</td>\n",
       "      <td>Grad</td>\n",
       "      <td>29</td>\n",
       "      <td>5</td>\n",
       "      <td>1</td>\n",
       "      <td>Short</td>\n",
       "      <td>2</td>\n",
       "      <td>Low</td>\n",
       "      <td>...</td>\n",
       "      <td>Yes</td>\n",
       "      <td>Yes</td>\n",
       "      <td>Yes</td>\n",
       "      <td>Yes</td>\n",
       "      <td>No</td>\n",
       "      <td>No</td>\n",
       "      <td>No</td>\n",
       "      <td>No</td>\n",
       "      <td>No</td>\n",
       "      <td>No</td>\n",
       "    </tr>\n",
       "    <tr>\n",
       "      <th>4</th>\n",
       "      <td>Inter</td>\n",
       "      <td>EA</td>\n",
       "      <td>Female</td>\n",
       "      <td>Grad</td>\n",
       "      <td>28</td>\n",
       "      <td>5</td>\n",
       "      <td>1</td>\n",
       "      <td>Short</td>\n",
       "      <td>1</td>\n",
       "      <td>Low</td>\n",
       "      <td>...</td>\n",
       "      <td>Yes</td>\n",
       "      <td>Yes</td>\n",
       "      <td>No</td>\n",
       "      <td>Yes</td>\n",
       "      <td>No</td>\n",
       "      <td>Yes</td>\n",
       "      <td>Yes</td>\n",
       "      <td>No</td>\n",
       "      <td>No</td>\n",
       "      <td>No</td>\n",
       "    </tr>\n",
       "    <tr>\n",
       "      <th>...</th>\n",
       "      <td>...</td>\n",
       "      <td>...</td>\n",
       "      <td>...</td>\n",
       "      <td>...</td>\n",
       "      <td>...</td>\n",
       "      <td>...</td>\n",
       "      <td>...</td>\n",
       "      <td>...</td>\n",
       "      <td>...</td>\n",
       "      <td>...</td>\n",
       "      <td>...</td>\n",
       "      <td>...</td>\n",
       "      <td>...</td>\n",
       "      <td>...</td>\n",
       "      <td>...</td>\n",
       "      <td>...</td>\n",
       "      <td>...</td>\n",
       "      <td>...</td>\n",
       "      <td>...</td>\n",
       "      <td>...</td>\n",
       "      <td>...</td>\n",
       "    </tr>\n",
       "    <tr>\n",
       "      <th>263</th>\n",
       "      <td>Dom</td>\n",
       "      <td>JAP</td>\n",
       "      <td>Female</td>\n",
       "      <td>Under</td>\n",
       "      <td>21</td>\n",
       "      <td>3</td>\n",
       "      <td>4</td>\n",
       "      <td>Long</td>\n",
       "      <td>5</td>\n",
       "      <td>High</td>\n",
       "      <td>...</td>\n",
       "      <td>Yes</td>\n",
       "      <td>Yes</td>\n",
       "      <td>No</td>\n",
       "      <td>No</td>\n",
       "      <td>No</td>\n",
       "      <td>No</td>\n",
       "      <td>No</td>\n",
       "      <td>No</td>\n",
       "      <td>No</td>\n",
       "      <td>Yes</td>\n",
       "    </tr>\n",
       "    <tr>\n",
       "      <th>264</th>\n",
       "      <td>Dom</td>\n",
       "      <td>JAP</td>\n",
       "      <td>Female</td>\n",
       "      <td>Under</td>\n",
       "      <td>22</td>\n",
       "      <td>3</td>\n",
       "      <td>3</td>\n",
       "      <td>Medium</td>\n",
       "      <td>3</td>\n",
       "      <td>Average</td>\n",
       "      <td>...</td>\n",
       "      <td>Yes</td>\n",
       "      <td>Yes</td>\n",
       "      <td>Yes</td>\n",
       "      <td>No</td>\n",
       "      <td>No</td>\n",
       "      <td>No</td>\n",
       "      <td>No</td>\n",
       "      <td>No</td>\n",
       "      <td>No</td>\n",
       "      <td>No</td>\n",
       "    </tr>\n",
       "    <tr>\n",
       "      <th>265</th>\n",
       "      <td>Dom</td>\n",
       "      <td>JAP</td>\n",
       "      <td>Female</td>\n",
       "      <td>Under</td>\n",
       "      <td>19</td>\n",
       "      <td>2</td>\n",
       "      <td>1</td>\n",
       "      <td>Short</td>\n",
       "      <td>5</td>\n",
       "      <td>High</td>\n",
       "      <td>...</td>\n",
       "      <td>Yes</td>\n",
       "      <td>Yes</td>\n",
       "      <td>Yes</td>\n",
       "      <td>Yes</td>\n",
       "      <td>Yes</td>\n",
       "      <td>Yes</td>\n",
       "      <td>No</td>\n",
       "      <td>No</td>\n",
       "      <td>No</td>\n",
       "      <td>No</td>\n",
       "    </tr>\n",
       "    <tr>\n",
       "      <th>266</th>\n",
       "      <td>Dom</td>\n",
       "      <td>JAP</td>\n",
       "      <td>Male</td>\n",
       "      <td>Under</td>\n",
       "      <td>19</td>\n",
       "      <td>2</td>\n",
       "      <td>1</td>\n",
       "      <td>Short</td>\n",
       "      <td>5</td>\n",
       "      <td>High</td>\n",
       "      <td>...</td>\n",
       "      <td>Yes</td>\n",
       "      <td>Yes</td>\n",
       "      <td>Yes</td>\n",
       "      <td>Yes</td>\n",
       "      <td>Yes</td>\n",
       "      <td>Yes</td>\n",
       "      <td>No</td>\n",
       "      <td>No</td>\n",
       "      <td>No</td>\n",
       "      <td>No</td>\n",
       "    </tr>\n",
       "    <tr>\n",
       "      <th>267</th>\n",
       "      <td>Dom</td>\n",
       "      <td>JAP</td>\n",
       "      <td>Male</td>\n",
       "      <td>Under</td>\n",
       "      <td>20</td>\n",
       "      <td>2</td>\n",
       "      <td>2</td>\n",
       "      <td>Medium</td>\n",
       "      <td>5</td>\n",
       "      <td>High</td>\n",
       "      <td>...</td>\n",
       "      <td>Yes</td>\n",
       "      <td>No</td>\n",
       "      <td>No</td>\n",
       "      <td>No</td>\n",
       "      <td>No</td>\n",
       "      <td>No</td>\n",
       "      <td>No</td>\n",
       "      <td>Yes</td>\n",
       "      <td>No</td>\n",
       "      <td>No</td>\n",
       "    </tr>\n",
       "  </tbody>\n",
       "</table>\n",
       "<p>268 rows × 50 columns</p>\n",
       "</div>"
      ],
      "text/plain": [
       "    inter_dom region  gender academic  age  age_cate  stay stay_cate  \\\n",
       "0       Inter    SEA    Male     Grad   24         4     5      Long   \n",
       "1       Inter    SEA    Male     Grad   28         5     1     Short   \n",
       "2       Inter    SEA    Male     Grad   25         4     6      Long   \n",
       "3       Inter     EA  Female     Grad   29         5     1     Short   \n",
       "4       Inter     EA  Female     Grad   28         5     1     Short   \n",
       "..        ...    ...     ...      ...  ...       ...   ...       ...   \n",
       "263       Dom    JAP  Female    Under   21         3     4      Long   \n",
       "264       Dom    JAP  Female    Under   22         3     3    Medium   \n",
       "265       Dom    JAP  Female    Under   19         2     1     Short   \n",
       "266       Dom    JAP    Male    Under   19         2     1     Short   \n",
       "267       Dom    JAP    Male    Under   20         2     2    Medium   \n",
       "\n",
       "     japanese japanese_cate  ...  friends_bi parents_bi relative_bi  \\\n",
       "0           3       Average  ...         Yes        Yes          No   \n",
       "1           4          High  ...         Yes        Yes          No   \n",
       "2           4          High  ...          No         No          No   \n",
       "3           2           Low  ...         Yes        Yes         Yes   \n",
       "4           1           Low  ...         Yes        Yes          No   \n",
       "..        ...           ...  ...         ...        ...         ...   \n",
       "263         5          High  ...         Yes        Yes          No   \n",
       "264         3       Average  ...         Yes        Yes         Yes   \n",
       "265         5          High  ...         Yes        Yes         Yes   \n",
       "266         5          High  ...         Yes        Yes         Yes   \n",
       "267         5          High  ...         Yes         No          No   \n",
       "\n",
       "    professional_bi phone_bi doctor_bi religion_bi  alone_bi others_bi  \\\n",
       "0                No       No        No          No        No        No   \n",
       "1                No       No        No          No        No        No   \n",
       "2                No       No        No          No        No        No   \n",
       "3               Yes       No        No          No        No        No   \n",
       "4               Yes       No       Yes         Yes        No        No   \n",
       "..              ...      ...       ...         ...       ...       ...   \n",
       "263              No       No        No          No        No        No   \n",
       "264              No       No        No          No        No        No   \n",
       "265             Yes      Yes       Yes          No        No        No   \n",
       "266             Yes      Yes       Yes          No        No        No   \n",
       "267              No       No        No          No       Yes        No   \n",
       "\n",
       "     internet_bi  \n",
       "0             No  \n",
       "1             No  \n",
       "2             No  \n",
       "3             No  \n",
       "4             No  \n",
       "..           ...  \n",
       "263          Yes  \n",
       "264           No  \n",
       "265           No  \n",
       "266           No  \n",
       "267           No  \n",
       "\n",
       "[268 rows x 50 columns]"
      ]
     },
     "execution_count": 44,
     "metadata": {},
     "output_type": "execute_result"
    }
   ],
   "source": []
  },
  {
   "cell_type": "code",
   "execution_count": 49,
   "metadata": {},
   "outputs": [
    {
     "data": {
      "image/png": "[encoded data removed]",
      "text/plain": [
       "<Figure size 640x480 with 1 Axes>"
      ]
     },
     "metadata": {},
     "output_type": "display_data"
    }
   ],
   "source": [
    "plt.plot(mh_by_age.index, mh_by_age['todep'], label = 'PHQ')\n",
    "plt.plot(mh_by_age.index, mh_by_age['toas'], label = 'AS')\n",
    "plt.plot(mh_by_age.index, mh_by_age['tosc'], label ='SC')\n",
    "plt.legend()\n",
    "plt.show()"
   ]
  },
  {
   "cell_type": "code",
   "execution_count": 52,
   "metadata": {},
   "outputs": [],
   "source": [
    "mh_by_stay = mh1[['stay', 'todep', 'toas', 'tosc']].groupby('stay').mean()"
   ]
  },
  {
   "cell_type": "code",
   "execution_count": 55,
   "metadata": {},
   "outputs": [
    {
     "data": {
      "image/png": "[encoded data removed]",
      "text/plain": [
       "<Figure size 1500x1100 with 1 Axes>"
      ]
     },
     "metadata": {},
     "output_type": "display_data"
    }
   ],
   "source": [
    "plt.figure(figsize=[15,11])\n",
    "plt.plot(mh_by_stay.index, mh_by_stay['todep'], label = 'PHQ')\n",
    "plt.plot(mh_by_stay.index, mh_by_stay['toas'], label = 'AS')\n",
    "plt.plot(mh_by_stay.index, mh_by_stay['tosc'], label ='SC')\n",
    "plt.legend()\n",
    "plt.show()"
   ]
  },
  {
   "cell_type": "code",
   "execution_count": 56,
   "metadata": {},
   "outputs": [
    {
     "name": "stdout",
     "output_type": "stream",
     "text": [
      "Requirement already satisfied: plotly in d:\\anaconda\\lib\\site-packages (5.9.0)\n",
      "Requirement already satisfied: tenacity>=6.2.0 in d:\\anaconda\\lib\\site-packages (from plotly) (8.2.2)\n",
      "Note: you may need to restart the kernel to use updated packages.\n"
     ]
    }
   ],
   "source": [
    "pip install plotly"
   ]
  },
  {
   "cell_type": "code",
   "execution_count": 58,
   "metadata": {},
   "outputs": [
    {
     "name": "stderr",
     "output_type": "stream",
     "text": [
      "C:\\Users\\hajia\\AppData\\Local\\Temp\\ipykernel_15192\\2701905130.py:9: FutureWarning:\n",
      "\n",
      "The default value of numeric_only in DataFrame.corr is deprecated. In a future version, it will default to False. Select only valid columns or specify the value of numeric_only to silence this warning.\n",
      "\n"
     ]
    },
    {
     "data": {
      "application/vnd.plotly.v1+json": {
       "config": {
        "plotlyServerURL": "https://plot.ly"
       },
       "data": [
        {
         "type": "heatmap",
         "x": [
          "age",
          "stay",
          "japanese",
          "english",
          "todep",
          "tosc",
          "apd",
          "ahome",
          "aph",
          "afear",
          "acs",
          "aguilt",
          "amiscell",
          "toas",
          "partner",
          "friends",
          "parents",
          "relative",
          "profess",
          "phone",
          "doctor",
          "reli",
          "alone",
          "others"
         ],
         "y": [
          "age",
          "stay",
          "japanese",
          "english",
          "todep",
          "tosc",
          "apd",
          "ahome",
          "aph",
          "afear",
          "acs",
          "aguilt",
          "amiscell",
          "toas",
          "partner",
          "friends",
          "parents",
          "relative",
          "profess",
          "phone",
          "doctor",
          "reli",
          "alone",
          "others"
         ],
         "z": [
          [
           1,
           0.30223442861041994,
           -0.13346135511164042,
           0.050872599879405705,
           -0.11526276048033443,
           0.11046223791627822,
           0.0574896536966225,
           -0.022056288641419165,
           -0.013014375662681736,
           0.017738742224981268,
           0.11934070625017869,
           -0.038557980354092754,
           0.046097436179253014,
           0.03731837300153905,
           0.11999313142819595,
           -0.054480818953576926,
           -0.021118652289905386,
           -0.025270344560412147,
           0.04681613590826104,
           -0.026764903746492964,
           0.04726100914515056,
           0.13597872353012724,
           -0.13741467714249087,
           -0.0019613050994948186
          ],
          [
           0.30223442861041994,
           1,
           0.3071546800158845,
           -0.015932731090200283,
           0.05158095907975082,
           -0.0375866054343532,
           0.059173687257718585,
           -0.12338554627055097,
           0.021855958817581043,
           0.0160582104984054,
           0.018953913213940764,
           -0.024161298515085857,
           -0.0013831054196054035,
           0.00022140307033668118,
           -0.0099015681776633,
           0.019637492434926723,
           -0.021692246664182593,
           -0.0697915836171958,
           -0.03998721431313516,
           -0.06733550437072844,
           -0.011302033281015868,
           -0.02351448058360812,
           -0.11761601041882046,
           0.0006159518986365689
          ],
          [
           -0.13346135511164042,
           0.3071546800158845,
           1,
           -0.3089778925995498,
           0.03654763129129567,
           0.04275464995521668,
           -0.1735866204056002,
           -0.29011336953292716,
           -0.15148312571598643,
           -0.13610666830015347,
           -0.22895356270079423,
           -0.0921697608149918,
           -0.19989825239167086,
           -0.24489148848944298,
           0.0008429980262486987,
           0.11017139039649985,
           0.15400451748932695,
           0.00024240509176867418,
           0.06327138180644894,
           0.13782656855238973,
           0.09287260401366577,
           -0.03846289857632018,
           -0.1912651401950974,
           -0.06990933942952544
          ],
          [
           0.050872599879405705,
           -0.015932731090200283,
           -0.3089778925995498,
           1,
           -0.03645150913166027,
           -0.07436771826212324,
           0.15563589036777944,
           0.07546843463198911,
           0.11252975831807727,
           0.08502258432550147,
           0.15367014101042195,
           -0.023040166971250338,
           0.1062291855980115,
           0.1387620044416444,
           0.17548010120944432,
           0.035083791197732965,
           -0.028580379685928456,
           0.026760760687337813,
           0.08392163985333859,
           -0.05002403324399636,
           0.062342910389343,
           0.04621808270329078,
           0.10553795153065841,
           0.10833414805009514
          ],
          [
           -0.11526276048033443,
           0.05158095907975082,
           0.03654763129129567,
           -0.03645150913166027,
           1,
           -0.551795283709692,
           0.34025572677544047,
           0.16858665501797263,
           0.3092536691492189,
           0.3486300390590868,
           0.27432671345226944,
           0.30594760685915373,
           0.33334197697735024,
           0.39409453380723974,
           -0.050095627253516496,
           -0.11529651401429147,
           -0.17058048436841194,
           -0.14619371027807468,
           0.06348314835260256,
           0.07887758329259738,
           -0.031113961785138797,
           -0.036489584641955106,
           0.3096974109777824,
           0.24107178003570032
          ],
          [
           0.11046223791627822,
           -0.0375866054343532,
           0.04275464995521668,
           -0.07436771826212324,
           -0.551795283709692,
           1,
           -0.5294965516746343,
           -0.23795255500800946,
           -0.42424603201435623,
           -0.4271055400401072,
           -0.3527790085175274,
           -0.3686556274576898,
           -0.4908851515424259,
           -0.5558600932591827,
           0.047433059457919695,
           0.126788846602698,
           0.17685137413185165,
           0.16517883719995807,
           -0.1056326681445647,
           -0.020279138358540966,
           -0.030819426573632923,
           -0.00016570591945575588,
           -0.4289067891363692,
           -0.2331472700010815
          ],
          [
           0.0574896536966225,
           0.059173687257718585,
           -0.1735866204056002,
           0.15563589036777944,
           0.34025572677544047,
           -0.5294965516746343,
           1,
           0.3713296997467809,
           0.6475122446697448,
           0.5724206362932405,
           0.4478054541175727,
           0.31069864318420953,
           0.578559446112398,
           0.8037853755555872,
           0.04137697699365782,
           -0.045776104593547876,
           -0.12656924717099816,
           -0.06310604763408748,
           0.1415398496105294,
           0.11384010099413666,
           0.1232596235433279,
           0.1854947578069954,
           0.26603586359896886,
           0.235916466472166
          ],
          [
           -0.022056288641419165,
           -0.12338554627055097,
           -0.29011336953292716,
           0.07546843463198911,
           0.16858665501797263,
           -0.23795255500800946,
           0.3713296997467809,
           1,
           0.39722720251597404,
           0.43571396846864147,
           0.46086693513791943,
           0.41286020337905,
           0.5064804245967209,
           0.6651342770500729,
           0.019517239896626973,
           0.08668507631104107,
           0.1676889580659996,
           0.13872954598517842,
           0.1278843499024998,
           0.0910443553374008,
           -0.008427816454745612,
           0.16289896197700784,
           0.11022933076103679,
           0.19290368534177982
          ],
          [
           -0.013014375662681736,
           0.021855958817581043,
           -0.15148312571598643,
           0.11252975831807727,
           0.3092536691492189,
           -0.42424603201435623,
           0.6475122446697448,
           0.39722720251597404,
           1,
           0.6408838882612105,
           0.46610935873065235,
           0.34183299541294115,
           0.5460327278086302,
           0.7810582934656541,
           -0.06589926808195731,
           -0.11596828726072766,
           -0.10892146116779795,
           -0.059540023948938474,
           0.08148904322852193,
           0.0760898887095804,
           0.06672688476679609,
           0.14349338747672946,
           0.25159421752707395,
           0.22829320009725237
          ],
          [
           0.017738742224981268,
           0.0160582104984054,
           -0.13610666830015347,
           0.08502258432550147,
           0.3486300390590868,
           -0.4271055400401072,
           0.5724206362932405,
           0.43571396846864147,
           0.6408838882612105,
           1,
           0.41265000745002817,
           0.4304985066740514,
           0.5704248106145678,
           0.7595361895164652,
           -0.09005694978525522,
           -0.09041954086174268,
           -0.07593760944772228,
           -0.023951928112485834,
           0.12016288728208566,
           0.09061756436574207,
           0.043979864266858876,
           0.1691535861026482,
           0.17966406713441127,
           0.2561269131564129
          ],
          [
           0.11934070625017869,
           0.018953913213940764,
           -0.22895356270079423,
           0.15367014101042195,
           0.27432671345226944,
           -0.3527790085175274,
           0.4478054541175727,
           0.46086693513791943,
           0.46610935873065235,
           0.41265000745002817,
           1,
           0.4025079126524669,
           0.6465048856068519,
           0.7068950142983819,
           0.0641728347982046,
           0.04012644375583,
           0.015049455806384972,
           0.0340199458849327,
           0.13139679325327222,
           0.11118875038400824,
           0.05507722763454761,
           0.11815245833982374,
           0.2482187717789588,
           0.1804803058517604
          ],
          [
           -0.038557980354092754,
           -0.024161298515085857,
           -0.0921697608149918,
           -0.023040166971250338,
           0.30594760685915373,
           -0.3686556274576898,
           0.31069864318420953,
           0.41286020337905,
           0.34183299541294115,
           0.4304985066740514,
           0.4025079126524669,
           1,
           0.49783991339200884,
           0.5736037024714602,
           -0.029316833301396797,
           -0.05303173787249692,
           -0.0732196617605876,
           0.009640849414106015,
           0.08897633199793545,
           0.06752456118180285,
           0.002236538819068991,
           0.20115417422819887,
           0.27001069782834475,
           0.24143614806649277
          ],
          [
           0.046097436179253014,
           -0.0013831054196054035,
           -0.19989825239167086,
           0.1062291855980115,
           0.33334197697735024,
           -0.4908851515424259,
           0.578559446112398,
           0.5064804245967209,
           0.5460327278086302,
           0.5704248106145678,
           0.6465048856068519,
           0.49783991339200884,
           1,
           0.8701018256644012,
           0.13070249080270335,
           0.05569954122802553,
           0.028671718115611967,
           0.040339294999262316,
           0.22064352874694412,
           0.12141315582611946,
           0.11571968841234022,
           0.16207937255175792,
           0.30718113747337483,
           0.2903775641198487
          ],
          [
           0.03731837300153905,
           0.00022140307033668118,
           -0.24489148848944298,
           0.1387620044416444,
           0.39409453380723974,
           -0.5558600932591827,
           0.8037853755555872,
           0.6651342770500729,
           0.7810582934656541,
           0.7595361895164652,
           0.7068950142983819,
           0.5736037024714602,
           0.8701018256644012,
           1,
           0.03777942073259224,
           -0.012689086607837198,
           -0.03049180053239368,
           0.010952732065064896,
           0.18756882481302994,
           0.13186449484675458,
           0.094859655327835,
           0.21276764865574194,
           0.31504183637614114,
           0.31198265400944775
          ],
          [
           0.11999313142819595,
           -0.0099015681776633,
           0.0008429980262486987,
           0.17548010120944432,
           -0.050095627253516496,
           0.047433059457919695,
           0.04137697699365782,
           0.019517239896626973,
           -0.06589926808195731,
           -0.09005694978525522,
           0.0641728347982046,
           -0.029316833301396797,
           0.13070249080270335,
           0.03777942073259224,
           1,
           0.40073105330563685,
           0.38825766980804627,
           0.22509874089904341,
           0.3176033239610909,
           0.17566863954020526,
           0.2955076302693881,
           0.09543318624408503,
           -0.03043700121811064,
           0.015381927912487794
          ],
          [
           -0.054480818953576926,
           0.019637492434926723,
           0.11017139039649985,
           0.035083791197732965,
           -0.11529651401429147,
           0.126788846602698,
           -0.045776104593547876,
           0.08668507631104107,
           -0.11596828726072766,
           -0.09041954086174268,
           0.04012644375583,
           -0.05303173787249692,
           0.05569954122802553,
           -0.012689086607837198,
           0.40073105330563685,
           1,
           0.4815654626419163,
           0.3568150761602755,
           0.2760451816395799,
           0.20129488948284283,
           0.2862014732384553,
           0.15878491080287618,
           -0.08385395137327106,
           0.045772136053049785
          ],
          [
           -0.021118652289905386,
           -0.021692246664182593,
           0.15400451748932695,
           -0.028580379685928456,
           -0.17058048436841194,
           0.17685137413185165,
           -0.12656924717099816,
           0.1676889580659996,
           -0.10892146116779795,
           -0.07593760944772228,
           0.015049455806384972,
           -0.0732196617605876,
           0.028671718115611967,
           -0.03049180053239368,
           0.38825766980804627,
           0.4815654626419163,
           1,
           0.613094197915781,
           0.2768800933281308,
           0.22950024395221227,
           0.3096839152198451,
           0.1840140864047523,
           -0.19492989746077202,
           0.03101062920035796
          ],
          [
           -0.025270344560412147,
           -0.0697915836171958,
           0.00024240509176867418,
           0.026760760687337813,
           -0.14619371027807468,
           0.16517883719995807,
           -0.06310604763408748,
           0.13872954598517842,
           -0.059540023948938474,
           -0.023951928112485834,
           0.0340199458849327,
           0.009640849414106015,
           0.040339294999262316,
           0.010952732065064896,
           0.22509874089904341,
           0.3568150761602755,
           0.613094197915781,
           1,
           0.32803127204567756,
           0.329538017759358,
           0.3172011023347105,
           0.32111273987104116,
           -0.12422280350202371,
           0.1158679272712482
          ],
          [
           0.04681613590826104,
           -0.03998721431313516,
           0.06327138180644894,
           0.08392163985333859,
           0.06348314835260256,
           -0.1056326681445647,
           0.1415398496105294,
           0.1278843499024998,
           0.08148904322852193,
           0.12016288728208566,
           0.13139679325327222,
           0.08897633199793545,
           0.22064352874694412,
           0.18756882481302994,
           0.3176033239610909,
           0.2760451816395799,
           0.2768800933281308,
           0.32803127204567756,
           1,
           0.6384846948421239,
           0.69664876575141,
           0.3244339550632918,
           -0.03411796970622428,
           0.22177798230730067
          ],
          [
           -0.026764903746492964,
           -0.06733550437072844,
           0.13782656855238973,
           -0.05002403324399636,
           0.07887758329259738,
           -0.020279138358540966,
           0.11384010099413666,
           0.0910443553374008,
           0.0760898887095804,
           0.09061756436574207,
           0.11118875038400824,
           0.06752456118180285,
           0.12141315582611946,
           0.13186449484675458,
           0.17566863954020526,
           0.20129488948284283,
           0.22950024395221227,
           0.329538017759358,
           0.6384846948421239,
           1,
           0.635734429776419,
           0.48793447542993423,
           0.06461612184864152,
           0.2604396850394347
          ],
          [
           0.04726100914515056,
           -0.011302033281015868,
           0.09287260401366577,
           0.062342910389343,
           -0.031113961785138797,
           -0.030819426573632923,
           0.1232596235433279,
           -0.008427816454745612,
           0.06672688476679609,
           0.043979864266858876,
           0.05507722763454761,
           0.002236538819068991,
           0.11571968841234022,
           0.094859655327835,
           0.2955076302693881,
           0.2862014732384553,
           0.3096839152198451,
           0.3172011023347105,
           0.69664876575141,
           0.635734429776419,
           1,
           0.3381814513168685,
           -0.023935175888307916,
           0.26920889701714235
          ],
          [
           0.13597872353012724,
           -0.02351448058360812,
           -0.03846289857632018,
           0.04621808270329078,
           -0.036489584641955106,
           -0.00016570591945575588,
           0.1854947578069954,
           0.16289896197700784,
           0.14349338747672946,
           0.1691535861026482,
           0.11815245833982374,
           0.20115417422819887,
           0.16207937255175792,
           0.21276764865574194,
           0.09543318624408503,
           0.15878491080287618,
           0.1840140864047523,
           0.32111273987104116,
           0.3244339550632918,
           0.48793447542993423,
           0.3381814513168685,
           1,
           0.11367175640417765,
           0.29572754067625345
          ],
          [
           -0.13741467714249087,
           -0.11761601041882046,
           -0.1912651401950974,
           0.10553795153065841,
           0.3096974109777824,
           -0.4289067891363692,
           0.26603586359896886,
           0.11022933076103679,
           0.25159421752707395,
           0.17966406713441127,
           0.2482187717789588,
           0.27001069782834475,
           0.30718113747337483,
           0.31504183637614114,
           -0.03043700121811064,
           -0.08385395137327106,
           -0.19492989746077202,
           -0.12422280350202371,
           -0.03411796970622428,
           0.06461612184864152,
           -0.023935175888307916,
           0.11367175640417765,
           1,
           0.3545361535609185
          ],
          [
           -0.0019613050994948186,
           0.0006159518986365689,
           -0.06990933942952544,
           0.10833414805009514,
           0.24107178003570032,
           -0.2331472700010815,
           0.235916466472166,
           0.19290368534177982,
           0.22829320009725237,
           0.2561269131564129,
           0.1804803058517604,
           0.24143614806649277,
           0.2903775641198487,
           0.31198265400944775,
           0.015381927912487794,
           0.045772136053049785,
           0.03101062920035796,
           0.1158679272712482,
           0.22177798230730067,
           0.2604396850394347,
           0.26920889701714235,
           0.29572754067625345,
           0.3545361535609185,
           1
          ]
         ],
         "zmax": 1,
         "zmin": -1
        }
       ],
       "layout": {
        "height": 800,
        "template": {
         "data": {
          "bar": [
           {
            "error_x": {
             "color": "#2a3f5f"
            },
            "error_y": {
             "color": "#2a3f5f"
            },
            "marker": {
             "line": {
              "color": "#E5ECF6",
              "width": 0.5
             },
             "pattern": {
              "fillmode": "overlay",
              "size": 10,
              "solidity": 0.2
             }
            },
            "type": "bar"
           }
          ],
          "barpolar": [
           {
            "marker": {
             "line": {
              "color": "#E5ECF6",
              "width": 0.5
             },
             "pattern": {
              "fillmode": "overlay",
              "size": 10,
              "solidity": 0.2
             }
            },
            "type": "barpolar"
           }
          ],
          "carpet": [
           {
            "aaxis": {
             "endlinecolor": "#2a3f5f",
             "gridcolor": "white",
             "linecolor": "white",
             "minorgridcolor": "white",
             "startlinecolor": "#2a3f5f"
            },
            "baxis": {
             "endlinecolor": "#2a3f5f",
             "gridcolor": "white",
             "linecolor": "white",
             "minorgridcolor": "white",
             "startlinecolor": "#2a3f5f"
            },
            "type": "carpet"
           }
          ],
          "choropleth": [
           {
            "colorbar": {
             "outlinewidth": 0,
             "ticks": ""
            },
            "type": "choropleth"
           }
          ],
          "contour": [
           {
            "colorbar": {
             "outlinewidth": 0,
             "ticks": ""
            },
            "colorscale": [
             [
              0,
              "#0d0887"
             ],
             [
              0.1111111111111111,
              "#46039f"
             ],
             [
              0.2222222222222222,
              "#7201a8"
             ],
             [
              0.3333333333333333,
              "#9c179e"
             ],
             [
              0.4444444444444444,
              "#bd3786"
             ],
             [
              0.5555555555555556,
              "#d8576b"
             ],
             [
              0.6666666666666666,
              "#ed7953"
             ],
             [
              0.7777777777777778,
              "#fb9f3a"
             ],
             [
              0.8888888888888888,
              "#fdca26"
             ],
             [
              1,
              "#f0f921"
             ]
            ],
            "type": "contour"
           }
          ],
          "contourcarpet": [
           {
            "colorbar": {
             "outlinewidth": 0,
             "ticks": ""
            },
            "type": "contourcarpet"
           }
          ],
          "heatmap": [
           {
            "colorbar": {
             "outlinewidth": 0,
             "ticks": ""
            },
            "colorscale": [
             [
              0,
              "#0d0887"
             ],
             [
              0.1111111111111111,
              "#46039f"
             ],
             [
              0.2222222222222222,
              "#7201a8"
             ],
             [
              0.3333333333333333,
              "#9c179e"
             ],
             [
              0.4444444444444444,
              "#bd3786"
             ],
             [
              0.5555555555555556,
              "#d8576b"
             ],
             [
              0.6666666666666666,
              "#ed7953"
             ],
             [
              0.7777777777777778,
              "#fb9f3a"
             ],
             [
              0.8888888888888888,
              "#fdca26"
             ],
             [
              1,
              "#f0f921"
             ]
            ],
            "type": "heatmap"
           }
          ],
          "heatmapgl": [
           {
            "colorbar": {
             "outlinewidth": 0,
             "ticks": ""
            },
            "colorscale": [
             [
              0,
              "#0d0887"
             ],
             [
              0.1111111111111111,
              "#46039f"
             ],
             [
              0.2222222222222222,
              "#7201a8"
             ],
             [
              0.3333333333333333,
              "#9c179e"
             ],
             [
              0.4444444444444444,
              "#bd3786"
             ],
             [
              0.5555555555555556,
              "#d8576b"
             ],
             [
              0.6666666666666666,
              "#ed7953"
             ],
             [
              0.7777777777777778,
              "#fb9f3a"
             ],
             [
              0.8888888888888888,
              "#fdca26"
             ],
             [
              1,
              "#f0f921"
             ]
            ],
            "type": "heatmapgl"
           }
          ],
          "histogram": [
           {
            "marker": {
             "pattern": {
              "fillmode": "overlay",
              "size": 10,
              "solidity": 0.2
             }
            },
            "type": "histogram"
           }
          ],
          "histogram2d": [
           {
            "colorbar": {
             "outlinewidth": 0,
             "ticks": ""
            },
            "colorscale": [
             [
              0,
              "#0d0887"
             ],
             [
              0.1111111111111111,
              "#46039f"
             ],
             [
              0.2222222222222222,
              "#7201a8"
             ],
             [
              0.3333333333333333,
              "#9c179e"
             ],
             [
              0.4444444444444444,
              "#bd3786"
             ],
             [
              0.5555555555555556,
              "#d8576b"
             ],
             [
              0.6666666666666666,
              "#ed7953"
             ],
             [
              0.7777777777777778,
              "#fb9f3a"
             ],
             [
              0.8888888888888888,
              "#fdca26"
             ],
             [
              1,
              "#f0f921"
             ]
            ],
            "type": "histogram2d"
           }
          ],
          "histogram2dcontour": [
           {
            "colorbar": {
             "outlinewidth": 0,
             "ticks": ""
            },
            "colorscale": [
             [
              0,
              "#0d0887"
             ],
             [
              0.1111111111111111,
              "#46039f"
             ],
             [
              0.2222222222222222,
              "#7201a8"
             ],
             [
              0.3333333333333333,
              "#9c179e"
             ],
             [
              0.4444444444444444,
              "#bd3786"
             ],
             [
              0.5555555555555556,
              "#d8576b"
             ],
             [
              0.6666666666666666,
              "#ed7953"
             ],
             [
              0.7777777777777778,
              "#fb9f3a"
             ],
             [
              0.8888888888888888,
              "#fdca26"
             ],
             [
              1,
              "#f0f921"
             ]
            ],
            "type": "histogram2dcontour"
           }
          ],
          "mesh3d": [
           {
            "colorbar": {
             "outlinewidth": 0,
             "ticks": ""
            },
            "type": "mesh3d"
           }
          ],
          "parcoords": [
           {
            "line": {
             "colorbar": {
              "outlinewidth": 0,
              "ticks": ""
             }
            },
            "type": "parcoords"
           }
          ],
          "pie": [
           {
            "automargin": true,
            "type": "pie"
           }
          ],
          "scatter": [
           {
            "fillpattern": {
             "fillmode": "overlay",
             "size": 10,
             "solidity": 0.2
            },
            "type": "scatter"
           }
          ],
          "scatter3d": [
           {
            "line": {
             "colorbar": {
              "outlinewidth": 0,
              "ticks": ""
             }
            },
            "marker": {
             "colorbar": {
              "outlinewidth": 0,
              "ticks": ""
             }
            },
            "type": "scatter3d"
           }
          ],
          "scattercarpet": [
           {
            "marker": {
             "colorbar": {
              "outlinewidth": 0,
              "ticks": ""
             }
            },
            "type": "scattercarpet"
           }
          ],
          "scattergeo": [
           {
            "marker": {
             "colorbar": {
              "outlinewidth": 0,
              "ticks": ""
             }
            },
            "type": "scattergeo"
           }
          ],
          "scattergl": [
           {
            "marker": {
             "colorbar": {
              "outlinewidth": 0,
              "ticks": ""
             }
            },
            "type": "scattergl"
           }
          ],
          "scattermapbox": [
           {
            "marker": {
             "colorbar": {
              "outlinewidth": 0,
              "ticks": ""
             }
            },
            "type": "scattermapbox"
           }
          ],
          "scatterpolar": [
           {
            "marker": {
             "colorbar": {
              "outlinewidth": 0,
              "ticks": ""
             }
            },
            "type": "scatterpolar"
           }
          ],
          "scatterpolargl": [
           {
            "marker": {
             "colorbar": {
              "outlinewidth": 0,
              "ticks": ""
             }
            },
            "type": "scatterpolargl"
           }
          ],
          "scatterternary": [
           {
            "marker": {
             "colorbar": {
              "outlinewidth": 0,
              "ticks": ""
             }
            },
            "type": "scatterternary"
           }
          ],
          "surface": [
           {
            "colorbar": {
             "outlinewidth": 0,
             "ticks": ""
            },
            "colorscale": [
             [
              0,
              "#0d0887"
             ],
             [
              0.1111111111111111,
              "#46039f"
             ],
             [
              0.2222222222222222,
              "#7201a8"
             ],
             [
              0.3333333333333333,
              "#9c179e"
             ],
             [
              0.4444444444444444,
              "#bd3786"
             ],
             [
              0.5555555555555556,
              "#d8576b"
             ],
             [
              0.6666666666666666,
              "#ed7953"
             ],
             [
              0.7777777777777778,
              "#fb9f3a"
             ],
             [
              0.8888888888888888,
              "#fdca26"
             ],
             [
              1,
              "#f0f921"
             ]
            ],
            "type": "surface"
           }
          ],
          "table": [
           {
            "cells": {
             "fill": {
              "color": "#EBF0F8"
             },
             "line": {
              "color": "white"
             }
            },
            "header": {
             "fill": {
              "color": "#C8D4E3"
             },
             "line": {
              "color": "white"
             }
            },
            "type": "table"
           }
          ]
         },
         "layout": {
          "annotationdefaults": {
           "arrowcolor": "#2a3f5f",
           "arrowhead": 0,
           "arrowwidth": 1
          },
          "autotypenumbers": "strict",
          "coloraxis": {
           "colorbar": {
            "outlinewidth": 0,
            "ticks": ""
           }
          },
          "colorscale": {
           "diverging": [
            [
             0,
             "#8e0152"
            ],
            [
             0.1,
             "#c51b7d"
            ],
            [
             0.2,
             "#de77ae"
            ],
            [
             0.3,
             "#f1b6da"
            ],
            [
             0.4,
             "#fde0ef"
            ],
            [
             0.5,
             "#f7f7f7"
            ],
            [
             0.6,
             "#e6f5d0"
            ],
            [
             0.7,
             "#b8e186"
            ],
            [
             0.8,
             "#7fbc41"
            ],
            [
             0.9,
             "#4d9221"
            ],
            [
             1,
             "#276419"
            ]
           ],
           "sequential": [
            [
             0,
             "#0d0887"
            ],
            [
             0.1111111111111111,
             "#46039f"
            ],
            [
             0.2222222222222222,
             "#7201a8"
            ],
            [
             0.3333333333333333,
             "#9c179e"
            ],
            [
             0.4444444444444444,
             "#bd3786"
            ],
            [
             0.5555555555555556,
             "#d8576b"
            ],
            [
             0.6666666666666666,
             "#ed7953"
            ],
            [
             0.7777777777777778,
             "#fb9f3a"
            ],
            [
             0.8888888888888888,
             "#fdca26"
            ],
            [
             1,
             "#f0f921"
            ]
           ],
           "sequentialminus": [
            [
             0,
             "#0d0887"
            ],
            [
             0.1111111111111111,
             "#46039f"
            ],
            [
             0.2222222222222222,
             "#7201a8"
            ],
            [
             0.3333333333333333,
             "#9c179e"
            ],
            [
             0.4444444444444444,
             "#bd3786"
            ],
            [
             0.5555555555555556,
             "#d8576b"
            ],
            [
             0.6666666666666666,
             "#ed7953"
            ],
            [
             0.7777777777777778,
             "#fb9f3a"
            ],
            [
             0.8888888888888888,
             "#fdca26"
            ],
            [
             1,
             "#f0f921"
            ]
           ]
          },
          "colorway": [
           "#636efa",
           "#EF553B",
           "#00cc96",
           "#ab63fa",
           "#FFA15A",
           "#19d3f3",
           "#FF6692",
           "#B6E880",
           "#FF97FF",
           "#FECB52"
          ],
          "font": {
           "color": "#2a3f5f"
          },
          "geo": {
           "bgcolor": "white",
           "lakecolor": "white",
           "landcolor": "#E5ECF6",
           "showlakes": true,
           "showland": true,
           "subunitcolor": "white"
          },
          "hoverlabel": {
           "align": "left"
          },
          "hovermode": "closest",
          "mapbox": {
           "style": "light"
          },
          "paper_bgcolor": "white",
          "plot_bgcolor": "#E5ECF6",
          "polar": {
           "angularaxis": {
            "gridcolor": "white",
            "linecolor": "white",
            "ticks": ""
           },
           "bgcolor": "#E5ECF6",
           "radialaxis": {
            "gridcolor": "white",
            "linecolor": "white",
            "ticks": ""
           }
          },
          "scene": {
           "xaxis": {
            "backgroundcolor": "#E5ECF6",
            "gridcolor": "white",
            "gridwidth": 2,
            "linecolor": "white",
            "showbackground": true,
            "ticks": "",
            "zerolinecolor": "white"
           },
           "yaxis": {
            "backgroundcolor": "#E5ECF6",
            "gridcolor": "white",
            "gridwidth": 2,
            "linecolor": "white",
            "showbackground": true,
            "ticks": "",
            "zerolinecolor": "white"
           },
           "zaxis": {
            "backgroundcolor": "#E5ECF6",
            "gridcolor": "white",
            "gridwidth": 2,
            "linecolor": "white",
            "showbackground": true,
            "ticks": "",
            "zerolinecolor": "white"
           }
          },
          "shapedefaults": {
           "line": {
            "color": "#2a3f5f"
           }
          },
          "ternary": {
           "aaxis": {
            "gridcolor": "white",
            "linecolor": "white",
            "ticks": ""
           },
           "baxis": {
            "gridcolor": "white",
            "linecolor": "white",
            "ticks": ""
           },
           "bgcolor": "#E5ECF6",
           "caxis": {
            "gridcolor": "white",
            "linecolor": "white",
            "ticks": ""
           }
          },
          "title": {
           "x": 0.05
          },
          "xaxis": {
           "automargin": true,
           "gridcolor": "white",
           "linecolor": "white",
           "ticks": "",
           "title": {
            "standoff": 15
           },
           "zerolinecolor": "white",
           "zerolinewidth": 2
          },
          "yaxis": {
           "automargin": true,
           "gridcolor": "white",
           "linecolor": "white",
           "ticks": "",
           "title": {
            "standoff": 15
           },
           "zerolinecolor": "white",
           "zerolinewidth": 2
          }
         }
        },
        "width": 800
       }
      }
     },
     "metadata": {},
     "output_type": "display_data"
    }
   ],
   "source": [
    "import plotly.express as px\n",
    "import plotly.graph_objects as go\n",
    "continuous_variables = ['age', 'stay', 'japanese', 'english', 'todep', 'tosc', 'apd', 'ahome', 'aph', 'afear', 'acs', 'aguilt', 'amiscell', 'toas', 'partner', 'friends', 'parents', 'relative', 'profess', 'phone', 'doctor', 'reli', 'alone', 'others', 'internet']\n",
    "\n",
    "# Create a subset dataframe only the columns of the continous variables\n",
    "data_cont = mh1[continuous_variables]\n",
    "\n",
    "# Create a pearson correlation\n",
    "data_corr = data_cont.corr(method='pearson')\n",
    "\n",
    "# Build the Heatmap\n",
    "fig = go.Figure(go.Heatmap(x=data_corr.columns, y=data_corr.columns, z=data_corr.values.tolist(), zmin=-1, zmax=1))\n",
    "                \n",
    "# Adjust the plot size\n",
    "fig.update_layout(width=800, height=800)\n",
    "\n",
    "# Show the plot\n",
    "fig.show()"
   ]
  },
  {
   "cell_type": "code",
   "execution_count": 63,
   "metadata": {},
   "outputs": [
    {
     "data": {
      "text/html": [
       "<div>\n",
       "<style scoped>\n",
       "    .dataframe tbody tr th:only-of-type {\n",
       "        vertical-align: middle;\n",
       "    }\n",
       "\n",
       "    .dataframe tbody tr th {\n",
       "        vertical-align: top;\n",
       "    }\n",
       "\n",
       "    .dataframe thead th {\n",
       "        text-align: right;\n",
       "    }\n",
       "</style>\n",
       "<table border=\"1\" class=\"dataframe\">\n",
       "  <thead>\n",
       "    <tr style=\"text-align: right;\">\n",
       "      <th></th>\n",
       "      <th>inter_dom</th>\n",
       "      <th>region</th>\n",
       "      <th>gender</th>\n",
       "      <th>academic</th>\n",
       "      <th>age</th>\n",
       "      <th>age_cate</th>\n",
       "      <th>stay</th>\n",
       "      <th>stay_cate</th>\n",
       "      <th>japanese</th>\n",
       "      <th>japanese_cate</th>\n",
       "      <th>english</th>\n",
       "      <th>english_cate</th>\n",
       "      <th>intimate</th>\n",
       "      <th>religion</th>\n",
       "      <th>suicide</th>\n",
       "      <th>dep</th>\n",
       "      <th>deptype</th>\n",
       "      <th>todep</th>\n",
       "      <th>depsev</th>\n",
       "      <th>tosc</th>\n",
       "      <th>apd</th>\n",
       "      <th>ahome</th>\n",
       "      <th>aph</th>\n",
       "      <th>afear</th>\n",
       "      <th>acs</th>\n",
       "      <th>aguilt</th>\n",
       "      <th>amiscell</th>\n",
       "      <th>toas</th>\n",
       "      <th>partner</th>\n",
       "      <th>friends</th>\n",
       "      <th>parents</th>\n",
       "      <th>relative</th>\n",
       "      <th>profess</th>\n",
       "      <th>phone</th>\n",
       "      <th>doctor</th>\n",
       "      <th>reli</th>\n",
       "      <th>alone</th>\n",
       "      <th>others</th>\n",
       "      <th>internet</th>\n",
       "      <th>partner_bi</th>\n",
       "      <th>friends_bi</th>\n",
       "      <th>parents_bi</th>\n",
       "      <th>relative_bi</th>\n",
       "      <th>professional_bi</th>\n",
       "      <th>phone_bi</th>\n",
       "      <th>doctor_bi</th>\n",
       "      <th>religion_bi</th>\n",
       "      <th>alone_bi</th>\n",
       "      <th>others_bi</th>\n",
       "      <th>internet_bi</th>\n",
       "    </tr>\n",
       "  </thead>\n",
       "  <tbody>\n",
       "    <tr>\n",
       "      <th>0</th>\n",
       "      <td>Inter</td>\n",
       "      <td>SEA</td>\n",
       "      <td>Male</td>\n",
       "      <td>Grad</td>\n",
       "      <td>24</td>\n",
       "      <td>4</td>\n",
       "      <td>5</td>\n",
       "      <td>Long</td>\n",
       "      <td>3</td>\n",
       "      <td>Average</td>\n",
       "      <td>5</td>\n",
       "      <td>High</td>\n",
       "      <td>NaN</td>\n",
       "      <td>Yes</td>\n",
       "      <td>No</td>\n",
       "      <td>No</td>\n",
       "      <td>No</td>\n",
       "      <td>0</td>\n",
       "      <td>Min</td>\n",
       "      <td>34</td>\n",
       "      <td>23</td>\n",
       "      <td>9</td>\n",
       "      <td>11</td>\n",
       "      <td>8</td>\n",
       "      <td>11</td>\n",
       "      <td>2</td>\n",
       "      <td>27</td>\n",
       "      <td>91</td>\n",
       "      <td>5</td>\n",
       "      <td>5</td>\n",
       "      <td>6</td>\n",
       "      <td>3</td>\n",
       "      <td>2</td>\n",
       "      <td>1</td>\n",
       "      <td>4</td>\n",
       "      <td>1</td>\n",
       "      <td>3</td>\n",
       "      <td>4</td>\n",
       "      <td>NaN</td>\n",
       "      <td>Yes</td>\n",
       "      <td>Yes</td>\n",
       "      <td>Yes</td>\n",
       "      <td>No</td>\n",
       "      <td>No</td>\n",
       "      <td>No</td>\n",
       "      <td>No</td>\n",
       "      <td>No</td>\n",
       "      <td>No</td>\n",
       "      <td>No</td>\n",
       "      <td>No</td>\n",
       "    </tr>\n",
       "    <tr>\n",
       "      <th>1</th>\n",
       "      <td>Inter</td>\n",
       "      <td>SEA</td>\n",
       "      <td>Male</td>\n",
       "      <td>Grad</td>\n",
       "      <td>28</td>\n",
       "      <td>5</td>\n",
       "      <td>1</td>\n",
       "      <td>Short</td>\n",
       "      <td>4</td>\n",
       "      <td>High</td>\n",
       "      <td>4</td>\n",
       "      <td>High</td>\n",
       "      <td>NaN</td>\n",
       "      <td>No</td>\n",
       "      <td>No</td>\n",
       "      <td>No</td>\n",
       "      <td>No</td>\n",
       "      <td>2</td>\n",
       "      <td>Min</td>\n",
       "      <td>48</td>\n",
       "      <td>8</td>\n",
       "      <td>7</td>\n",
       "      <td>5</td>\n",
       "      <td>4</td>\n",
       "      <td>3</td>\n",
       "      <td>2</td>\n",
       "      <td>10</td>\n",
       "      <td>39</td>\n",
       "      <td>7</td>\n",
       "      <td>7</td>\n",
       "      <td>7</td>\n",
       "      <td>4</td>\n",
       "      <td>4</td>\n",
       "      <td>4</td>\n",
       "      <td>4</td>\n",
       "      <td>1</td>\n",
       "      <td>1</td>\n",
       "      <td>1</td>\n",
       "      <td>NaN</td>\n",
       "      <td>Yes</td>\n",
       "      <td>Yes</td>\n",
       "      <td>Yes</td>\n",
       "      <td>No</td>\n",
       "      <td>No</td>\n",
       "      <td>No</td>\n",
       "      <td>No</td>\n",
       "      <td>No</td>\n",
       "      <td>No</td>\n",
       "      <td>No</td>\n",
       "      <td>No</td>\n",
       "    </tr>\n",
       "    <tr>\n",
       "      <th>2</th>\n",
       "      <td>Inter</td>\n",
       "      <td>SEA</td>\n",
       "      <td>Male</td>\n",
       "      <td>Grad</td>\n",
       "      <td>25</td>\n",
       "      <td>4</td>\n",
       "      <td>6</td>\n",
       "      <td>Long</td>\n",
       "      <td>4</td>\n",
       "      <td>High</td>\n",
       "      <td>4</td>\n",
       "      <td>High</td>\n",
       "      <td>Yes</td>\n",
       "      <td>Yes</td>\n",
       "      <td>No</td>\n",
       "      <td>No</td>\n",
       "      <td>No</td>\n",
       "      <td>2</td>\n",
       "      <td>Min</td>\n",
       "      <td>41</td>\n",
       "      <td>13</td>\n",
       "      <td>4</td>\n",
       "      <td>7</td>\n",
       "      <td>6</td>\n",
       "      <td>4</td>\n",
       "      <td>3</td>\n",
       "      <td>14</td>\n",
       "      <td>51</td>\n",
       "      <td>3</td>\n",
       "      <td>3</td>\n",
       "      <td>3</td>\n",
       "      <td>1</td>\n",
       "      <td>1</td>\n",
       "      <td>2</td>\n",
       "      <td>1</td>\n",
       "      <td>1</td>\n",
       "      <td>1</td>\n",
       "      <td>1</td>\n",
       "      <td>NaN</td>\n",
       "      <td>No</td>\n",
       "      <td>No</td>\n",
       "      <td>No</td>\n",
       "      <td>No</td>\n",
       "      <td>No</td>\n",
       "      <td>No</td>\n",
       "      <td>No</td>\n",
       "      <td>No</td>\n",
       "      <td>No</td>\n",
       "      <td>No</td>\n",
       "      <td>No</td>\n",
       "    </tr>\n",
       "    <tr>\n",
       "      <th>3</th>\n",
       "      <td>Inter</td>\n",
       "      <td>EA</td>\n",
       "      <td>Female</td>\n",
       "      <td>Grad</td>\n",
       "      <td>29</td>\n",
       "      <td>5</td>\n",
       "      <td>1</td>\n",
       "      <td>Short</td>\n",
       "      <td>2</td>\n",
       "      <td>Low</td>\n",
       "      <td>3</td>\n",
       "      <td>Average</td>\n",
       "      <td>No</td>\n",
       "      <td>No</td>\n",
       "      <td>No</td>\n",
       "      <td>No</td>\n",
       "      <td>No</td>\n",
       "      <td>3</td>\n",
       "      <td>Min</td>\n",
       "      <td>37</td>\n",
       "      <td>16</td>\n",
       "      <td>10</td>\n",
       "      <td>10</td>\n",
       "      <td>8</td>\n",
       "      <td>6</td>\n",
       "      <td>4</td>\n",
       "      <td>21</td>\n",
       "      <td>75</td>\n",
       "      <td>5</td>\n",
       "      <td>5</td>\n",
       "      <td>5</td>\n",
       "      <td>5</td>\n",
       "      <td>5</td>\n",
       "      <td>2</td>\n",
       "      <td>2</td>\n",
       "      <td>2</td>\n",
       "      <td>4</td>\n",
       "      <td>4</td>\n",
       "      <td>NaN</td>\n",
       "      <td>Yes</td>\n",
       "      <td>Yes</td>\n",
       "      <td>Yes</td>\n",
       "      <td>Yes</td>\n",
       "      <td>Yes</td>\n",
       "      <td>No</td>\n",
       "      <td>No</td>\n",
       "      <td>No</td>\n",
       "      <td>No</td>\n",
       "      <td>No</td>\n",
       "      <td>No</td>\n",
       "    </tr>\n",
       "    <tr>\n",
       "      <th>4</th>\n",
       "      <td>Inter</td>\n",
       "      <td>EA</td>\n",
       "      <td>Female</td>\n",
       "      <td>Grad</td>\n",
       "      <td>28</td>\n",
       "      <td>5</td>\n",
       "      <td>1</td>\n",
       "      <td>Short</td>\n",
       "      <td>1</td>\n",
       "      <td>Low</td>\n",
       "      <td>3</td>\n",
       "      <td>Average</td>\n",
       "      <td>Yes</td>\n",
       "      <td>No</td>\n",
       "      <td>No</td>\n",
       "      <td>No</td>\n",
       "      <td>No</td>\n",
       "      <td>3</td>\n",
       "      <td>Min</td>\n",
       "      <td>37</td>\n",
       "      <td>15</td>\n",
       "      <td>12</td>\n",
       "      <td>5</td>\n",
       "      <td>8</td>\n",
       "      <td>7</td>\n",
       "      <td>4</td>\n",
       "      <td>31</td>\n",
       "      <td>82</td>\n",
       "      <td>5</td>\n",
       "      <td>5</td>\n",
       "      <td>5</td>\n",
       "      <td>2</td>\n",
       "      <td>5</td>\n",
       "      <td>2</td>\n",
       "      <td>5</td>\n",
       "      <td>5</td>\n",
       "      <td>4</td>\n",
       "      <td>4</td>\n",
       "      <td>NaN</td>\n",
       "      <td>Yes</td>\n",
       "      <td>Yes</td>\n",
       "      <td>Yes</td>\n",
       "      <td>No</td>\n",
       "      <td>Yes</td>\n",
       "      <td>No</td>\n",
       "      <td>Yes</td>\n",
       "      <td>Yes</td>\n",
       "      <td>No</td>\n",
       "      <td>No</td>\n",
       "      <td>No</td>\n",
       "    </tr>\n",
       "    <tr>\n",
       "      <th>...</th>\n",
       "      <td>...</td>\n",
       "      <td>...</td>\n",
       "      <td>...</td>\n",
       "      <td>...</td>\n",
       "      <td>...</td>\n",
       "      <td>...</td>\n",
       "      <td>...</td>\n",
       "      <td>...</td>\n",
       "      <td>...</td>\n",
       "      <td>...</td>\n",
       "      <td>...</td>\n",
       "      <td>...</td>\n",
       "      <td>...</td>\n",
       "      <td>...</td>\n",
       "      <td>...</td>\n",
       "      <td>...</td>\n",
       "      <td>...</td>\n",
       "      <td>...</td>\n",
       "      <td>...</td>\n",
       "      <td>...</td>\n",
       "      <td>...</td>\n",
       "      <td>...</td>\n",
       "      <td>...</td>\n",
       "      <td>...</td>\n",
       "      <td>...</td>\n",
       "      <td>...</td>\n",
       "      <td>...</td>\n",
       "      <td>...</td>\n",
       "      <td>...</td>\n",
       "      <td>...</td>\n",
       "      <td>...</td>\n",
       "      <td>...</td>\n",
       "      <td>...</td>\n",
       "      <td>...</td>\n",
       "      <td>...</td>\n",
       "      <td>...</td>\n",
       "      <td>...</td>\n",
       "      <td>...</td>\n",
       "      <td>...</td>\n",
       "      <td>...</td>\n",
       "      <td>...</td>\n",
       "      <td>...</td>\n",
       "      <td>...</td>\n",
       "      <td>...</td>\n",
       "      <td>...</td>\n",
       "      <td>...</td>\n",
       "      <td>...</td>\n",
       "      <td>...</td>\n",
       "      <td>...</td>\n",
       "      <td>...</td>\n",
       "    </tr>\n",
       "    <tr>\n",
       "      <th>263</th>\n",
       "      <td>Dom</td>\n",
       "      <td>JAP</td>\n",
       "      <td>Female</td>\n",
       "      <td>Under</td>\n",
       "      <td>21</td>\n",
       "      <td>3</td>\n",
       "      <td>4</td>\n",
       "      <td>Long</td>\n",
       "      <td>5</td>\n",
       "      <td>High</td>\n",
       "      <td>4</td>\n",
       "      <td>High</td>\n",
       "      <td>No</td>\n",
       "      <td>Yes</td>\n",
       "      <td>No</td>\n",
       "      <td>No</td>\n",
       "      <td>No</td>\n",
       "      <td>8</td>\n",
       "      <td>Mild</td>\n",
       "      <td>27</td>\n",
       "      <td>16</td>\n",
       "      <td>9</td>\n",
       "      <td>10</td>\n",
       "      <td>8</td>\n",
       "      <td>7</td>\n",
       "      <td>4</td>\n",
       "      <td>20</td>\n",
       "      <td>74</td>\n",
       "      <td>1</td>\n",
       "      <td>7</td>\n",
       "      <td>5</td>\n",
       "      <td>1</td>\n",
       "      <td>3</td>\n",
       "      <td>3</td>\n",
       "      <td>3</td>\n",
       "      <td>1</td>\n",
       "      <td>1</td>\n",
       "      <td>1</td>\n",
       "      <td>6</td>\n",
       "      <td>No</td>\n",
       "      <td>Yes</td>\n",
       "      <td>Yes</td>\n",
       "      <td>No</td>\n",
       "      <td>No</td>\n",
       "      <td>No</td>\n",
       "      <td>No</td>\n",
       "      <td>No</td>\n",
       "      <td>No</td>\n",
       "      <td>No</td>\n",
       "      <td>Yes</td>\n",
       "    </tr>\n",
       "    <tr>\n",
       "      <th>264</th>\n",
       "      <td>Dom</td>\n",
       "      <td>JAP</td>\n",
       "      <td>Female</td>\n",
       "      <td>Under</td>\n",
       "      <td>22</td>\n",
       "      <td>3</td>\n",
       "      <td>3</td>\n",
       "      <td>Medium</td>\n",
       "      <td>3</td>\n",
       "      <td>Average</td>\n",
       "      <td>4</td>\n",
       "      <td>High</td>\n",
       "      <td>Yes</td>\n",
       "      <td>Yes</td>\n",
       "      <td>No</td>\n",
       "      <td>No</td>\n",
       "      <td>No</td>\n",
       "      <td>2</td>\n",
       "      <td>Min</td>\n",
       "      <td>48</td>\n",
       "      <td>8</td>\n",
       "      <td>10</td>\n",
       "      <td>5</td>\n",
       "      <td>4</td>\n",
       "      <td>3</td>\n",
       "      <td>4</td>\n",
       "      <td>16</td>\n",
       "      <td>50</td>\n",
       "      <td>7</td>\n",
       "      <td>7</td>\n",
       "      <td>7</td>\n",
       "      <td>7</td>\n",
       "      <td>2</td>\n",
       "      <td>2</td>\n",
       "      <td>2</td>\n",
       "      <td>2</td>\n",
       "      <td>2</td>\n",
       "      <td>1</td>\n",
       "      <td>3</td>\n",
       "      <td>Yes</td>\n",
       "      <td>Yes</td>\n",
       "      <td>Yes</td>\n",
       "      <td>Yes</td>\n",
       "      <td>No</td>\n",
       "      <td>No</td>\n",
       "      <td>No</td>\n",
       "      <td>No</td>\n",
       "      <td>No</td>\n",
       "      <td>No</td>\n",
       "      <td>No</td>\n",
       "    </tr>\n",
       "    <tr>\n",
       "      <th>265</th>\n",
       "      <td>Dom</td>\n",
       "      <td>JAP</td>\n",
       "      <td>Female</td>\n",
       "      <td>Under</td>\n",
       "      <td>19</td>\n",
       "      <td>2</td>\n",
       "      <td>1</td>\n",
       "      <td>Short</td>\n",
       "      <td>5</td>\n",
       "      <td>High</td>\n",
       "      <td>3</td>\n",
       "      <td>Average</td>\n",
       "      <td>No</td>\n",
       "      <td>No</td>\n",
       "      <td>No</td>\n",
       "      <td>No</td>\n",
       "      <td>No</td>\n",
       "      <td>9</td>\n",
       "      <td>Mild</td>\n",
       "      <td>47</td>\n",
       "      <td>8</td>\n",
       "      <td>7</td>\n",
       "      <td>5</td>\n",
       "      <td>5</td>\n",
       "      <td>3</td>\n",
       "      <td>2</td>\n",
       "      <td>13</td>\n",
       "      <td>43</td>\n",
       "      <td>5</td>\n",
       "      <td>7</td>\n",
       "      <td>7</td>\n",
       "      <td>6</td>\n",
       "      <td>7</td>\n",
       "      <td>7</td>\n",
       "      <td>7</td>\n",
       "      <td>1</td>\n",
       "      <td>1</td>\n",
       "      <td>1</td>\n",
       "      <td>2</td>\n",
       "      <td>Yes</td>\n",
       "      <td>Yes</td>\n",
       "      <td>Yes</td>\n",
       "      <td>Yes</td>\n",
       "      <td>Yes</td>\n",
       "      <td>Yes</td>\n",
       "      <td>Yes</td>\n",
       "      <td>No</td>\n",
       "      <td>No</td>\n",
       "      <td>No</td>\n",
       "      <td>No</td>\n",
       "    </tr>\n",
       "    <tr>\n",
       "      <th>266</th>\n",
       "      <td>Dom</td>\n",
       "      <td>JAP</td>\n",
       "      <td>Male</td>\n",
       "      <td>Under</td>\n",
       "      <td>19</td>\n",
       "      <td>2</td>\n",
       "      <td>1</td>\n",
       "      <td>Short</td>\n",
       "      <td>5</td>\n",
       "      <td>High</td>\n",
       "      <td>3</td>\n",
       "      <td>Average</td>\n",
       "      <td>No</td>\n",
       "      <td>No</td>\n",
       "      <td>No</td>\n",
       "      <td>No</td>\n",
       "      <td>No</td>\n",
       "      <td>1</td>\n",
       "      <td>Min</td>\n",
       "      <td>43</td>\n",
       "      <td>8</td>\n",
       "      <td>12</td>\n",
       "      <td>5</td>\n",
       "      <td>4</td>\n",
       "      <td>3</td>\n",
       "      <td>2</td>\n",
       "      <td>10</td>\n",
       "      <td>44</td>\n",
       "      <td>7</td>\n",
       "      <td>5</td>\n",
       "      <td>7</td>\n",
       "      <td>5</td>\n",
       "      <td>5</td>\n",
       "      <td>5</td>\n",
       "      <td>5</td>\n",
       "      <td>4</td>\n",
       "      <td>4</td>\n",
       "      <td>4</td>\n",
       "      <td>2</td>\n",
       "      <td>Yes</td>\n",
       "      <td>Yes</td>\n",
       "      <td>Yes</td>\n",
       "      <td>Yes</td>\n",
       "      <td>Yes</td>\n",
       "      <td>Yes</td>\n",
       "      <td>Yes</td>\n",
       "      <td>No</td>\n",
       "      <td>No</td>\n",
       "      <td>No</td>\n",
       "      <td>No</td>\n",
       "    </tr>\n",
       "    <tr>\n",
       "      <th>267</th>\n",
       "      <td>Dom</td>\n",
       "      <td>JAP</td>\n",
       "      <td>Male</td>\n",
       "      <td>Under</td>\n",
       "      <td>20</td>\n",
       "      <td>2</td>\n",
       "      <td>2</td>\n",
       "      <td>Medium</td>\n",
       "      <td>5</td>\n",
       "      <td>High</td>\n",
       "      <td>3</td>\n",
       "      <td>Average</td>\n",
       "      <td>No</td>\n",
       "      <td>No</td>\n",
       "      <td>Yes</td>\n",
       "      <td>No</td>\n",
       "      <td>No</td>\n",
       "      <td>7</td>\n",
       "      <td>Mild</td>\n",
       "      <td>41</td>\n",
       "      <td>14</td>\n",
       "      <td>4</td>\n",
       "      <td>10</td>\n",
       "      <td>7</td>\n",
       "      <td>3</td>\n",
       "      <td>4</td>\n",
       "      <td>19</td>\n",
       "      <td>61</td>\n",
       "      <td>5</td>\n",
       "      <td>6</td>\n",
       "      <td>4</td>\n",
       "      <td>4</td>\n",
       "      <td>4</td>\n",
       "      <td>4</td>\n",
       "      <td>4</td>\n",
       "      <td>4</td>\n",
       "      <td>6</td>\n",
       "      <td>1</td>\n",
       "      <td>3</td>\n",
       "      <td>Yes</td>\n",
       "      <td>Yes</td>\n",
       "      <td>No</td>\n",
       "      <td>No</td>\n",
       "      <td>No</td>\n",
       "      <td>No</td>\n",
       "      <td>No</td>\n",
       "      <td>No</td>\n",
       "      <td>Yes</td>\n",
       "      <td>No</td>\n",
       "      <td>No</td>\n",
       "    </tr>\n",
       "  </tbody>\n",
       "</table>\n",
       "<p>268 rows × 50 columns</p>\n",
       "</div>"
      ],
      "text/plain": [
       "    inter_dom region  gender academic  age  age_cate  stay stay_cate  \\\n",
       "0       Inter    SEA    Male     Grad   24         4     5      Long   \n",
       "1       Inter    SEA    Male     Grad   28         5     1     Short   \n",
       "2       Inter    SEA    Male     Grad   25         4     6      Long   \n",
       "3       Inter     EA  Female     Grad   29         5     1     Short   \n",
       "4       Inter     EA  Female     Grad   28         5     1     Short   \n",
       "..        ...    ...     ...      ...  ...       ...   ...       ...   \n",
       "263       Dom    JAP  Female    Under   21         3     4      Long   \n",
       "264       Dom    JAP  Female    Under   22         3     3    Medium   \n",
       "265       Dom    JAP  Female    Under   19         2     1     Short   \n",
       "266       Dom    JAP    Male    Under   19         2     1     Short   \n",
       "267       Dom    JAP    Male    Under   20         2     2    Medium   \n",
       "\n",
       "     japanese japanese_cate  english english_cate intimate religion suicide  \\\n",
       "0           3       Average        5         High      NaN      Yes      No   \n",
       "1           4          High        4         High      NaN       No      No   \n",
       "2           4          High        4         High      Yes      Yes      No   \n",
       "3           2           Low        3      Average       No       No      No   \n",
       "4           1           Low        3      Average      Yes       No      No   \n",
       "..        ...           ...      ...          ...      ...      ...     ...   \n",
       "263         5          High        4         High       No      Yes      No   \n",
       "264         3       Average        4         High      Yes      Yes      No   \n",
       "265         5          High        3      Average       No       No      No   \n",
       "266         5          High        3      Average       No       No      No   \n",
       "267         5          High        3      Average       No       No     Yes   \n",
       "\n",
       "    dep deptype  todep depsev  tosc  apd  ahome  aph  afear  acs  aguilt  \\\n",
       "0    No      No      0    Min    34   23      9   11      8   11       2   \n",
       "1    No      No      2    Min    48    8      7    5      4    3       2   \n",
       "2    No      No      2    Min    41   13      4    7      6    4       3   \n",
       "3    No      No      3    Min    37   16     10   10      8    6       4   \n",
       "4    No      No      3    Min    37   15     12    5      8    7       4   \n",
       "..   ..     ...    ...    ...   ...  ...    ...  ...    ...  ...     ...   \n",
       "263  No      No      8   Mild    27   16      9   10      8    7       4   \n",
       "264  No      No      2    Min    48    8     10    5      4    3       4   \n",
       "265  No      No      9   Mild    47    8      7    5      5    3       2   \n",
       "266  No      No      1    Min    43    8     12    5      4    3       2   \n",
       "267  No      No      7   Mild    41   14      4   10      7    3       4   \n",
       "\n",
       "     amiscell  toas  partner  friends  parents  relative  profess  phone  \\\n",
       "0          27    91        5        5        6         3        2      1   \n",
       "1          10    39        7        7        7         4        4      4   \n",
       "2          14    51        3        3        3         1        1      2   \n",
       "3          21    75        5        5        5         5        5      2   \n",
       "4          31    82        5        5        5         2        5      2   \n",
       "..        ...   ...      ...      ...      ...       ...      ...    ...   \n",
       "263        20    74        1        7        5         1        3      3   \n",
       "264        16    50        7        7        7         7        2      2   \n",
       "265        13    43        5        7        7         6        7      7   \n",
       "266        10    44        7        5        7         5        5      5   \n",
       "267        19    61        5        6        4         4        4      4   \n",
       "\n",
       "     doctor  reli  alone  others internet partner_bi friends_bi parents_bi  \\\n",
       "0         4     1      3       4      NaN        Yes        Yes        Yes   \n",
       "1         4     1      1       1      NaN        Yes        Yes        Yes   \n",
       "2         1     1      1       1      NaN         No         No         No   \n",
       "3         2     2      4       4      NaN        Yes        Yes        Yes   \n",
       "4         5     5      4       4      NaN        Yes        Yes        Yes   \n",
       "..      ...   ...    ...     ...      ...        ...        ...        ...   \n",
       "263       3     1      1       1        6         No        Yes        Yes   \n",
       "264       2     2      2       1        3        Yes        Yes        Yes   \n",
       "265       7     1      1       1        2        Yes        Yes        Yes   \n",
       "266       5     4      4       4        2        Yes        Yes        Yes   \n",
       "267       4     4      6       1        3        Yes        Yes         No   \n",
       "\n",
       "    relative_bi professional_bi phone_bi doctor_bi religion_bi alone_bi  \\\n",
       "0            No              No       No        No          No       No   \n",
       "1            No              No       No        No          No       No   \n",
       "2            No              No       No        No          No       No   \n",
       "3           Yes             Yes       No        No          No       No   \n",
       "4            No             Yes       No       Yes         Yes       No   \n",
       "..          ...             ...      ...       ...         ...      ...   \n",
       "263          No              No       No        No          No       No   \n",
       "264         Yes              No       No        No          No       No   \n",
       "265         Yes             Yes      Yes       Yes          No       No   \n",
       "266         Yes             Yes      Yes       Yes          No       No   \n",
       "267          No              No       No        No          No      Yes   \n",
       "\n",
       "    others_bi internet_bi  \n",
       "0          No          No  \n",
       "1          No          No  \n",
       "2          No          No  \n",
       "3          No          No  \n",
       "4          No          No  \n",
       "..        ...         ...  \n",
       "263        No         Yes  \n",
       "264        No          No  \n",
       "265        No          No  \n",
       "266        No          No  \n",
       "267        No          No  \n",
       "\n",
       "[268 rows x 50 columns]"
      ]
     },
     "execution_count": 63,
     "metadata": {},
     "output_type": "execute_result"
    }
   ],
   "source": [
    "#Histogram\n",
    "pd.set_option('display.max_columns',None)\n",
    "mh1"
   ]
  },
  {
   "cell_type": "code",
   "execution_count": 74,
   "metadata": {},
   "outputs": [],
   "source": [
    "mh_by_stay_cate = mh1[['stay_cate','gender', 'todep', 'toas', 'tosc']].groupby(['stay_cate','gender']).mean()"
   ]
  },
  {
   "cell_type": "code",
   "execution_count": 96,
   "metadata": {},
   "outputs": [],
   "source": [
    "mh_by_inter = mh1[['inter_dom','age', 'todep', 'toas', 'tosc']].groupby(['inter_dom','age']).mean()"
   ]
  },
  {
   "cell_type": "code",
   "execution_count": 101,
   "metadata": {},
   "outputs": [
    {
     "data": {
      "text/html": [
       "<div>\n",
       "<style scoped>\n",
       "    .dataframe tbody tr th:only-of-type {\n",
       "        vertical-align: middle;\n",
       "    }\n",
       "\n",
       "    .dataframe tbody tr th {\n",
       "        vertical-align: top;\n",
       "    }\n",
       "\n",
       "    .dataframe thead th {\n",
       "        text-align: right;\n",
       "    }\n",
       "</style>\n",
       "<table border=\"1\" class=\"dataframe\">\n",
       "  <thead>\n",
       "    <tr style=\"text-align: right;\">\n",
       "      <th></th>\n",
       "      <th></th>\n",
       "      <th>todep</th>\n",
       "      <th>toas</th>\n",
       "      <th>tosc</th>\n",
       "      <th>age</th>\n",
       "      <th>inter_dom</th>\n",
       "    </tr>\n",
       "    <tr>\n",
       "      <th>inter_dom</th>\n",
       "      <th>age</th>\n",
       "      <th></th>\n",
       "      <th></th>\n",
       "      <th></th>\n",
       "      <th></th>\n",
       "      <th></th>\n",
       "    </tr>\n",
       "  </thead>\n",
       "  <tbody>\n",
       "    <tr>\n",
       "      <th rowspan=\"8\" valign=\"top\">Dom</th>\n",
       "      <th>18</th>\n",
       "      <td>8.333333</td>\n",
       "      <td>64.333333</td>\n",
       "      <td>38.444444</td>\n",
       "      <td>18</td>\n",
       "      <td>Dom</td>\n",
       "    </tr>\n",
       "    <tr>\n",
       "      <th>19</th>\n",
       "      <td>8.900000</td>\n",
       "      <td>67.100000</td>\n",
       "      <td>36.600000</td>\n",
       "      <td>19</td>\n",
       "      <td>Dom</td>\n",
       "    </tr>\n",
       "    <tr>\n",
       "      <th>20</th>\n",
       "      <td>9.470588</td>\n",
       "      <td>62.411765</td>\n",
       "      <td>37.235294</td>\n",
       "      <td>20</td>\n",
       "      <td>Dom</td>\n",
       "    </tr>\n",
       "    <tr>\n",
       "      <th>21</th>\n",
       "      <td>8.666667</td>\n",
       "      <td>58.888889</td>\n",
       "      <td>37.722222</td>\n",
       "      <td>21</td>\n",
       "      <td>Dom</td>\n",
       "    </tr>\n",
       "    <tr>\n",
       "      <th>22</th>\n",
       "      <td>5.428571</td>\n",
       "      <td>53.571429</td>\n",
       "      <td>39.714286</td>\n",
       "      <td>22</td>\n",
       "      <td>Dom</td>\n",
       "    </tr>\n",
       "    <tr>\n",
       "      <th>23</th>\n",
       "      <td>9.000000</td>\n",
       "      <td>79.000000</td>\n",
       "      <td>34.250000</td>\n",
       "      <td>23</td>\n",
       "      <td>Dom</td>\n",
       "    </tr>\n",
       "    <tr>\n",
       "      <th>24</th>\n",
       "      <td>10.000000</td>\n",
       "      <td>67.000000</td>\n",
       "      <td>36.000000</td>\n",
       "      <td>24</td>\n",
       "      <td>Dom</td>\n",
       "    </tr>\n",
       "    <tr>\n",
       "      <th>27</th>\n",
       "      <td>12.000000</td>\n",
       "      <td>81.000000</td>\n",
       "      <td>47.000000</td>\n",
       "      <td>27</td>\n",
       "      <td>Dom</td>\n",
       "    </tr>\n",
       "    <tr>\n",
       "      <th rowspan=\"14\" valign=\"top\">Inter</th>\n",
       "      <th>17</th>\n",
       "      <td>4.666667</td>\n",
       "      <td>70.666667</td>\n",
       "      <td>37.333333</td>\n",
       "      <td>17</td>\n",
       "      <td>Inter</td>\n",
       "    </tr>\n",
       "    <tr>\n",
       "      <th>18</th>\n",
       "      <td>8.750000</td>\n",
       "      <td>80.607143</td>\n",
       "      <td>34.107143</td>\n",
       "      <td>18</td>\n",
       "      <td>Inter</td>\n",
       "    </tr>\n",
       "    <tr>\n",
       "      <th>19</th>\n",
       "      <td>8.439024</td>\n",
       "      <td>74.097561</td>\n",
       "      <td>37.902439</td>\n",
       "      <td>19</td>\n",
       "      <td>Inter</td>\n",
       "    </tr>\n",
       "    <tr>\n",
       "      <th>20</th>\n",
       "      <td>7.352941</td>\n",
       "      <td>73.264706</td>\n",
       "      <td>38.205882</td>\n",
       "      <td>20</td>\n",
       "      <td>Inter</td>\n",
       "    </tr>\n",
       "    <tr>\n",
       "      <th>21</th>\n",
       "      <td>9.230769</td>\n",
       "      <td>75.230769</td>\n",
       "      <td>37.743590</td>\n",
       "      <td>21</td>\n",
       "      <td>Inter</td>\n",
       "    </tr>\n",
       "    <tr>\n",
       "      <th>22</th>\n",
       "      <td>8.357143</td>\n",
       "      <td>70.428571</td>\n",
       "      <td>38.142857</td>\n",
       "      <td>22</td>\n",
       "      <td>Inter</td>\n",
       "    </tr>\n",
       "    <tr>\n",
       "      <th>23</th>\n",
       "      <td>9.666667</td>\n",
       "      <td>81.250000</td>\n",
       "      <td>32.000000</td>\n",
       "      <td>23</td>\n",
       "      <td>Inter</td>\n",
       "    </tr>\n",
       "    <tr>\n",
       "      <th>24</th>\n",
       "      <td>4.666667</td>\n",
       "      <td>74.333333</td>\n",
       "      <td>42.333333</td>\n",
       "      <td>24</td>\n",
       "      <td>Inter</td>\n",
       "    </tr>\n",
       "    <tr>\n",
       "      <th>25</th>\n",
       "      <td>6.111111</td>\n",
       "      <td>80.777778</td>\n",
       "      <td>37.333333</td>\n",
       "      <td>25</td>\n",
       "      <td>Inter</td>\n",
       "    </tr>\n",
       "    <tr>\n",
       "      <th>27</th>\n",
       "      <td>10.000000</td>\n",
       "      <td>42.000000</td>\n",
       "      <td>35.000000</td>\n",
       "      <td>27</td>\n",
       "      <td>Inter</td>\n",
       "    </tr>\n",
       "    <tr>\n",
       "      <th>28</th>\n",
       "      <td>3.333333</td>\n",
       "      <td>71.000000</td>\n",
       "      <td>39.000000</td>\n",
       "      <td>28</td>\n",
       "      <td>Inter</td>\n",
       "    </tr>\n",
       "    <tr>\n",
       "      <th>29</th>\n",
       "      <td>3.750000</td>\n",
       "      <td>63.500000</td>\n",
       "      <td>43.000000</td>\n",
       "      <td>29</td>\n",
       "      <td>Inter</td>\n",
       "    </tr>\n",
       "    <tr>\n",
       "      <th>30</th>\n",
       "      <td>9.333333</td>\n",
       "      <td>97.333333</td>\n",
       "      <td>41.000000</td>\n",
       "      <td>30</td>\n",
       "      <td>Inter</td>\n",
       "    </tr>\n",
       "    <tr>\n",
       "      <th>31</th>\n",
       "      <td>5.750000</td>\n",
       "      <td>80.250000</td>\n",
       "      <td>43.500000</td>\n",
       "      <td>31</td>\n",
       "      <td>Inter</td>\n",
       "    </tr>\n",
       "  </tbody>\n",
       "</table>\n",
       "</div>"
      ],
      "text/plain": [
       "                   todep       toas       tosc  age inter_dom\n",
       "inter_dom age                                                \n",
       "Dom       18    8.333333  64.333333  38.444444   18       Dom\n",
       "          19    8.900000  67.100000  36.600000   19       Dom\n",
       "          20    9.470588  62.411765  37.235294   20       Dom\n",
       "          21    8.666667  58.888889  37.722222   21       Dom\n",
       "          22    5.428571  53.571429  39.714286   22       Dom\n",
       "          23    9.000000  79.000000  34.250000   23       Dom\n",
       "          24   10.000000  67.000000  36.000000   24       Dom\n",
       "          27   12.000000  81.000000  47.000000   27       Dom\n",
       "Inter     17    4.666667  70.666667  37.333333   17     Inter\n",
       "          18    8.750000  80.607143  34.107143   18     Inter\n",
       "          19    8.439024  74.097561  37.902439   19     Inter\n",
       "          20    7.352941  73.264706  38.205882   20     Inter\n",
       "          21    9.230769  75.230769  37.743590   21     Inter\n",
       "          22    8.357143  70.428571  38.142857   22     Inter\n",
       "          23    9.666667  81.250000  32.000000   23     Inter\n",
       "          24    4.666667  74.333333  42.333333   24     Inter\n",
       "          25    6.111111  80.777778  37.333333   25     Inter\n",
       "          27   10.000000  42.000000  35.000000   27     Inter\n",
       "          28    3.333333  71.000000  39.000000   28     Inter\n",
       "          29    3.750000  63.500000  43.000000   29     Inter\n",
       "          30    9.333333  97.333333  41.000000   30     Inter\n",
       "          31    5.750000  80.250000  43.500000   31     Inter"
      ]
     },
     "execution_count": 101,
     "metadata": {},
     "output_type": "execute_result"
    }
   ],
   "source": [
    "mh_by_inter"
   ]
  },
  {
   "cell_type": "code",
   "execution_count": 100,
   "metadata": {},
   "outputs": [],
   "source": [
    "mh_by_inter['age'] = list(mh_by_inter.index.get_level_values('age'))\n",
    "mh_by_inter['inter_dom'] = list(mh_by_inter.index.get_level_values('inter_dom'))"
   ]
  },
  {
   "cell_type": "code",
   "execution_count": null,
   "metadata": {},
   "outputs": [],
   "source": []
  },
  {
   "cell_type": "code",
   "execution_count": 88,
   "metadata": {},
   "outputs": [],
   "source": [
    "mh_by_stay_cate['gender'] = list(mh_by_stay_cate.index.get_level_values('gender'))"
   ]
  },
  {
   "cell_type": "code",
   "execution_count": 90,
   "metadata": {},
   "outputs": [],
   "source": [
    "mh_by_stay_cate['stay_cate'] = list(mh_by_stay_cate.index.get_level_values('stay_cate'))"
   ]
  },
  {
   "cell_type": "code",
   "execution_count": 95,
   "metadata": {},
   "outputs": [
    {
     "data": {
      "application/vnd.plotly.v1+json": {
       "config": {
        "plotlyServerURL": "https://plot.ly"
       },
       "data": [
        {
         "alignmentgroup": "True",
         "hovertemplate": "gender=Female<br>Category of stay=%{x}<br>PHQ_score=%{y}<extra></extra>",
         "legendgroup": "Female",
         "marker": {
          "color": "#636efa",
          "pattern": {
           "shape": ""
          }
         },
         "name": "Female",
         "offsetgroup": "Female",
         "orientation": "v",
         "showlegend": true,
         "textposition": "auto",
         "type": "bar",
         "x": [
          "Long",
          "Medium",
          "Short"
         ],
         "xaxis": "x",
         "y": [
          9.2,
          9.063291139240507,
          7.552631578947368
         ],
         "yaxis": "y"
        },
        {
         "alignmentgroup": "True",
         "hovertemplate": "gender=Male<br>Category of stay=%{x}<br>PHQ_score=%{y}<extra></extra>",
         "legendgroup": "Male",
         "marker": {
          "color": "#EF553B",
          "pattern": {
           "shape": ""
          }
         },
         "name": "Male",
         "offsetgroup": "Male",
         "orientation": "v",
         "showlegend": true,
         "textposition": "auto",
         "type": "bar",
         "x": [
          "Long",
          "Medium",
          "Short"
         ],
         "xaxis": "x",
         "y": [
          6.647058823529412,
          8.142857142857142,
          7.9743589743589745
         ],
         "yaxis": "y"
        }
       ],
       "layout": {
        "barmode": "relative",
        "height": 1000,
        "legend": {
         "title": {
          "text": "gender"
         },
         "tracegroupgap": 0
        },
        "template": {
         "data": {
          "bar": [
           {
            "error_x": {
             "color": "#2a3f5f"
            },
            "error_y": {
             "color": "#2a3f5f"
            },
            "marker": {
             "line": {
              "color": "#E5ECF6",
              "width": 0.5
             },
             "pattern": {
              "fillmode": "overlay",
              "size": 10,
              "solidity": 0.2
             }
            },
            "type": "bar"
           }
          ],
          "barpolar": [
           {
            "marker": {
             "line": {
              "color": "#E5ECF6",
              "width": 0.5
             },
             "pattern": {
              "fillmode": "overlay",
              "size": 10,
              "solidity": 0.2
             }
            },
            "type": "barpolar"
           }
          ],
          "carpet": [
           {
            "aaxis": {
             "endlinecolor": "#2a3f5f",
             "gridcolor": "white",
             "linecolor": "white",
             "minorgridcolor": "white",
             "startlinecolor": "#2a3f5f"
            },
            "baxis": {
             "endlinecolor": "#2a3f5f",
             "gridcolor": "white",
             "linecolor": "white",
             "minorgridcolor": "white",
             "startlinecolor": "#2a3f5f"
            },
            "type": "carpet"
           }
          ],
          "choropleth": [
           {
            "colorbar": {
             "outlinewidth": 0,
             "ticks": ""
            },
            "type": "choropleth"
           }
          ],
          "contour": [
           {
            "colorbar": {
             "outlinewidth": 0,
             "ticks": ""
            },
            "colorscale": [
             [
              0,
              "#0d0887"
             ],
             [
              0.1111111111111111,
              "#46039f"
             ],
             [
              0.2222222222222222,
              "#7201a8"
             ],
             [
              0.3333333333333333,
              "#9c179e"
             ],
             [
              0.4444444444444444,
              "#bd3786"
             ],
             [
              0.5555555555555556,
              "#d8576b"
             ],
             [
              0.6666666666666666,
              "#ed7953"
             ],
             [
              0.7777777777777778,
              "#fb9f3a"
             ],
             [
              0.8888888888888888,
              "#fdca26"
             ],
             [
              1,
              "#f0f921"
             ]
            ],
            "type": "contour"
           }
          ],
          "contourcarpet": [
           {
            "colorbar": {
             "outlinewidth": 0,
             "ticks": ""
            },
            "type": "contourcarpet"
           }
          ],
          "heatmap": [
           {
            "colorbar": {
             "outlinewidth": 0,
             "ticks": ""
            },
            "colorscale": [
             [
              0,
              "#0d0887"
             ],
             [
              0.1111111111111111,
              "#46039f"
             ],
             [
              0.2222222222222222,
              "#7201a8"
             ],
             [
              0.3333333333333333,
              "#9c179e"
             ],
             [
              0.4444444444444444,
              "#bd3786"
             ],
             [
              0.5555555555555556,
              "#d8576b"
             ],
             [
              0.6666666666666666,
              "#ed7953"
             ],
             [
              0.7777777777777778,
              "#fb9f3a"
             ],
             [
              0.8888888888888888,
              "#fdca26"
             ],
             [
              1,
              "#f0f921"
             ]
            ],
            "type": "heatmap"
           }
          ],
          "heatmapgl": [
           {
            "colorbar": {
             "outlinewidth": 0,
             "ticks": ""
            },
            "colorscale": [
             [
              0,
              "#0d0887"
             ],
             [
              0.1111111111111111,
              "#46039f"
             ],
             [
              0.2222222222222222,
              "#7201a8"
             ],
             [
              0.3333333333333333,
              "#9c179e"
             ],
             [
              0.4444444444444444,
              "#bd3786"
             ],
             [
              0.5555555555555556,
              "#d8576b"
             ],
             [
              0.6666666666666666,
              "#ed7953"
             ],
             [
              0.7777777777777778,
              "#fb9f3a"
             ],
             [
              0.8888888888888888,
              "#fdca26"
             ],
             [
              1,
              "#f0f921"
             ]
            ],
            "type": "heatmapgl"
           }
          ],
          "histogram": [
           {
            "marker": {
             "pattern": {
              "fillmode": "overlay",
              "size": 10,
              "solidity": 0.2
             }
            },
            "type": "histogram"
           }
          ],
          "histogram2d": [
           {
            "colorbar": {
             "outlinewidth": 0,
             "ticks": ""
            },
            "colorscale": [
             [
              0,
              "#0d0887"
             ],
             [
              0.1111111111111111,
              "#46039f"
             ],
             [
              0.2222222222222222,
              "#7201a8"
             ],
             [
              0.3333333333333333,
              "#9c179e"
             ],
             [
              0.4444444444444444,
              "#bd3786"
             ],
             [
              0.5555555555555556,
              "#d8576b"
             ],
             [
              0.6666666666666666,
              "#ed7953"
             ],
             [
              0.7777777777777778,
              "#fb9f3a"
             ],
             [
              0.8888888888888888,
              "#fdca26"
             ],
             [
              1,
              "#f0f921"
             ]
            ],
            "type": "histogram2d"
           }
          ],
          "histogram2dcontour": [
           {
            "colorbar": {
             "outlinewidth": 0,
             "ticks": ""
            },
            "colorscale": [
             [
              0,
              "#0d0887"
             ],
             [
              0.1111111111111111,
              "#46039f"
             ],
             [
              0.2222222222222222,
              "#7201a8"
             ],
             [
              0.3333333333333333,
              "#9c179e"
             ],
             [
              0.4444444444444444,
              "#bd3786"
             ],
             [
              0.5555555555555556,
              "#d8576b"
             ],
             [
              0.6666666666666666,
              "#ed7953"
             ],
             [
              0.7777777777777778,
              "#fb9f3a"
             ],
             [
              0.8888888888888888,
              "#fdca26"
             ],
             [
              1,
              "#f0f921"
             ]
            ],
            "type": "histogram2dcontour"
           }
          ],
          "mesh3d": [
           {
            "colorbar": {
             "outlinewidth": 0,
             "ticks": ""
            },
            "type": "mesh3d"
           }
          ],
          "parcoords": [
           {
            "line": {
             "colorbar": {
              "outlinewidth": 0,
              "ticks": ""
             }
            },
            "type": "parcoords"
           }
          ],
          "pie": [
           {
            "automargin": true,
            "type": "pie"
           }
          ],
          "scatter": [
           {
            "fillpattern": {
             "fillmode": "overlay",
             "size": 10,
             "solidity": 0.2
            },
            "type": "scatter"
           }
          ],
          "scatter3d": [
           {
            "line": {
             "colorbar": {
              "outlinewidth": 0,
              "ticks": ""
             }
            },
            "marker": {
             "colorbar": {
              "outlinewidth": 0,
              "ticks": ""
             }
            },
            "type": "scatter3d"
           }
          ],
          "scattercarpet": [
           {
            "marker": {
             "colorbar": {
              "outlinewidth": 0,
              "ticks": ""
             }
            },
            "type": "scattercarpet"
           }
          ],
          "scattergeo": [
           {
            "marker": {
             "colorbar": {
              "outlinewidth": 0,
              "ticks": ""
             }
            },
            "type": "scattergeo"
           }
          ],
          "scattergl": [
           {
            "marker": {
             "colorbar": {
              "outlinewidth": 0,
              "ticks": ""
             }
            },
            "type": "scattergl"
           }
          ],
          "scattermapbox": [
           {
            "marker": {
             "colorbar": {
              "outlinewidth": 0,
              "ticks": ""
             }
            },
            "type": "scattermapbox"
           }
          ],
          "scatterpolar": [
           {
            "marker": {
             "colorbar": {
              "outlinewidth": 0,
              "ticks": ""
             }
            },
            "type": "scatterpolar"
           }
          ],
          "scatterpolargl": [
           {
            "marker": {
             "colorbar": {
              "outlinewidth": 0,
              "ticks": ""
             }
            },
            "type": "scatterpolargl"
           }
          ],
          "scatterternary": [
           {
            "marker": {
             "colorbar": {
              "outlinewidth": 0,
              "ticks": ""
             }
            },
            "type": "scatterternary"
           }
          ],
          "surface": [
           {
            "colorbar": {
             "outlinewidth": 0,
             "ticks": ""
            },
            "colorscale": [
             [
              0,
              "#0d0887"
             ],
             [
              0.1111111111111111,
              "#46039f"
             ],
             [
              0.2222222222222222,
              "#7201a8"
             ],
             [
              0.3333333333333333,
              "#9c179e"
             ],
             [
              0.4444444444444444,
              "#bd3786"
             ],
             [
              0.5555555555555556,
              "#d8576b"
             ],
             [
              0.6666666666666666,
              "#ed7953"
             ],
             [
              0.7777777777777778,
              "#fb9f3a"
             ],
             [
              0.8888888888888888,
              "#fdca26"
             ],
             [
              1,
              "#f0f921"
             ]
            ],
            "type": "surface"
           }
          ],
          "table": [
           {
            "cells": {
             "fill": {
              "color": "#EBF0F8"
             },
             "line": {
              "color": "white"
             }
            },
            "header": {
             "fill": {
              "color": "#C8D4E3"
             },
             "line": {
              "color": "white"
             }
            },
            "type": "table"
           }
          ]
         },
         "layout": {
          "annotationdefaults": {
           "arrowcolor": "#2a3f5f",
           "arrowhead": 0,
           "arrowwidth": 1
          },
          "autotypenumbers": "strict",
          "coloraxis": {
           "colorbar": {
            "outlinewidth": 0,
            "ticks": ""
           }
          },
          "colorscale": {
           "diverging": [
            [
             0,
             "#8e0152"
            ],
            [
             0.1,
             "#c51b7d"
            ],
            [
             0.2,
             "#de77ae"
            ],
            [
             0.3,
             "#f1b6da"
            ],
            [
             0.4,
             "#fde0ef"
            ],
            [
             0.5,
             "#f7f7f7"
            ],
            [
             0.6,
             "#e6f5d0"
            ],
            [
             0.7,
             "#b8e186"
            ],
            [
             0.8,
             "#7fbc41"
            ],
            [
             0.9,
             "#4d9221"
            ],
            [
             1,
             "#276419"
            ]
           ],
           "sequential": [
            [
             0,
             "#0d0887"
            ],
            [
             0.1111111111111111,
             "#46039f"
            ],
            [
             0.2222222222222222,
             "#7201a8"
            ],
            [
             0.3333333333333333,
             "#9c179e"
            ],
            [
             0.4444444444444444,
             "#bd3786"
            ],
            [
             0.5555555555555556,
             "#d8576b"
            ],
            [
             0.6666666666666666,
             "#ed7953"
            ],
            [
             0.7777777777777778,
             "#fb9f3a"
            ],
            [
             0.8888888888888888,
             "#fdca26"
            ],
            [
             1,
             "#f0f921"
            ]
           ],
           "sequentialminus": [
            [
             0,
             "#0d0887"
            ],
            [
             0.1111111111111111,
             "#46039f"
            ],
            [
             0.2222222222222222,
             "#7201a8"
            ],
            [
             0.3333333333333333,
             "#9c179e"
            ],
            [
             0.4444444444444444,
             "#bd3786"
            ],
            [
             0.5555555555555556,
             "#d8576b"
            ],
            [
             0.6666666666666666,
             "#ed7953"
            ],
            [
             0.7777777777777778,
             "#fb9f3a"
            ],
            [
             0.8888888888888888,
             "#fdca26"
            ],
            [
             1,
             "#f0f921"
            ]
           ]
          },
          "colorway": [
           "#636efa",
           "#EF553B",
           "#00cc96",
           "#ab63fa",
           "#FFA15A",
           "#19d3f3",
           "#FF6692",
           "#B6E880",
           "#FF97FF",
           "#FECB52"
          ],
          "font": {
           "color": "#2a3f5f"
          },
          "geo": {
           "bgcolor": "white",
           "lakecolor": "white",
           "landcolor": "#E5ECF6",
           "showlakes": true,
           "showland": true,
           "subunitcolor": "white"
          },
          "hoverlabel": {
           "align": "left"
          },
          "hovermode": "closest",
          "mapbox": {
           "style": "light"
          },
          "paper_bgcolor": "white",
          "plot_bgcolor": "#E5ECF6",
          "polar": {
           "angularaxis": {
            "gridcolor": "white",
            "linecolor": "white",
            "ticks": ""
           },
           "bgcolor": "#E5ECF6",
           "radialaxis": {
            "gridcolor": "white",
            "linecolor": "white",
            "ticks": ""
           }
          },
          "scene": {
           "xaxis": {
            "backgroundcolor": "#E5ECF6",
            "gridcolor": "white",
            "gridwidth": 2,
            "linecolor": "white",
            "showbackground": true,
            "ticks": "",
            "zerolinecolor": "white"
           },
           "yaxis": {
            "backgroundcolor": "#E5ECF6",
            "gridcolor": "white",
            "gridwidth": 2,
            "linecolor": "white",
            "showbackground": true,
            "ticks": "",
            "zerolinecolor": "white"
           },
           "zaxis": {
            "backgroundcolor": "#E5ECF6",
            "gridcolor": "white",
            "gridwidth": 2,
            "linecolor": "white",
            "showbackground": true,
            "ticks": "",
            "zerolinecolor": "white"
           }
          },
          "shapedefaults": {
           "line": {
            "color": "#2a3f5f"
           }
          },
          "ternary": {
           "aaxis": {
            "gridcolor": "white",
            "linecolor": "white",
            "ticks": ""
           },
           "baxis": {
            "gridcolor": "white",
            "linecolor": "white",
            "ticks": ""
           },
           "bgcolor": "#E5ECF6",
           "caxis": {
            "gridcolor": "white",
            "linecolor": "white",
            "ticks": ""
           }
          },
          "title": {
           "x": 0.05
          },
          "xaxis": {
           "automargin": true,
           "gridcolor": "white",
           "linecolor": "white",
           "ticks": "",
           "title": {
            "standoff": 15
           },
           "zerolinecolor": "white",
           "zerolinewidth": 2
          },
          "yaxis": {
           "automargin": true,
           "gridcolor": "white",
           "linecolor": "white",
           "ticks": "",
           "title": {
            "standoff": 15
           },
           "zerolinecolor": "white",
           "zerolinewidth": 2
          }
         }
        },
        "title": {
         "text": "Analysis by Stay category"
        },
        "width": 1000,
        "xaxis": {
         "anchor": "y",
         "domain": [
          0,
          1
         ],
         "title": {
          "text": "Category of stay"
         }
        },
        "yaxis": {
         "anchor": "x",
         "domain": [
          0,
          1
         ],
         "title": {
          "text": "PHQ_score"
         }
        }
       }
      }
     },
     "metadata": {},
     "output_type": "display_data"
    }
   ],
   "source": [
    "fig = px.bar(mh_by_stay_cate, mh_by_stay_cate['stay_cate'],'todep', width = 1000, height= 1000, color='gender',\n",
    "             title = 'Analysis by Stay category', labels = {'stay_cate':'Category of stay','todep':'PHQ_score'})\n",
    "\n",
    "fig.show()\n"
   ]
  },
  {
   "cell_type": "code",
   "execution_count": 103,
   "metadata": {},
   "outputs": [
    {
     "data": {
      "text/html": [
       "<div>\n",
       "<style scoped>\n",
       "    .dataframe tbody tr th:only-of-type {\n",
       "        vertical-align: middle;\n",
       "    }\n",
       "\n",
       "    .dataframe tbody tr th {\n",
       "        vertical-align: top;\n",
       "    }\n",
       "\n",
       "    .dataframe thead th {\n",
       "        text-align: right;\n",
       "    }\n",
       "</style>\n",
       "<table border=\"1\" class=\"dataframe\">\n",
       "  <thead>\n",
       "    <tr style=\"text-align: right;\">\n",
       "      <th></th>\n",
       "      <th></th>\n",
       "      <th>todep</th>\n",
       "      <th>toas</th>\n",
       "      <th>tosc</th>\n",
       "      <th>age</th>\n",
       "      <th>inter_dom</th>\n",
       "    </tr>\n",
       "    <tr>\n",
       "      <th>inter_dom</th>\n",
       "      <th>age</th>\n",
       "      <th></th>\n",
       "      <th></th>\n",
       "      <th></th>\n",
       "      <th></th>\n",
       "      <th></th>\n",
       "    </tr>\n",
       "  </thead>\n",
       "  <tbody>\n",
       "    <tr>\n",
       "      <th rowspan=\"8\" valign=\"top\">Dom</th>\n",
       "      <th>18</th>\n",
       "      <td>8.333333</td>\n",
       "      <td>64.333333</td>\n",
       "      <td>38.444444</td>\n",
       "      <td>18</td>\n",
       "      <td>Dom</td>\n",
       "    </tr>\n",
       "    <tr>\n",
       "      <th>19</th>\n",
       "      <td>8.900000</td>\n",
       "      <td>67.100000</td>\n",
       "      <td>36.600000</td>\n",
       "      <td>19</td>\n",
       "      <td>Dom</td>\n",
       "    </tr>\n",
       "    <tr>\n",
       "      <th>20</th>\n",
       "      <td>9.470588</td>\n",
       "      <td>62.411765</td>\n",
       "      <td>37.235294</td>\n",
       "      <td>20</td>\n",
       "      <td>Dom</td>\n",
       "    </tr>\n",
       "    <tr>\n",
       "      <th>21</th>\n",
       "      <td>8.666667</td>\n",
       "      <td>58.888889</td>\n",
       "      <td>37.722222</td>\n",
       "      <td>21</td>\n",
       "      <td>Dom</td>\n",
       "    </tr>\n",
       "    <tr>\n",
       "      <th>22</th>\n",
       "      <td>5.428571</td>\n",
       "      <td>53.571429</td>\n",
       "      <td>39.714286</td>\n",
       "      <td>22</td>\n",
       "      <td>Dom</td>\n",
       "    </tr>\n",
       "    <tr>\n",
       "      <th>23</th>\n",
       "      <td>9.000000</td>\n",
       "      <td>79.000000</td>\n",
       "      <td>34.250000</td>\n",
       "      <td>23</td>\n",
       "      <td>Dom</td>\n",
       "    </tr>\n",
       "    <tr>\n",
       "      <th>24</th>\n",
       "      <td>10.000000</td>\n",
       "      <td>67.000000</td>\n",
       "      <td>36.000000</td>\n",
       "      <td>24</td>\n",
       "      <td>Dom</td>\n",
       "    </tr>\n",
       "    <tr>\n",
       "      <th>27</th>\n",
       "      <td>12.000000</td>\n",
       "      <td>81.000000</td>\n",
       "      <td>47.000000</td>\n",
       "      <td>27</td>\n",
       "      <td>Dom</td>\n",
       "    </tr>\n",
       "    <tr>\n",
       "      <th rowspan=\"14\" valign=\"top\">Inter</th>\n",
       "      <th>17</th>\n",
       "      <td>4.666667</td>\n",
       "      <td>70.666667</td>\n",
       "      <td>37.333333</td>\n",
       "      <td>17</td>\n",
       "      <td>Inter</td>\n",
       "    </tr>\n",
       "    <tr>\n",
       "      <th>18</th>\n",
       "      <td>8.750000</td>\n",
       "      <td>80.607143</td>\n",
       "      <td>34.107143</td>\n",
       "      <td>18</td>\n",
       "      <td>Inter</td>\n",
       "    </tr>\n",
       "    <tr>\n",
       "      <th>19</th>\n",
       "      <td>8.439024</td>\n",
       "      <td>74.097561</td>\n",
       "      <td>37.902439</td>\n",
       "      <td>19</td>\n",
       "      <td>Inter</td>\n",
       "    </tr>\n",
       "    <tr>\n",
       "      <th>20</th>\n",
       "      <td>7.352941</td>\n",
       "      <td>73.264706</td>\n",
       "      <td>38.205882</td>\n",
       "      <td>20</td>\n",
       "      <td>Inter</td>\n",
       "    </tr>\n",
       "    <tr>\n",
       "      <th>21</th>\n",
       "      <td>9.230769</td>\n",
       "      <td>75.230769</td>\n",
       "      <td>37.743590</td>\n",
       "      <td>21</td>\n",
       "      <td>Inter</td>\n",
       "    </tr>\n",
       "    <tr>\n",
       "      <th>22</th>\n",
       "      <td>8.357143</td>\n",
       "      <td>70.428571</td>\n",
       "      <td>38.142857</td>\n",
       "      <td>22</td>\n",
       "      <td>Inter</td>\n",
       "    </tr>\n",
       "    <tr>\n",
       "      <th>23</th>\n",
       "      <td>9.666667</td>\n",
       "      <td>81.250000</td>\n",
       "      <td>32.000000</td>\n",
       "      <td>23</td>\n",
       "      <td>Inter</td>\n",
       "    </tr>\n",
       "    <tr>\n",
       "      <th>24</th>\n",
       "      <td>4.666667</td>\n",
       "      <td>74.333333</td>\n",
       "      <td>42.333333</td>\n",
       "      <td>24</td>\n",
       "      <td>Inter</td>\n",
       "    </tr>\n",
       "    <tr>\n",
       "      <th>25</th>\n",
       "      <td>6.111111</td>\n",
       "      <td>80.777778</td>\n",
       "      <td>37.333333</td>\n",
       "      <td>25</td>\n",
       "      <td>Inter</td>\n",
       "    </tr>\n",
       "    <tr>\n",
       "      <th>27</th>\n",
       "      <td>10.000000</td>\n",
       "      <td>42.000000</td>\n",
       "      <td>35.000000</td>\n",
       "      <td>27</td>\n",
       "      <td>Inter</td>\n",
       "    </tr>\n",
       "    <tr>\n",
       "      <th>28</th>\n",
       "      <td>3.333333</td>\n",
       "      <td>71.000000</td>\n",
       "      <td>39.000000</td>\n",
       "      <td>28</td>\n",
       "      <td>Inter</td>\n",
       "    </tr>\n",
       "    <tr>\n",
       "      <th>29</th>\n",
       "      <td>3.750000</td>\n",
       "      <td>63.500000</td>\n",
       "      <td>43.000000</td>\n",
       "      <td>29</td>\n",
       "      <td>Inter</td>\n",
       "    </tr>\n",
       "    <tr>\n",
       "      <th>30</th>\n",
       "      <td>9.333333</td>\n",
       "      <td>97.333333</td>\n",
       "      <td>41.000000</td>\n",
       "      <td>30</td>\n",
       "      <td>Inter</td>\n",
       "    </tr>\n",
       "    <tr>\n",
       "      <th>31</th>\n",
       "      <td>5.750000</td>\n",
       "      <td>80.250000</td>\n",
       "      <td>43.500000</td>\n",
       "      <td>31</td>\n",
       "      <td>Inter</td>\n",
       "    </tr>\n",
       "  </tbody>\n",
       "</table>\n",
       "</div>"
      ],
      "text/plain": [
       "                   todep       toas       tosc  age inter_dom\n",
       "inter_dom age                                                \n",
       "Dom       18    8.333333  64.333333  38.444444   18       Dom\n",
       "          19    8.900000  67.100000  36.600000   19       Dom\n",
       "          20    9.470588  62.411765  37.235294   20       Dom\n",
       "          21    8.666667  58.888889  37.722222   21       Dom\n",
       "          22    5.428571  53.571429  39.714286   22       Dom\n",
       "          23    9.000000  79.000000  34.250000   23       Dom\n",
       "          24   10.000000  67.000000  36.000000   24       Dom\n",
       "          27   12.000000  81.000000  47.000000   27       Dom\n",
       "Inter     17    4.666667  70.666667  37.333333   17     Inter\n",
       "          18    8.750000  80.607143  34.107143   18     Inter\n",
       "          19    8.439024  74.097561  37.902439   19     Inter\n",
       "          20    7.352941  73.264706  38.205882   20     Inter\n",
       "          21    9.230769  75.230769  37.743590   21     Inter\n",
       "          22    8.357143  70.428571  38.142857   22     Inter\n",
       "          23    9.666667  81.250000  32.000000   23     Inter\n",
       "          24    4.666667  74.333333  42.333333   24     Inter\n",
       "          25    6.111111  80.777778  37.333333   25     Inter\n",
       "          27   10.000000  42.000000  35.000000   27     Inter\n",
       "          28    3.333333  71.000000  39.000000   28     Inter\n",
       "          29    3.750000  63.500000  43.000000   29     Inter\n",
       "          30    9.333333  97.333333  41.000000   30     Inter\n",
       "          31    5.750000  80.250000  43.500000   31     Inter"
      ]
     },
     "execution_count": 103,
     "metadata": {},
     "output_type": "execute_result"
    }
   ],
   "source": [
    "mh_by_inter"
   ]
  },
  {
   "cell_type": "code",
   "execution_count": 105,
   "metadata": {},
   "outputs": [
    {
     "data": {
      "application/vnd.plotly.v1+json": {
       "config": {
        "plotlyServerURL": "https://plot.ly"
       },
       "data": [
        {
         "alignmentgroup": "True",
         "hovertemplate": "inter_dom=Dom<br>Age of the student=%{x}<br>PHQ_score=%{y}<extra></extra>",
         "legendgroup": "Dom",
         "marker": {
          "color": "#636efa",
          "pattern": {
           "shape": ""
          }
         },
         "name": "Dom",
         "offsetgroup": "Dom",
         "orientation": "v",
         "showlegend": true,
         "textposition": "auto",
         "type": "bar",
         "x": [
          18,
          19,
          20,
          21,
          22,
          23,
          24,
          27
         ],
         "xaxis": "x",
         "y": [
          8.333333333333334,
          8.9,
          9.470588235294118,
          8.666666666666666,
          5.428571428571429,
          9,
          10,
          12
         ],
         "yaxis": "y"
        },
        {
         "alignmentgroup": "True",
         "hovertemplate": "inter_dom=Inter<br>Age of the student=%{x}<br>PHQ_score=%{y}<extra></extra>",
         "legendgroup": "Inter",
         "marker": {
          "color": "#EF553B",
          "pattern": {
           "shape": ""
          }
         },
         "name": "Inter",
         "offsetgroup": "Inter",
         "orientation": "v",
         "showlegend": true,
         "textposition": "auto",
         "type": "bar",
         "x": [
          17,
          18,
          19,
          20,
          21,
          22,
          23,
          24,
          25,
          27,
          28,
          29,
          30,
          31
         ],
         "xaxis": "x",
         "y": [
          4.666666666666667,
          8.75,
          8.439024390243903,
          7.352941176470588,
          9.23076923076923,
          8.357142857142858,
          9.666666666666666,
          4.666666666666667,
          6.111111111111111,
          10,
          3.3333333333333335,
          3.75,
          9.333333333333334,
          5.75
         ],
         "yaxis": "y"
        }
       ],
       "layout": {
        "barmode": "relative",
        "height": 1000,
        "legend": {
         "title": {
          "text": "inter_dom"
         },
         "tracegroupgap": 0
        },
        "template": {
         "data": {
          "bar": [
           {
            "error_x": {
             "color": "#2a3f5f"
            },
            "error_y": {
             "color": "#2a3f5f"
            },
            "marker": {
             "line": {
              "color": "#E5ECF6",
              "width": 0.5
             },
             "pattern": {
              "fillmode": "overlay",
              "size": 10,
              "solidity": 0.2
             }
            },
            "type": "bar"
           }
          ],
          "barpolar": [
           {
            "marker": {
             "line": {
              "color": "#E5ECF6",
              "width": 0.5
             },
             "pattern": {
              "fillmode": "overlay",
              "size": 10,
              "solidity": 0.2
             }
            },
            "type": "barpolar"
           }
          ],
          "carpet": [
           {
            "aaxis": {
             "endlinecolor": "#2a3f5f",
             "gridcolor": "white",
             "linecolor": "white",
             "minorgridcolor": "white",
             "startlinecolor": "#2a3f5f"
            },
            "baxis": {
             "endlinecolor": "#2a3f5f",
             "gridcolor": "white",
             "linecolor": "white",
             "minorgridcolor": "white",
             "startlinecolor": "#2a3f5f"
            },
            "type": "carpet"
           }
          ],
          "choropleth": [
           {
            "colorbar": {
             "outlinewidth": 0,
             "ticks": ""
            },
            "type": "choropleth"
           }
          ],
          "contour": [
           {
            "colorbar": {
             "outlinewidth": 0,
             "ticks": ""
            },
            "colorscale": [
             [
              0,
              "#0d0887"
             ],
             [
              0.1111111111111111,
              "#46039f"
             ],
             [
              0.2222222222222222,
              "#7201a8"
             ],
             [
              0.3333333333333333,
              "#9c179e"
             ],
             [
              0.4444444444444444,
              "#bd3786"
             ],
             [
              0.5555555555555556,
              "#d8576b"
             ],
             [
              0.6666666666666666,
              "#ed7953"
             ],
             [
              0.7777777777777778,
              "#fb9f3a"
             ],
             [
              0.8888888888888888,
              "#fdca26"
             ],
             [
              1,
              "#f0f921"
             ]
            ],
            "type": "contour"
           }
          ],
          "contourcarpet": [
           {
            "colorbar": {
             "outlinewidth": 0,
             "ticks": ""
            },
            "type": "contourcarpet"
           }
          ],
          "heatmap": [
           {
            "colorbar": {
             "outlinewidth": 0,
             "ticks": ""
            },
            "colorscale": [
             [
              0,
              "#0d0887"
             ],
             [
              0.1111111111111111,
              "#46039f"
             ],
             [
              0.2222222222222222,
              "#7201a8"
             ],
             [
              0.3333333333333333,
              "#9c179e"
             ],
             [
              0.4444444444444444,
              "#bd3786"
             ],
             [
              0.5555555555555556,
              "#d8576b"
             ],
             [
              0.6666666666666666,
              "#ed7953"
             ],
             [
              0.7777777777777778,
              "#fb9f3a"
             ],
             [
              0.8888888888888888,
              "#fdca26"
             ],
             [
              1,
              "#f0f921"
             ]
            ],
            "type": "heatmap"
           }
          ],
          "heatmapgl": [
           {
            "colorbar": {
             "outlinewidth": 0,
             "ticks": ""
            },
            "colorscale": [
             [
              0,
              "#0d0887"
             ],
             [
              0.1111111111111111,
              "#46039f"
             ],
             [
              0.2222222222222222,
              "#7201a8"
             ],
             [
              0.3333333333333333,
              "#9c179e"
             ],
             [
              0.4444444444444444,
              "#bd3786"
             ],
             [
              0.5555555555555556,
              "#d8576b"
             ],
             [
              0.6666666666666666,
              "#ed7953"
             ],
             [
              0.7777777777777778,
              "#fb9f3a"
             ],
             [
              0.8888888888888888,
              "#fdca26"
             ],
             [
              1,
              "#f0f921"
             ]
            ],
            "type": "heatmapgl"
           }
          ],
          "histogram": [
           {
            "marker": {
             "pattern": {
              "fillmode": "overlay",
              "size": 10,
              "solidity": 0.2
             }
            },
            "type": "histogram"
           }
          ],
          "histogram2d": [
           {
            "colorbar": {
             "outlinewidth": 0,
             "ticks": ""
            },
            "colorscale": [
             [
              0,
              "#0d0887"
             ],
             [
              0.1111111111111111,
              "#46039f"
             ],
             [
              0.2222222222222222,
              "#7201a8"
             ],
             [
              0.3333333333333333,
              "#9c179e"
             ],
             [
              0.4444444444444444,
              "#bd3786"
             ],
             [
              0.5555555555555556,
              "#d8576b"
             ],
             [
              0.6666666666666666,
              "#ed7953"
             ],
             [
              0.7777777777777778,
              "#fb9f3a"
             ],
             [
              0.8888888888888888,
              "#fdca26"
             ],
             [
              1,
              "#f0f921"
             ]
            ],
            "type": "histogram2d"
           }
          ],
          "histogram2dcontour": [
           {
            "colorbar": {
             "outlinewidth": 0,
             "ticks": ""
            },
            "colorscale": [
             [
              0,
              "#0d0887"
             ],
             [
              0.1111111111111111,
              "#46039f"
             ],
             [
              0.2222222222222222,
              "#7201a8"
             ],
             [
              0.3333333333333333,
              "#9c179e"
             ],
             [
              0.4444444444444444,
              "#bd3786"
             ],
             [
              0.5555555555555556,
              "#d8576b"
             ],
             [
              0.6666666666666666,
              "#ed7953"
             ],
             [
              0.7777777777777778,
              "#fb9f3a"
             ],
             [
              0.8888888888888888,
              "#fdca26"
             ],
             [
              1,
              "#f0f921"
             ]
            ],
            "type": "histogram2dcontour"
           }
          ],
          "mesh3d": [
           {
            "colorbar": {
             "outlinewidth": 0,
             "ticks": ""
            },
            "type": "mesh3d"
           }
          ],
          "parcoords": [
           {
            "line": {
             "colorbar": {
              "outlinewidth": 0,
              "ticks": ""
             }
            },
            "type": "parcoords"
           }
          ],
          "pie": [
           {
            "automargin": true,
            "type": "pie"
           }
          ],
          "scatter": [
           {
            "fillpattern": {
             "fillmode": "overlay",
             "size": 10,
             "solidity": 0.2
            },
            "type": "scatter"
           }
          ],
          "scatter3d": [
           {
            "line": {
             "colorbar": {
              "outlinewidth": 0,
              "ticks": ""
             }
            },
            "marker": {
             "colorbar": {
              "outlinewidth": 0,
              "ticks": ""
             }
            },
            "type": "scatter3d"
           }
          ],
          "scattercarpet": [
           {
            "marker": {
             "colorbar": {
              "outlinewidth": 0,
              "ticks": ""
             }
            },
            "type": "scattercarpet"
           }
          ],
          "scattergeo": [
           {
            "marker": {
             "colorbar": {
              "outlinewidth": 0,
              "ticks": ""
             }
            },
            "type": "scattergeo"
           }
          ],
          "scattergl": [
           {
            "marker": {
             "colorbar": {
              "outlinewidth": 0,
              "ticks": ""
             }
            },
            "type": "scattergl"
           }
          ],
          "scattermapbox": [
           {
            "marker": {
             "colorbar": {
              "outlinewidth": 0,
              "ticks": ""
             }
            },
            "type": "scattermapbox"
           }
          ],
          "scatterpolar": [
           {
            "marker": {
             "colorbar": {
              "outlinewidth": 0,
              "ticks": ""
             }
            },
            "type": "scatterpolar"
           }
          ],
          "scatterpolargl": [
           {
            "marker": {
             "colorbar": {
              "outlinewidth": 0,
              "ticks": ""
             }
            },
            "type": "scatterpolargl"
           }
          ],
          "scatterternary": [
           {
            "marker": {
             "colorbar": {
              "outlinewidth": 0,
              "ticks": ""
             }
            },
            "type": "scatterternary"
           }
          ],
          "surface": [
           {
            "colorbar": {
             "outlinewidth": 0,
             "ticks": ""
            },
            "colorscale": [
             [
              0,
              "#0d0887"
             ],
             [
              0.1111111111111111,
              "#46039f"
             ],
             [
              0.2222222222222222,
              "#7201a8"
             ],
             [
              0.3333333333333333,
              "#9c179e"
             ],
             [
              0.4444444444444444,
              "#bd3786"
             ],
             [
              0.5555555555555556,
              "#d8576b"
             ],
             [
              0.6666666666666666,
              "#ed7953"
             ],
             [
              0.7777777777777778,
              "#fb9f3a"
             ],
             [
              0.8888888888888888,
              "#fdca26"
             ],
             [
              1,
              "#f0f921"
             ]
            ],
            "type": "surface"
           }
          ],
          "table": [
           {
            "cells": {
             "fill": {
              "color": "#EBF0F8"
             },
             "line": {
              "color": "white"
             }
            },
            "header": {
             "fill": {
              "color": "#C8D4E3"
             },
             "line": {
              "color": "white"
             }
            },
            "type": "table"
           }
          ]
         },
         "layout": {
          "annotationdefaults": {
           "arrowcolor": "#2a3f5f",
           "arrowhead": 0,
           "arrowwidth": 1
          },
          "autotypenumbers": "strict",
          "coloraxis": {
           "colorbar": {
            "outlinewidth": 0,
            "ticks": ""
           }
          },
          "colorscale": {
           "diverging": [
            [
             0,
             "#8e0152"
            ],
            [
             0.1,
             "#c51b7d"
            ],
            [
             0.2,
             "#de77ae"
            ],
            [
             0.3,
             "#f1b6da"
            ],
            [
             0.4,
             "#fde0ef"
            ],
            [
             0.5,
             "#f7f7f7"
            ],
            [
             0.6,
             "#e6f5d0"
            ],
            [
             0.7,
             "#b8e186"
            ],
            [
             0.8,
             "#7fbc41"
            ],
            [
             0.9,
             "#4d9221"
            ],
            [
             1,
             "#276419"
            ]
           ],
           "sequential": [
            [
             0,
             "#0d0887"
            ],
            [
             0.1111111111111111,
             "#46039f"
            ],
            [
             0.2222222222222222,
             "#7201a8"
            ],
            [
             0.3333333333333333,
             "#9c179e"
            ],
            [
             0.4444444444444444,
             "#bd3786"
            ],
            [
             0.5555555555555556,
             "#d8576b"
            ],
            [
             0.6666666666666666,
             "#ed7953"
            ],
            [
             0.7777777777777778,
             "#fb9f3a"
            ],
            [
             0.8888888888888888,
             "#fdca26"
            ],
            [
             1,
             "#f0f921"
            ]
           ],
           "sequentialminus": [
            [
             0,
             "#0d0887"
            ],
            [
             0.1111111111111111,
             "#46039f"
            ],
            [
             0.2222222222222222,
             "#7201a8"
            ],
            [
             0.3333333333333333,
             "#9c179e"
            ],
            [
             0.4444444444444444,
             "#bd3786"
            ],
            [
             0.5555555555555556,
             "#d8576b"
            ],
            [
             0.6666666666666666,
             "#ed7953"
            ],
            [
             0.7777777777777778,
             "#fb9f3a"
            ],
            [
             0.8888888888888888,
             "#fdca26"
            ],
            [
             1,
             "#f0f921"
            ]
           ]
          },
          "colorway": [
           "#636efa",
           "#EF553B",
           "#00cc96",
           "#ab63fa",
           "#FFA15A",
           "#19d3f3",
           "#FF6692",
           "#B6E880",
           "#FF97FF",
           "#FECB52"
          ],
          "font": {
           "color": "#2a3f5f"
          },
          "geo": {
           "bgcolor": "white",
           "lakecolor": "white",
           "landcolor": "#E5ECF6",
           "showlakes": true,
           "showland": true,
           "subunitcolor": "white"
          },
          "hoverlabel": {
           "align": "left"
          },
          "hovermode": "closest",
          "mapbox": {
           "style": "light"
          },
          "paper_bgcolor": "white",
          "plot_bgcolor": "#E5ECF6",
          "polar": {
           "angularaxis": {
            "gridcolor": "white",
            "linecolor": "white",
            "ticks": ""
           },
           "bgcolor": "#E5ECF6",
           "radialaxis": {
            "gridcolor": "white",
            "linecolor": "white",
            "ticks": ""
           }
          },
          "scene": {
           "xaxis": {
            "backgroundcolor": "#E5ECF6",
            "gridcolor": "white",
            "gridwidth": 2,
            "linecolor": "white",
            "showbackground": true,
            "ticks": "",
            "zerolinecolor": "white"
           },
           "yaxis": {
            "backgroundcolor": "#E5ECF6",
            "gridcolor": "white",
            "gridwidth": 2,
            "linecolor": "white",
            "showbackground": true,
            "ticks": "",
            "zerolinecolor": "white"
           },
           "zaxis": {
            "backgroundcolor": "#E5ECF6",
            "gridcolor": "white",
            "gridwidth": 2,
            "linecolor": "white",
            "showbackground": true,
            "ticks": "",
            "zerolinecolor": "white"
           }
          },
          "shapedefaults": {
           "line": {
            "color": "#2a3f5f"
           }
          },
          "ternary": {
           "aaxis": {
            "gridcolor": "white",
            "linecolor": "white",
            "ticks": ""
           },
           "baxis": {
            "gridcolor": "white",
            "linecolor": "white",
            "ticks": ""
           },
           "bgcolor": "#E5ECF6",
           "caxis": {
            "gridcolor": "white",
            "linecolor": "white",
            "ticks": ""
           }
          },
          "title": {
           "x": 0.05
          },
          "xaxis": {
           "automargin": true,
           "gridcolor": "white",
           "linecolor": "white",
           "ticks": "",
           "title": {
            "standoff": 15
           },
           "zerolinecolor": "white",
           "zerolinewidth": 2
          },
          "yaxis": {
           "automargin": true,
           "gridcolor": "white",
           "linecolor": "white",
           "ticks": "",
           "title": {
            "standoff": 15
           },
           "zerolinecolor": "white",
           "zerolinewidth": 2
          }
         }
        },
        "title": {
         "text": "Analysis by type of student"
        },
        "width": 1000,
        "xaxis": {
         "anchor": "y",
         "domain": [
          0,
          1
         ],
         "title": {
          "text": "Age of the student"
         }
        },
        "yaxis": {
         "anchor": "x",
         "domain": [
          0,
          1
         ],
         "title": {
          "text": "PHQ_score"
         }
        }
       }
      }
     },
     "metadata": {},
     "output_type": "display_data"
    }
   ],
   "source": [
    "fig = px.bar(mh_by_inter,'age','todep', width = 1000, height= 1000, color='inter_dom',\n",
    "             title = 'Analysis by type of student', labels = {'age':'Age of the student','todep':'PHQ_score'})\n",
    "\n",
    "fig.show()\n"
   ]
  },
  {
   "cell_type": "code",
   "execution_count": null,
   "metadata": {},
   "outputs": [],
   "source": []
  }
 ],
 "metadata": {
  "kernelspec": {
   "display_name": "Python 3",
   "language": "python",
   "name": "python3"
  },
  "language_info": {
   "codemirror_mode": {
    "name": "ipython",
    "version": 3
   },
   "file_extension": ".py",
   "mimetype": "text/x-python",
   "name": "python",
   "nbconvert_exporter": "python",
   "pygments_lexer": "ipython3",
   "version": "3.11.5"
  }
 },
 "nbformat": 4,
 "nbformat_minor": 2
}
